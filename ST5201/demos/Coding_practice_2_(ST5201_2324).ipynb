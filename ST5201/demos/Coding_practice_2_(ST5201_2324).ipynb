{
  "nbformat": 4,
  "nbformat_minor": 0,
  "metadata": {
    "colab": {
      "provenance": []
    },
    "kernelspec": {
      "name": "python3",
      "display_name": "Python 3"
    },
    "language_info": {
      "name": "python"
    }
  },
  "cells": [
    {
      "cell_type": "markdown",
      "source": [
        "## Sampling distribution of collision probability"
      ],
      "metadata": {
        "id": "Kbe0hyzIjikx"
      }
    },
    {
      "cell_type": "code",
      "source": [
        "import numpy as np"
      ],
      "metadata": {
        "id": "NUqjafepxiFy"
      },
      "execution_count": null,
      "outputs": []
    },
    {
      "cell_type": "code",
      "source": [
        "N_samples = 1000\n",
        "def sim(N_samples):\n",
        "  samples_raw = []\n",
        "  for i in range(N_samples):\n",
        "    samples_raw.append(np.random.choice(1000, 50))\n",
        "  samples = [''.join(s.astype(str)) for s in samples_raw]\n",
        "\n",
        "  num_no_collisions = 0\n",
        "  for s in samples_raw:\n",
        "    if len(set(s)) == len(s):\n",
        "      num_no_collisions = num_no_collisions + 1\n",
        "  return 1 - num_no_collisions / N_samples"
      ],
      "metadata": {
        "id": "Iv8s7q_PjiIp"
      },
      "execution_count": null,
      "outputs": []
    },
    {
      "cell_type": "code",
      "source": [
        "res = sim(N_samples)"
      ],
      "metadata": {
        "id": "QKuXf90Dx4dy"
      },
      "execution_count": null,
      "outputs": []
    },
    {
      "cell_type": "code",
      "source": [
        "print('Experimental collision probability', res)"
      ],
      "metadata": {
        "id": "vJySDtAvjvBP",
        "colab": {
          "base_uri": "https://localhost:8080/"
        },
        "outputId": "48402c05-d012-464a-e801-15188bd9b65f"
      },
      "execution_count": null,
      "outputs": [
        {
          "output_type": "stream",
          "name": "stdout",
          "text": [
            "Experimental collision probability 0.7\n"
          ]
        }
      ]
    },
    {
      "cell_type": "code",
      "source": [
        "N_sims = 1000\n",
        "results = []\n",
        "for i in range(N_sims):\n",
        "  results.append(sim(N_samples))"
      ],
      "metadata": {
        "id": "4xXnYjf7l61I"
      },
      "execution_count": null,
      "outputs": []
    },
    {
      "cell_type": "code",
      "source": [
        "import matplotlib.pyplot as plt"
      ],
      "metadata": {
        "id": "UzzQ0QNoyVo-"
      },
      "execution_count": null,
      "outputs": []
    },
    {
      "cell_type": "code",
      "source": [
        "plt.hist(results, bins=100)"
      ],
      "metadata": {
        "colab": {
          "base_uri": "https://localhost:8080/",
          "height": 640
        },
        "id": "EYD2XwO7yQ9G",
        "outputId": "8e02525d-f099-4875-bf03-66e977939855"
      },
      "execution_count": null,
      "outputs": [
        {
          "output_type": "execute_result",
          "data": {
            "text/plain": [
              "(array([ 3.,  0.,  0.,  0.,  0.,  0.,  0.,  0.,  0.,  8.,  0.,  0.,  0.,\n",
              "        12.,  0.,  0., 15.,  0.,  0.,  0., 17.,  0.,  0., 22.,  0.,  0.,\n",
              "        33.,  0.,  0., 44.,  0.,  0.,  0., 50.,  0.,  0., 66.,  0.,  0.,\n",
              "        85.,  0.,  0.,  0., 73.,  0.,  0., 91.,  0.,  0.,  0., 81.,  0.,\n",
              "         0., 72.,  0.,  0., 82.,  0.,  0.,  0., 64.,  0.,  0., 51.,  0.,\n",
              "         0., 35.,  0.,  0.,  0., 34.,  0.,  0., 27.,  0.,  0., 11.,  0.,\n",
              "         0.,  0., 10.,  0.,  0.,  4.,  0.,  0.,  6.,  0.,  0.,  0.,  3.,\n",
              "         0.,  0.,  0.,  0.,  0.,  0.,  0.,  0.,  1.]),\n",
              " array([0.57 , 0.573, 0.576, 0.579, 0.582, 0.585, 0.588, 0.591, 0.594,\n",
              "        0.597, 0.6  , 0.603, 0.606, 0.609, 0.612, 0.615, 0.618, 0.621,\n",
              "        0.624, 0.627, 0.63 , 0.633, 0.636, 0.639, 0.642, 0.645, 0.648,\n",
              "        0.651, 0.654, 0.657, 0.66 , 0.663, 0.666, 0.669, 0.672, 0.675,\n",
              "        0.678, 0.681, 0.684, 0.687, 0.69 , 0.693, 0.696, 0.699, 0.702,\n",
              "        0.705, 0.708, 0.711, 0.714, 0.717, 0.72 , 0.723, 0.726, 0.729,\n",
              "        0.732, 0.735, 0.738, 0.741, 0.744, 0.747, 0.75 , 0.753, 0.756,\n",
              "        0.759, 0.762, 0.765, 0.768, 0.771, 0.774, 0.777, 0.78 , 0.783,\n",
              "        0.786, 0.789, 0.792, 0.795, 0.798, 0.801, 0.804, 0.807, 0.81 ,\n",
              "        0.813, 0.816, 0.819, 0.822, 0.825, 0.828, 0.831, 0.834, 0.837,\n",
              "        0.84 , 0.843, 0.846, 0.849, 0.852, 0.855, 0.858, 0.861, 0.864,\n",
              "        0.867, 0.87 ]),\n",
              " <a list of 100 Patch objects>)"
            ]
          },
          "metadata": {},
          "execution_count": 46
        },
        {
          "output_type": "display_data",
          "data": {
            "text/plain": [
              "<Figure size 432x288 with 1 Axes>"
            ],
            "image/png": "[encoded data removed]"
          },
          "metadata": {
            "needs_background": "light"
          }
        }
      ]
    },
    {
      "cell_type": "code",
      "source": [
        "plt.hist(results, bins=100)"
      ],
      "metadata": {
        "id": "gIoYyRuNynNE",
        "colab": {
          "base_uri": "https://localhost:8080/"
        },
        "outputId": "e322e063-3b21-4c25-ee39-f9d192ea6316"
      },
      "execution_count": null,
      "outputs": [
        {
          "output_type": "execute_result",
          "data": {
            "text/plain": [
              "(array([ 1.,  0.,  0.,  0.,  0.,  0.,  1.,  0.,  0.,  0.,  0.,  1.,  1.,\n",
              "         2.,  1.,  2.,  1.,  1.,  2.,  4.,  1.,  1.,  0.,  2.,  4.,  8.,\n",
              "         5.,  9.,  7.,  7., 17., 13., 14., 10., 20., 19., 11., 17., 28.,\n",
              "        21., 23., 23., 16., 25., 20., 20., 32., 23., 24., 32., 54., 26.,\n",
              "        29., 26., 28., 31., 29., 20., 21., 22., 26., 19., 20., 16., 24.,\n",
              "        12.,  9., 13., 13.,  8.,  9., 10., 11., 10.,  5.,  3.,  5.,  4.,\n",
              "         1.,  4.,  6.,  4.,  1.,  1.,  4.,  2.,  0.,  1.,  0.,  1.,  1.,\n",
              "         0.,  0.,  0.,  0.,  1.,  0.,  0.,  0.,  1.]),\n",
              " array([0.661  , 0.66202, 0.66304, 0.66406, 0.66508, 0.6661 , 0.66712,\n",
              "        0.66814, 0.66916, 0.67018, 0.6712 , 0.67222, 0.67324, 0.67426,\n",
              "        0.67528, 0.6763 , 0.67732, 0.67834, 0.67936, 0.68038, 0.6814 ,\n",
              "        0.68242, 0.68344, 0.68446, 0.68548, 0.6865 , 0.68752, 0.68854,\n",
              "        0.68956, 0.69058, 0.6916 , 0.69262, 0.69364, 0.69466, 0.69568,\n",
              "        0.6967 , 0.69772, 0.69874, 0.69976, 0.70078, 0.7018 , 0.70282,\n",
              "        0.70384, 0.70486, 0.70588, 0.7069 , 0.70792, 0.70894, 0.70996,\n",
              "        0.71098, 0.712  , 0.71302, 0.71404, 0.71506, 0.71608, 0.7171 ,\n",
              "        0.71812, 0.71914, 0.72016, 0.72118, 0.7222 , 0.72322, 0.72424,\n",
              "        0.72526, 0.72628, 0.7273 , 0.72832, 0.72934, 0.73036, 0.73138,\n",
              "        0.7324 , 0.73342, 0.73444, 0.73546, 0.73648, 0.7375 , 0.73852,\n",
              "        0.73954, 0.74056, 0.74158, 0.7426 , 0.74362, 0.74464, 0.74566,\n",
              "        0.74668, 0.7477 , 0.74872, 0.74974, 0.75076, 0.75178, 0.7528 ,\n",
              "        0.75382, 0.75484, 0.75586, 0.75688, 0.7579 , 0.75892, 0.75994,\n",
              "        0.76096, 0.76198, 0.763  ]),\n",
              " <a list of 100 Patch objects>)"
            ]
          },
          "metadata": {},
          "execution_count": 51
        },
        {
          "output_type": "display_data",
          "data": {
            "text/plain": [
              "<Figure size 432x288 with 1 Axes>"
            ],
            "image/png": "[encoded data removed]"
          },
          "metadata": {
            "needs_background": "light"
          }
        }
      ]
    },
    {
      "cell_type": "code",
      "source": [],
      "metadata": {
        "id": "x2oVpV7HSX6-"
      },
      "execution_count": null,
      "outputs": []
    }
  ]
}