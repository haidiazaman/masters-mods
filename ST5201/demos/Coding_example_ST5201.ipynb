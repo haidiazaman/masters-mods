{
  "nbformat": 4,
  "nbformat_minor": 0,
  "metadata": {
    "colab": {
      "provenance": []
    },
    "kernelspec": {
      "name": "python3",
      "display_name": "Python 3"
    },
    "language_info": {
      "name": "python"
    }
  },
  "cells": [
    {
      "cell_type": "markdown",
      "source": [
        "# Coding practice"
      ],
      "metadata": {
        "id": "2Z1rueKN31aS"
      }
    },
    {
      "cell_type": "markdown",
      "source": [
        "## Normal distribution\n",
        "Refer to assessment 1."
      ],
      "metadata": {
        "id": "V17TX-CU2G4Q"
      }
    },
    {
      "cell_type": "code",
      "execution_count": null,
      "metadata": {
        "id": "JUG0Ge571u3S"
      },
      "outputs": [],
      "source": [
        "import scipy.stats"
      ]
    },
    {
      "cell_type": "markdown",
      "source": [
        "Normally distributed with mean 161, sigma 32"
      ],
      "metadata": {
        "id": "fQjzgS4i7OUC"
      }
    },
    {
      "cell_type": "code",
      "source": [
        "dist = scipy.stats.norm(161, 32)"
      ],
      "metadata": {
        "id": "YpJDUGKM2K7u"
      },
      "execution_count": null,
      "outputs": []
    },
    {
      "cell_type": "markdown",
      "source": [
        "P(900 < dist < 1120)"
      ],
      "metadata": {
        "id": "u15yEf7b7Tiq"
      }
    },
    {
      "cell_type": "code",
      "source": [
        "dist.cdf(200) - dist.cdf(120)"
      ],
      "metadata": {
        "id": "825xTJf81yvi"
      },
      "execution_count": null,
      "outputs": []
    },
    {
      "cell_type": "markdown",
      "source": [
        "Find x where 10% has dist > x."
      ],
      "metadata": {
        "id": "bSgQNYbD7cP0"
      }
    },
    {
      "cell_type": "code",
      "source": [
        "dist.ppf(0.9)"
      ],
      "metadata": {
        "id": "_izkZWJh102o"
      },
      "execution_count": null,
      "outputs": []
    },
    {
      "cell_type": "markdown",
      "source": [
        "## Binomial distribution"
      ],
      "metadata": {
        "id": "p4CA7ePPAULZ"
      }
    },
    {
      "cell_type": "code",
      "source": [
        "n = 6\n",
        "p = 0.6\n",
        "\n",
        "r_values = list(range(n + 1))\n",
        "\n",
        "mean, var = scipy.stats.binom.stats(n, p)\n",
        "dist = scipy.stats.binom(n, p)\n",
        "\n",
        "d = [dist.pmf(r) for r in r_values ]\n",
        "\n",
        "print(\"r\\tp(r)\")\n",
        "for i in range(n + 1):\n",
        "    print(str(r_values[i]) + \"\\t\" + str(d[i]))\n",
        "\n",
        "print(\"mean = \"+str(mean))\n",
        "print(\"variance = \"+str(var))"
      ],
      "metadata": {
        "id": "cqOF1KQS2azs"
      },
      "execution_count": null,
      "outputs": []
    },
    {
      "cell_type": "markdown",
      "source": [
        "P(dist <= 4)"
      ],
      "metadata": {
        "id": "1JLF_rcdBhPJ"
      }
    },
    {
      "cell_type": "code",
      "source": [
        "dist.cdf(4)"
      ],
      "metadata": {
        "id": "YUxZy9RbBKbv"
      },
      "execution_count": null,
      "outputs": []
    },
    {
      "cell_type": "markdown",
      "source": [
        "Plot how the distribution looks like"
      ],
      "metadata": {
        "id": "D9dW_NloTKX3"
      }
    },
    {
      "cell_type": "code",
      "source": [
        "import matplotlib.pyplot as plt\n",
        "plt.bar(r_values, d)\n",
        "plt.show()"
      ],
      "metadata": {
        "id": "C6yHe1faA-FB"
      },
      "execution_count": null,
      "outputs": []
    },
    {
      "cell_type": "markdown",
      "source": [
        "## Other distributions\n",
        "Refer to https://docs.scipy.org/doc/scipy/reference/stats.html"
      ],
      "metadata": {
        "id": "jkxC3bZ-SsSo"
      }
    },
    {
      "cell_type": "markdown",
      "source": [
        "## Sampling - Empirical vs theoretial mean"
      ],
      "metadata": {
        "id": "pSj0cR0l3cCx"
      }
    },
    {
      "cell_type": "markdown",
      "source": [
        "Consider flipping 3 coins. Generate N = 100 samples of 3 coin flips."
      ],
      "metadata": {
        "id": "ui-m3ehB3-p0"
      }
    },
    {
      "cell_type": "code",
      "source": [
        "import numpy as np"
      ],
      "metadata": {
        "id": "BeSrmdlb3bha"
      },
      "execution_count": null,
      "outputs": []
    },
    {
      "cell_type": "code",
      "source": [
        "np.random.choice(2, 3)"
      ],
      "metadata": {
        "id": "UvCqL10v3ert"
      },
      "execution_count": null,
      "outputs": []
    },
    {
      "cell_type": "code",
      "source": [
        "N_samples = 100\n",
        "samples_raw = []\n",
        "for i in range(N_samples):\n",
        "  samples_raw.append(np.random.choice(2, 3))\n",
        "print(samples_raw[:5])\n",
        "samples = [''.join(s.astype(str)) for s in samples_raw]\n",
        "print(samples[:5])"
      ],
      "metadata": {
        "id": "sMNVVHOd3h95"
      },
      "execution_count": null,
      "outputs": []
    },
    {
      "cell_type": "code",
      "source": [
        "# or equivalently\n",
        "samples_raw2 = np.random.choice(2, N_samples*3).reshape(-1, 3)\n",
        "print(samples_raw2[:5])\n",
        "samples2 = [''.join(s.astype(str)) for s in samples_raw2]\n",
        "print(samples2[:5])"
      ],
      "metadata": {
        "id": "3nSPwXoo8q70"
      },
      "execution_count": null,
      "outputs": []
    },
    {
      "cell_type": "markdown",
      "source": [
        "What is the cardinality of the sample space? (empirical estimate)"
      ],
      "metadata": {
        "id": "qTO91Z-I4J_V"
      }
    },
    {
      "cell_type": "code",
      "source": [
        "# Since sample size is large enough, fortunately it covers the whole sample space.\n",
        "sample_space = set(samples)\n",
        "sample_space"
      ],
      "metadata": {
        "id": "wWY70IOJ4rNF"
      },
      "execution_count": null,
      "outputs": []
    },
    {
      "cell_type": "code",
      "source": [
        "# Since samples cover the sample space, the cardinality is same as the theoretical one\n",
        "empirical_cardinality = len(set(samples))\n",
        "theoretical_cardinality = 2**3\n",
        "empirical_cardinality, theoretical_cardinality"
      ],
      "metadata": {
        "id": "Zk3c1J0V4rps"
      },
      "execution_count": null,
      "outputs": []
    },
    {
      "cell_type": "markdown",
      "source": [
        "What is the probability of obtaining 2 heads (i.e. 1's)? (empirical)"
      ],
      "metadata": {
        "id": "TLPji0XF5Uiy"
      }
    },
    {
      "cell_type": "code",
      "source": [
        "num_2_heads = 0\n",
        "for s in samples_raw:\n",
        "  if sum(s) == 2:\n",
        "    num_2_heads = num_2_heads + 1"
      ],
      "metadata": {
        "id": "mGOm0mQe5QU5"
      },
      "execution_count": null,
      "outputs": []
    },
    {
      "cell_type": "code",
      "source": [
        "print('Experimental probability', num_2_heads / N_samples)"
      ],
      "metadata": {
        "id": "SAOmzjya6DWy"
      },
      "execution_count": null,
      "outputs": []
    },
    {
      "cell_type": "markdown",
      "source": [
        "Theoretical probability (by counting method over theoretical sample space)"
      ],
      "metadata": {
        "id": "RwXbhGZJVVtn"
      }
    },
    {
      "cell_type": "code",
      "source": [
        "event_2_heads = [i for i in sample_space if sum([int(c) for c in i]) == 2]\n",
        "print('Sample space:', sample_space)\n",
        "print('Event with 2 heads: ', event_2_heads)\n",
        "print('Theoretical probability = number of events with 2 heads / cardinality' , len(event_2_heads) / theoretical_cardinality)"
      ],
      "metadata": {
        "id": "4bL7zgjC6FOA"
      },
      "execution_count": null,
      "outputs": []
    },
    {
      "cell_type": "code",
      "source": [],
      "metadata": {
        "id": "bFfL8hf22-f_"
      },
      "execution_count": null,
      "outputs": []
    }
  ]
}