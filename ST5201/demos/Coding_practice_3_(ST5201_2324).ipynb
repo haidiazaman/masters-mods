{
  "nbformat": 4,
  "nbformat_minor": 0,
  "metadata": {
    "colab": {
      "provenance": []
    },
    "kernelspec": {
      "name": "python3",
      "display_name": "Python 3"
    },
    "language_info": {
      "name": "python"
    }
  },
  "cells": [
    {
      "cell_type": "markdown",
      "source": [
        "## Confidence interval"
      ],
      "metadata": {
        "id": "Kbe0hyzIjikx"
      }
    },
    {
      "cell_type": "markdown",
      "source": [
        "Construct CI using sample estimate and parametric model"
      ],
      "metadata": {
        "id": "ocsO-9ny_9Gw"
      }
    },
    {
      "cell_type": "code",
      "source": [
        "import numpy as np\n",
        "from scipy.stats import poisson"
      ],
      "metadata": {
        "id": "NUqjafepxiFy"
      },
      "execution_count": null,
      "outputs": []
    },
    {
      "cell_type": "code",
      "source": [
        "# generate from measured sample\n",
        "B = 1000\n",
        "sample = np.array([4, 4, 5, 8, 3, 8, 9, 6, 6, 2])\n",
        "x = poisson.rvs(sample.mean(), size=len(sample) * B).reshape(B, -1)\n",
        "print(\"shape: \", x.shape)\n",
        "print(\"first three batches: \\n\", x[:3])"
      ],
      "metadata": {
        "id": "x2oVpV7HSX6-",
        "colab": {
          "base_uri": "https://localhost:8080/"
        },
        "outputId": "86a8ec6a-2292-4db6-a25e-fb5d1c912420"
      },
      "execution_count": null,
      "outputs": [
        {
          "output_type": "stream",
          "name": "stdout",
          "text": [
            "shape:  (1000, 10)\n",
            "first three batches: \n",
            " [[ 2  7  4  3  3  3  8  9  5  7]\n",
            " [ 5  8  2  5  2 11  7  6  4  4]\n",
            " [ 4  8  7  2  8  7  7  6  3  6]]\n"
          ]
        }
      ]
    },
    {
      "cell_type": "code",
      "source": [
        "delta_b = x.mean(axis=1) - sample.mean()\n",
        "len(delta_b), delta_b[:3]"
      ],
      "metadata": {
        "colab": {
          "base_uri": "https://localhost:8080/"
        },
        "id": "Ux3gNGGs6DJ9",
        "outputId": "65061f1f-99e0-4013-94bf-b515c41dca70"
      },
      "execution_count": null,
      "outputs": [
        {
          "output_type": "execute_result",
          "data": {
            "text/plain": [
              "(1000, array([-0.7, -0.1,  0.6]))"
            ]
          },
          "metadata": {},
          "execution_count": 26
        }
      ]
    },
    {
      "cell_type": "code",
      "source": [
        "alpha = 0.1\n",
        "L, U = np.percentile(delta_b, [100*alpha/2, 100*(1-alpha/2)])\n",
        "L, U"
      ],
      "metadata": {
        "colab": {
          "base_uri": "https://localhost:8080/"
        },
        "id": "zTY29vPt74RI",
        "outputId": "8c1484a8-bf9f-4602-b8fb-f8a7b98825aa"
      },
      "execution_count": null,
      "outputs": [
        {
          "output_type": "execute_result",
          "data": {
            "text/plain": [
              "(-1.2000000000000002, 1.2000000000000002)"
            ]
          },
          "metadata": {},
          "execution_count": 27
        }
      ]
    },
    {
      "cell_type": "code",
      "source": [
        "CI = (sample.mean() - U, sample.mean() - L)\n",
        "CI"
      ],
      "metadata": {
        "colab": {
          "base_uri": "https://localhost:8080/"
        },
        "id": "a__MQwZG8E0w",
        "outputId": "f99584fc-7ba1-47d8-ff55-773814b73e3b"
      },
      "execution_count": null,
      "outputs": [
        {
          "output_type": "execute_result",
          "data": {
            "text/plain": [
              "(4.3, 6.7)"
            ]
          },
          "metadata": {},
          "execution_count": 28
        }
      ]
    },
    {
      "cell_type": "code",
      "source": [
        "import matplotlib.pyplot as plt\n",
        "plt.hist(delta_b, bins=100)\n",
        "plt.axvline(x = L, color = 'r')\n",
        "plt.axvline(x = U, color = 'r')\n",
        "plt.title('Plot of delta and 5th and 95th percentile')\n",
        "plt.show()"
      ],
      "metadata": {
        "colab": {
          "base_uri": "https://localhost:8080/",
          "height": 281
        },
        "id": "LaSo1ACn9X29",
        "outputId": "fab2346e-962d-4ff9-d5b6-6feb23966752"
      },
      "execution_count": null,
      "outputs": [
        {
          "output_type": "display_data",
          "data": {
            "text/plain": [
              "<Figure size 432x288 with 1 Axes>"
            ],
            "image/png": "[encoded data removed]"
          },
          "metadata": {
            "needs_background": "light"
          }
        }
      ]
    },
    {
      "cell_type": "markdown",
      "source": [
        "Construct CI with resampling"
      ],
      "metadata": {
        "id": "HBSz0kSOAD1w"
      }
    },
    {
      "cell_type": "code",
      "source": [
        "y = np.random.choice(sample, size=[B, len(sample)])\n",
        "len(y), y[:3]"
      ],
      "metadata": {
        "colab": {
          "base_uri": "https://localhost:8080/"
        },
        "id": "kVw3igOi91ES",
        "outputId": "02bb9a14-021a-4e74-d4c0-3d9c33af7205"
      },
      "execution_count": null,
      "outputs": [
        {
          "output_type": "execute_result",
          "data": {
            "text/plain": [
              "(1000, array([[2, 2, 4, 3, 6, 6, 6, 5, 6, 2],\n",
              "        [6, 2, 6, 2, 8, 4, 8, 5, 6, 8],\n",
              "        [4, 2, 3, 8, 3, 2, 8, 8, 4, 3]]))"
            ]
          },
          "metadata": {},
          "execution_count": 35
        }
      ]
    },
    {
      "cell_type": "code",
      "source": [
        "d_b = y.mean(axis=1) - sample.mean()\n",
        "len(d_b), d_b[:3]"
      ],
      "metadata": {
        "colab": {
          "base_uri": "https://localhost:8080/"
        },
        "id": "lHoYbRKIETVE",
        "outputId": "46f66ab9-0fc0-42bb-d86d-cd17b9d2154a"
      },
      "execution_count": null,
      "outputs": [
        {
          "output_type": "execute_result",
          "data": {
            "text/plain": [
              "(1000, array([-1.3,  0. , -1. ]))"
            ]
          },
          "metadata": {},
          "execution_count": 36
        }
      ]
    },
    {
      "cell_type": "code",
      "source": [
        "alpha = 0.1\n",
        "l, u = np.percentile(d_b, [100*alpha/2, 100*(1-alpha/2)])\n",
        "l, u"
      ],
      "metadata": {
        "colab": {
          "base_uri": "https://localhost:8080/"
        },
        "id": "57QeVRb4FG1a",
        "outputId": "68dfd622-e7bb-4983-bb8c-2ec986cbe73a"
      },
      "execution_count": null,
      "outputs": [
        {
          "output_type": "execute_result",
          "data": {
            "text/plain": [
              "(-1.0999999999999996, 1.2000000000000002)"
            ]
          },
          "metadata": {},
          "execution_count": 37
        }
      ]
    },
    {
      "cell_type": "code",
      "source": [
        "ci = (sample.mean() - u, sample.mean() - l)\n",
        "ci"
      ],
      "metadata": {
        "colab": {
          "base_uri": "https://localhost:8080/"
        },
        "id": "BAp5SWVSFAn0",
        "outputId": "93d20133-b443-4b22-fcac-9a79baf292af"
      },
      "execution_count": null,
      "outputs": [
        {
          "output_type": "execute_result",
          "data": {
            "text/plain": [
              "(4.3, 6.6)"
            ]
          },
          "metadata": {},
          "execution_count": 38
        }
      ]
    },
    {
      "cell_type": "code",
      "source": [
        "plt.hist(d_b, bins=100)\n",
        "plt.axvline(x = l, color = 'r')\n",
        "plt.axvline(x = u, color = 'r')\n",
        "plt.title('Plot of delta and 5th and 95th percentile')\n",
        "plt.show()"
      ],
      "metadata": {
        "colab": {
          "base_uri": "https://localhost:8080/",
          "height": 281
        },
        "id": "4y_s-92FFOGu",
        "outputId": "be0b3372-93b4-4d66-fb3f-bdb1a2aaf950"
      },
      "execution_count": null,
      "outputs": [
        {
          "output_type": "display_data",
          "data": {
            "text/plain": [
              "<Figure size 432x288 with 1 Axes>"
            ],
            "image/png": "[encoded data removed]"
          },
          "metadata": {
            "needs_background": "light"
          }
        }
      ]
    },
    {
      "cell_type": "code",
      "source": [],
      "metadata": {
        "id": "vWhfvy9xCiM6"
      },
      "execution_count": null,
      "outputs": []
    }
  ]
}