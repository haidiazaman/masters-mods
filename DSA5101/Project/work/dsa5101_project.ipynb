{
 "cells": [
  {
   "cell_type": "markdown",
   "id": "b30a8e06",
   "metadata": {
    "heading_collapsed": true
   },
   "source": [
    "# info"
   ]
  },
  {
   "cell_type": "markdown",
   "id": "dbacb14a",
   "metadata": {
    "hidden": true
   },
   "source": [
    "**Notes from project pdf**\n",
    "\n",
    "predictive analysis using the Bank Marketing dataset. \n",
    "goal is to predict whether a client will subscribe to a term deposit. \n",
    "The problem revolves around the direct marketing campaigns conducted by a Portuguese banking institution\n",
    "\n",
    "Notably, multiple interactions with the same client were often necessary to determine whether the client would subscribe to the bank's term deposit product ('yes') or decline it ('no’).\n",
    "\n",
    "**you will use Bank Marketing data to predict whether a client will subscribe a term deposit**\n",
    "use training data for training data , test data strictly for testing\n",
    "-might want to split training data into training and validation\n",
    "\n",
    "we explore a **minimum of three diverse machine learning algorithms for classification. We're not just limited to the algorithms covered in our classes; feel free to explore new techniques** that could potentially provide valuable insights and better performance\n",
    "\n",
    "Oversampling Strategy: Should the need arise to perform oversampling to address class imbalance, please be mindful to carry out this process solely on the training dataset.\n",
    "\n",
    "Feature Engineering: We encourage you to unleash your creativity when it comes to\n",
    "feature engineering. This includes the potential for feature generation and feature\n",
    "selection. Specifically, feature generation involves creating new features from the\n",
    "existing data to enhance the representation of the underlying patterns in the dataset.\n",
    "Feature selection is the process of identifying and retaining the most relevant features\n",
    "from the original set of features\n",
    "\n",
    "External data: You can leverage external data if you believe they are useful.\n",
    "\n",
    "**our project is centered around making accurate predictions about term\n",
    "deposit subscriptions using the Bank Marketing dataset. By leveraging a variety of\n",
    "machine learning algorithms, responsibly handling oversampling, and applying feature\n",
    "engineering techniques**\n",
    "\n",
    "**performance evaluation**\n",
    "n the spirit of thorough evaluation, we will report a range of key performance metrics\n",
    "to comprehensively assess the models we'll be building. Specifically, we'll focus on\n",
    "**precision, recall, and F-measure** for the 'yes' class. Moreover, we'll calculate the\n",
    "**macro-average F-measure and micro-average F-measure, Accuracy, MCC** to capture\n",
    "overall model performance across classes. N"
   ]
  },
  {
   "cell_type": "markdown",
   "id": "963ddfb4",
   "metadata": {
    "hidden": true
   },
   "source": [
    "**readme.txt file** \n",
    "\n",
    "Citation Request:\n",
    "  This dataset is public available for research. The details are described in [Moro et al., 2011]. \n",
    "  Please include this citation if you plan to use this database:\n",
    "\n",
    "  [Moro et al., 2011] S. Moro, R. Laureano and P. Cortez. Using Data Mining for Bank Direct Marketing: An Application of the CRISP-DM Methodology. \n",
    "  In P. Novais et al. (Eds.), Proceedings of the European Simulation and Modelling Conference - ESM'2011, pp. 117-121, Guimarães, Portugal, October, 2011. EUROSIS.\n",
    "\n",
    "  Available at: [pdf] http://hdl.handle.net/1822/14838\n",
    "                [bib] http://www3.dsi.uminho.pt/pcortez/bib/2011-esm-1.txt\n",
    "\n",
    "1. Title: Bank Marketing\n",
    "\n",
    "2. Sources\n",
    "   Created by: Paulo Cortez (Univ. Minho) and Sérgio Moro (ISCTE-IUL) @ 2012\n",
    "   \n",
    "3. Past Usage:\n",
    "\n",
    "  The full dataset was described and analyzed in:\n",
    "\n",
    "  S. Moro, R. Laureano and P. Cortez. Using Data Mining for Bank Direct Marketing: An Application of the CRISP-DM Methodology. \n",
    "  In P. Novais et al. (Eds.), Proceedings of the European Simulation and Modelling Conference - ESM'2011, pp. 117-121, Guimarães, \n",
    "  Portugal, October, 2011. EUROSIS.\n",
    "\n",
    "4. Relevant Information:\n",
    "\n",
    "   The data is related with direct marketing campaigns of a Portuguese banking institution. \n",
    "   The marketing campaigns were based on phone calls. Often, more than one contact to the same client was required, \n",
    "   in order to access if the product (bank term deposit) would be (or not) subscribed. \n",
    "\n",
    "   There are two datasets: \n",
    "      1) bank-full.csv with all examples, ordered by date (from May 2008 to November 2010).\n",
    "      2) bank.csv with 10% of the examples (4521), randomly selected from bank-full.csv.\n",
    "   The smallest dataset is provided to test more computationally demanding machine learning algorithms (e.g. SVM).\n",
    "\n",
    "   The classification goal is to predict if the client will subscribe a term deposit (variable y).\n",
    "\n",
    "5. Number of Instances: 45,211 for bank-full.csv, including 36,169 training data and 9,042 test data\n",
    "\n",
    "6. Number of Attributes: 16 + output attribute.\n",
    "\n",
    "7. Attribute information:\n",
    "\n",
    "   For more information, read [Moro et al., 2011].\n",
    "\n",
    "   Input variables:\n",
    "   ** bank client data:\n",
    "   1 - age (numeric)\n",
    "   2 - job : type of job (categorical: \"admin.\",\"unknown\",\"unemployed\",\"management\",\"housemaid\",\"entrepreneur\",\"student\",\n",
    "                                       \"blue-collar\",\"self-employed\",\"retired\",\"technician\",\"services\") \n",
    "   3 - marital : marital status (categorical: \"married\",\"divorced\",\"single\"; note: \"divorced\" means divorced or widowed)\n",
    "   4 - education (categorical: \"unknown\",\"secondary\",\"primary\",\"tertiary\")\n",
    "   5 - default: has credit in default? (binary: \"yes\",\"no\")\n",
    "   6 - balance: average yearly balance, in euros (numeric) \n",
    "   7 - housing: has housing loan? (binary: \"yes\",\"no\")\n",
    "   8 - loan: has personal loan? (binary: \"yes\",\"no\")\n",
    "   \n",
    "   ** related with the last contact of the current campaign:\n",
    "   9 - contact: contact communication type (categorical: \"unknown\",\"telephone\",\"cellular\") \n",
    "  10 - day: last contact day of the month (numeric)\n",
    "  11 - month: last contact month of year (categorical: \"jan\", \"feb\", \"mar\", ..., \"nov\", \"dec\")\n",
    "  12 - duration: last contact duration, in seconds (numeric)\n",
    "  \n",
    "   ** other attributes:\n",
    "  13 - campaign: number of contacts performed during this campaign and for this client (numeric, includes last contact)\n",
    "  14 - pdays: number of days that passed by after the client was last contacted from a previous campaign (numeric, -1 means client was not previously contacted)\n",
    "  15 - previous: number of contacts performed before this campaign and for this client (numeric)\n",
    "  16 - poutcome: outcome of the previous marketing campaign (categorical: \"unknown\",\"other\",\"failure\",\"success\")\n",
    "\n",
    "  Output variable (desired target):\n",
    "  17 - y - has the client subscribed a term deposit? (binary: \"yes\",\"no\")\n",
    "\n",
    "8. Missing Attribute Values: None\n"
   ]
  },
  {
   "cell_type": "markdown",
   "id": "89cd12e4",
   "metadata": {
    "heading_collapsed": true
   },
   "source": [
    "# eda"
   ]
  },
  {
   "cell_type": "code",
   "execution_count": 3,
   "id": "b2cb13c3",
   "metadata": {
    "ExecuteTime": {
     "end_time": "2023-09-02T11:03:03.394802Z",
     "start_time": "2023-09-02T11:03:03.348027Z"
    },
    "hidden": true
   },
   "outputs": [
    {
     "data": {
      "text/plain": [
       "36169"
      ]
     },
     "execution_count": 3,
     "metadata": {},
     "output_type": "execute_result"
    }
   ],
   "source": [
    "import os\n",
    "\n",
    "train_path=\"/Users/haidiazaman/Desktop/nus-dsa5101/Project/trainingdata.txt\"\n",
    "test_path=\"/Users/haidiazaman/Desktop/nus-dsa5101/Project/testdata.txt\"\n",
    "assert os.path.exists(train_path)\n",
    "assert os.path.exists(test_path)\n",
    "\n",
    "with open(train_path) as f:\n",
    "    train_data=f.readlines()\n",
    "    \n",
    "len(train_data)#,train_data\n",
    "#; separates columns \n",
    "#, separates rows"
   ]
  },
  {
   "cell_type": "code",
   "execution_count": 22,
   "id": "0c001f5e",
   "metadata": {
    "ExecuteTime": {
     "end_time": "2023-09-02T05:38:55.593087Z",
     "start_time": "2023-09-02T05:38:55.491951Z"
    },
    "hidden": true
   },
   "outputs": [
    {
     "name": "stdout",
     "output_type": "stream",
     "text": [
      "36168\n"
     ]
    },
    {
     "data": {
      "text/html": [
       "<div>\n",
       "<style scoped>\n",
       "    .dataframe tbody tr th:only-of-type {\n",
       "        vertical-align: middle;\n",
       "    }\n",
       "\n",
       "    .dataframe tbody tr th {\n",
       "        vertical-align: top;\n",
       "    }\n",
       "\n",
       "    .dataframe thead th {\n",
       "        text-align: right;\n",
       "    }\n",
       "</style>\n",
       "<table border=\"1\" class=\"dataframe\">\n",
       "  <thead>\n",
       "    <tr style=\"text-align: right;\">\n",
       "      <th></th>\n",
       "      <th>age</th>\n",
       "      <th>job</th>\n",
       "      <th>marital</th>\n",
       "      <th>education</th>\n",
       "      <th>default</th>\n",
       "      <th>balance</th>\n",
       "      <th>housing</th>\n",
       "      <th>loan</th>\n",
       "      <th>contact</th>\n",
       "      <th>day</th>\n",
       "      <th>month</th>\n",
       "      <th>duration</th>\n",
       "      <th>campaign</th>\n",
       "      <th>pdays</th>\n",
       "      <th>previous</th>\n",
       "      <th>poutcome</th>\n",
       "      <th>y</th>\n",
       "    </tr>\n",
       "  </thead>\n",
       "  <tbody>\n",
       "    <tr>\n",
       "      <th>0</th>\n",
       "      <td>42</td>\n",
       "      <td>technician</td>\n",
       "      <td>divorced</td>\n",
       "      <td>secondary</td>\n",
       "      <td>no</td>\n",
       "      <td>-78</td>\n",
       "      <td>yes</td>\n",
       "      <td>yes</td>\n",
       "      <td>cellular</td>\n",
       "      <td>29</td>\n",
       "      <td>jul</td>\n",
       "      <td>10</td>\n",
       "      <td>23</td>\n",
       "      <td>-1</td>\n",
       "      <td>0</td>\n",
       "      <td>unknown</td>\n",
       "      <td>no</td>\n",
       "    </tr>\n",
       "    <tr>\n",
       "      <th>1</th>\n",
       "      <td>50</td>\n",
       "      <td>management</td>\n",
       "      <td>married</td>\n",
       "      <td>tertiary</td>\n",
       "      <td>no</td>\n",
       "      <td>106</td>\n",
       "      <td>yes</td>\n",
       "      <td>no</td>\n",
       "      <td>unknown</td>\n",
       "      <td>15</td>\n",
       "      <td>may</td>\n",
       "      <td>388</td>\n",
       "      <td>2</td>\n",
       "      <td>-1</td>\n",
       "      <td>0</td>\n",
       "      <td>unknown</td>\n",
       "      <td>no</td>\n",
       "    </tr>\n",
       "    <tr>\n",
       "      <th>2</th>\n",
       "      <td>47</td>\n",
       "      <td>admin.</td>\n",
       "      <td>married</td>\n",
       "      <td>secondary</td>\n",
       "      <td>no</td>\n",
       "      <td>407</td>\n",
       "      <td>yes</td>\n",
       "      <td>no</td>\n",
       "      <td>unknown</td>\n",
       "      <td>5</td>\n",
       "      <td>jun</td>\n",
       "      <td>67</td>\n",
       "      <td>12</td>\n",
       "      <td>-1</td>\n",
       "      <td>0</td>\n",
       "      <td>unknown</td>\n",
       "      <td>no</td>\n",
       "    </tr>\n",
       "    <tr>\n",
       "      <th>3</th>\n",
       "      <td>39</td>\n",
       "      <td>admin.</td>\n",
       "      <td>divorced</td>\n",
       "      <td>secondary</td>\n",
       "      <td>no</td>\n",
       "      <td>952</td>\n",
       "      <td>yes</td>\n",
       "      <td>no</td>\n",
       "      <td>unknown</td>\n",
       "      <td>16</td>\n",
       "      <td>jun</td>\n",
       "      <td>62</td>\n",
       "      <td>1</td>\n",
       "      <td>-1</td>\n",
       "      <td>0</td>\n",
       "      <td>unknown</td>\n",
       "      <td>no</td>\n",
       "    </tr>\n",
       "    <tr>\n",
       "      <th>4</th>\n",
       "      <td>30</td>\n",
       "      <td>management</td>\n",
       "      <td>single</td>\n",
       "      <td>tertiary</td>\n",
       "      <td>no</td>\n",
       "      <td>364</td>\n",
       "      <td>no</td>\n",
       "      <td>no</td>\n",
       "      <td>cellular</td>\n",
       "      <td>30</td>\n",
       "      <td>apr</td>\n",
       "      <td>306</td>\n",
       "      <td>2</td>\n",
       "      <td>-1</td>\n",
       "      <td>0</td>\n",
       "      <td>unknown</td>\n",
       "      <td>yes</td>\n",
       "    </tr>\n",
       "  </tbody>\n",
       "</table>\n",
       "</div>"
      ],
      "text/plain": [
       "   age         job   marital  education default  balance housing loan  \\\n",
       "0   42  technician  divorced  secondary      no      -78     yes  yes   \n",
       "1   50  management   married   tertiary      no      106     yes   no   \n",
       "2   47      admin.   married  secondary      no      407     yes   no   \n",
       "3   39      admin.  divorced  secondary      no      952     yes   no   \n",
       "4   30  management    single   tertiary      no      364      no   no   \n",
       "\n",
       "    contact  day month  duration  campaign  pdays  previous poutcome    y  \n",
       "0  cellular   29   jul        10        23     -1         0  unknown   no  \n",
       "1   unknown   15   may       388         2     -1         0  unknown   no  \n",
       "2   unknown    5   jun        67        12     -1         0  unknown   no  \n",
       "3   unknown   16   jun        62         1     -1         0  unknown   no  \n",
       "4  cellular   30   apr       306         2     -1         0  unknown  yes  "
      ]
     },
     "execution_count": 22,
     "metadata": {},
     "output_type": "execute_result"
    }
   ],
   "source": [
    "import pandas as pd\n",
    "train_df = pd.read_csv(train_path,sep=\";\")\n",
    "print(len(train_df))\n",
    "train_df.head()\n",
    "#    9 - contact: contact communication type (categorical: \"unknown\",\"telephone\",\"cellular\") \n",
    "#   10 - day: last contact day of the month (numeric)\n",
    "#   11 - month: last contact month of year (categorical: \"jan\", \"feb\", \"mar\", ..., \"nov\", \"dec\")\n",
    "#   12 - duration: last contact duration, in seconds (numeric)\n",
    "  \n",
    "#    ** other attributes:\n",
    "#   13 - campaign: number of contacts performed during this campaign and for this client (numeric, includes last contact)\n",
    "#   14 - pdays: number of days that passed by after the client was last contacted from a previous campaign (numeric, -1 means client was not previously contacted)\n",
    "#   15 - previous: number of contacts performed before this campaign and for this client (numeric)\n",
    "#   16 - poutcome: outcome of the previous marketing campaign (categorical: \"unknown\",\"other\",\"failure\",\"success\")\n",
    "\n",
    "#   Output variable (desired target):\n",
    "#   17 - y - has the client subscribed a term deposit? (binary: \"yes\",\"no\") (LABEL)"
   ]
  },
  {
   "cell_type": "code",
   "execution_count": 37,
   "id": "2e640627",
   "metadata": {
    "ExecuteTime": {
     "end_time": "2023-09-02T05:46:05.357144Z",
     "start_time": "2023-09-02T05:46:05.337879Z"
    },
    "hidden": true
   },
   "outputs": [
    {
     "name": "stdout",
     "output_type": "stream",
     "text": [
      "4231 31937 True\n",
      "percentage of training data that is Yes Label is only: 0.11697862810694241 %\n"
     ]
    }
   ],
   "source": [
    "# print number of Y and N\n",
    "num_y = len(train_df[train_df[\"y\"]==\"yes\"])\n",
    "num_n = len(train_df)-num_y\n",
    "print(num_y,num_n,num_y+num_n==len(train_df)) #verify no unlabelled data\n",
    "print(f\"percentage of training data that is Yes Label is only: {num_y/(len(train_data))} %\")\n",
    "# there is unbalanced data - need to deal with this, will need to use some oversampling techniques on the Yes labels"
   ]
  },
  {
   "cell_type": "markdown",
   "id": "c70ae19c",
   "metadata": {
    "heading_collapsed": true
   },
   "source": [
    "# project"
   ]
  },
  {
   "cell_type": "markdown",
   "id": "1c5dde49",
   "metadata": {
    "hidden": true
   },
   "source": [
    "**to do**\n",
    "1. data preprocessing \n",
    " (https://towardsdatascience.com/data-preprocessing-with-python-pandas-part-1-missing-data-45e76b781993)\n",
    " - identify and handle missing values\n",
    " - need to change the categorical variables (multi and binary to one hot)\n",
    " - normalise the numerical data\n",
    "2. data imbalance \n",
    " - need to deal with this, will need to use some oversampling techniques on the Yes labels\n",
    " - the yes data is only 10% of the entire dataset, 90 % no\n",
    " - Try: Synthetic Minority Over-sampling Technique (SMOTE) or Adaptive Synthetic Sampling (ADASYN). \n",
    "3. feature engineering\n",
    " - just try using all avail features to setup a baseline model for reference\n",
    " - then do feature selection, choose the most relevant features, use r value, Pearson correlation coefficient\n",
    " (https://www.youtube.com/watch?v=FndwYNcVe0U&t=1s)\n",
    " - then can try feature generation: advanced feature engineering techniques (e.g. autoencoders)\n",
    "4. fit min 3 diff models, lets aim for 5\n",
    " - a. Logistic Regression (used when the dependent variable is binary or categorical. It models the probability of a binary outcome. dependent variable is transformed using the logistic function (sigmoid function) to ensure that the predicted values are in the range [0, 1])\n",
    " - b. Random Forest (ensemble learning method that combines multiple decision trees to improve predictive performance)\n",
    " - c. XGBoost (another ensemble technique that builds a strong predictive model by sequentially adding weak learners)\n",
    " - d. Neural networks? try simple dense layers with sigmoid activation function (different from logistic regression, logistic regression is linear, the sigmoid is only applied at the end to get the probability score for the binary task but the NN has sigmoid activation functions that adds non linearity to the model after every layer)\n",
    " - train and finetune hyperparams accordingly\n",
    " - can explore using LRscheduler\n",
    "5. performance criteria \n",
    " - precision, recall, and F-measure, macro-average F-measure and micro-average F-measure, Accuracy, MCC for the 'yes' class\n",
    "6. conclusion\n",
    " - Summarize findings, choose the best-performing model(s), and report the model's performance metrics, discuss implications for your project.\n"
   ]
  },
  {
   "cell_type": "markdown",
   "id": "5ada028a",
   "metadata": {
    "hidden": true
   },
   "source": [
    "## data preprocessing"
   ]
  },
  {
   "cell_type": "code",
   "execution_count": 2,
   "id": "950fced6",
   "metadata": {
    "ExecuteTime": {
     "end_time": "2023-09-02T10:03:45.994481Z",
     "start_time": "2023-09-02T10:03:45.635259Z"
    },
    "hidden": true
   },
   "outputs": [
    {
     "name": "stdout",
     "output_type": "stream",
     "text": [
      "(36168, 17)\n"
     ]
    },
    {
     "data": {
      "text/html": [
       "<div>\n",
       "<style scoped>\n",
       "    .dataframe tbody tr th:only-of-type {\n",
       "        vertical-align: middle;\n",
       "    }\n",
       "\n",
       "    .dataframe tbody tr th {\n",
       "        vertical-align: top;\n",
       "    }\n",
       "\n",
       "    .dataframe thead th {\n",
       "        text-align: right;\n",
       "    }\n",
       "</style>\n",
       "<table border=\"1\" class=\"dataframe\">\n",
       "  <thead>\n",
       "    <tr style=\"text-align: right;\">\n",
       "      <th></th>\n",
       "      <th>age</th>\n",
       "      <th>job</th>\n",
       "      <th>marital</th>\n",
       "      <th>education</th>\n",
       "      <th>default</th>\n",
       "      <th>balance</th>\n",
       "      <th>housing</th>\n",
       "      <th>loan</th>\n",
       "      <th>contact</th>\n",
       "      <th>day</th>\n",
       "      <th>month</th>\n",
       "      <th>duration</th>\n",
       "      <th>campaign</th>\n",
       "      <th>pdays</th>\n",
       "      <th>previous</th>\n",
       "      <th>poutcome</th>\n",
       "      <th>y</th>\n",
       "    </tr>\n",
       "  </thead>\n",
       "  <tbody>\n",
       "    <tr>\n",
       "      <th>0</th>\n",
       "      <td>42</td>\n",
       "      <td>technician</td>\n",
       "      <td>divorced</td>\n",
       "      <td>secondary</td>\n",
       "      <td>no</td>\n",
       "      <td>-78</td>\n",
       "      <td>yes</td>\n",
       "      <td>yes</td>\n",
       "      <td>cellular</td>\n",
       "      <td>29</td>\n",
       "      <td>jul</td>\n",
       "      <td>10</td>\n",
       "      <td>23</td>\n",
       "      <td>-1</td>\n",
       "      <td>0</td>\n",
       "      <td>unknown</td>\n",
       "      <td>no</td>\n",
       "    </tr>\n",
       "    <tr>\n",
       "      <th>1</th>\n",
       "      <td>50</td>\n",
       "      <td>management</td>\n",
       "      <td>married</td>\n",
       "      <td>tertiary</td>\n",
       "      <td>no</td>\n",
       "      <td>106</td>\n",
       "      <td>yes</td>\n",
       "      <td>no</td>\n",
       "      <td>unknown</td>\n",
       "      <td>15</td>\n",
       "      <td>may</td>\n",
       "      <td>388</td>\n",
       "      <td>2</td>\n",
       "      <td>-1</td>\n",
       "      <td>0</td>\n",
       "      <td>unknown</td>\n",
       "      <td>no</td>\n",
       "    </tr>\n",
       "    <tr>\n",
       "      <th>2</th>\n",
       "      <td>47</td>\n",
       "      <td>admin.</td>\n",
       "      <td>married</td>\n",
       "      <td>secondary</td>\n",
       "      <td>no</td>\n",
       "      <td>407</td>\n",
       "      <td>yes</td>\n",
       "      <td>no</td>\n",
       "      <td>unknown</td>\n",
       "      <td>5</td>\n",
       "      <td>jun</td>\n",
       "      <td>67</td>\n",
       "      <td>12</td>\n",
       "      <td>-1</td>\n",
       "      <td>0</td>\n",
       "      <td>unknown</td>\n",
       "      <td>no</td>\n",
       "    </tr>\n",
       "    <tr>\n",
       "      <th>3</th>\n",
       "      <td>39</td>\n",
       "      <td>admin.</td>\n",
       "      <td>divorced</td>\n",
       "      <td>secondary</td>\n",
       "      <td>no</td>\n",
       "      <td>952</td>\n",
       "      <td>yes</td>\n",
       "      <td>no</td>\n",
       "      <td>unknown</td>\n",
       "      <td>16</td>\n",
       "      <td>jun</td>\n",
       "      <td>62</td>\n",
       "      <td>1</td>\n",
       "      <td>-1</td>\n",
       "      <td>0</td>\n",
       "      <td>unknown</td>\n",
       "      <td>no</td>\n",
       "    </tr>\n",
       "    <tr>\n",
       "      <th>4</th>\n",
       "      <td>30</td>\n",
       "      <td>management</td>\n",
       "      <td>single</td>\n",
       "      <td>tertiary</td>\n",
       "      <td>no</td>\n",
       "      <td>364</td>\n",
       "      <td>no</td>\n",
       "      <td>no</td>\n",
       "      <td>cellular</td>\n",
       "      <td>30</td>\n",
       "      <td>apr</td>\n",
       "      <td>306</td>\n",
       "      <td>2</td>\n",
       "      <td>-1</td>\n",
       "      <td>0</td>\n",
       "      <td>unknown</td>\n",
       "      <td>yes</td>\n",
       "    </tr>\n",
       "  </tbody>\n",
       "</table>\n",
       "</div>"
      ],
      "text/plain": [
       "   age         job   marital  education default  balance housing loan  \\\n",
       "0   42  technician  divorced  secondary      no      -78     yes  yes   \n",
       "1   50  management   married   tertiary      no      106     yes   no   \n",
       "2   47      admin.   married  secondary      no      407     yes   no   \n",
       "3   39      admin.  divorced  secondary      no      952     yes   no   \n",
       "4   30  management    single   tertiary      no      364      no   no   \n",
       "\n",
       "    contact  day month  duration  campaign  pdays  previous poutcome    y  \n",
       "0  cellular   29   jul        10        23     -1         0  unknown   no  \n",
       "1   unknown   15   may       388         2     -1         0  unknown   no  \n",
       "2   unknown    5   jun        67        12     -1         0  unknown   no  \n",
       "3   unknown   16   jun        62         1     -1         0  unknown   no  \n",
       "4  cellular   30   apr       306         2     -1         0  unknown  yes  "
      ]
     },
     "execution_count": 2,
     "metadata": {},
     "output_type": "execute_result"
    }
   ],
   "source": [
    "import pandas as pd\n",
    "\n",
    "train_df = pd.read_csv(train_path,sep=\";\")\n",
    "print(train_df.to_numpy().shape)\n",
    "train_df.head() "
   ]
  },
  {
   "cell_type": "code",
   "execution_count": 3,
   "id": "67058370",
   "metadata": {
    "ExecuteTime": {
     "end_time": "2023-09-02T10:03:46.019348Z",
     "start_time": "2023-09-02T10:03:45.995748Z"
    },
    "hidden": true
   },
   "outputs": [
    {
     "name": "stdout",
     "output_type": "stream",
     "text": [
      "(9043, 17)\n"
     ]
    },
    {
     "data": {
      "text/html": [
       "<div>\n",
       "<style scoped>\n",
       "    .dataframe tbody tr th:only-of-type {\n",
       "        vertical-align: middle;\n",
       "    }\n",
       "\n",
       "    .dataframe tbody tr th {\n",
       "        vertical-align: top;\n",
       "    }\n",
       "\n",
       "    .dataframe thead th {\n",
       "        text-align: right;\n",
       "    }\n",
       "</style>\n",
       "<table border=\"1\" class=\"dataframe\">\n",
       "  <thead>\n",
       "    <tr style=\"text-align: right;\">\n",
       "      <th></th>\n",
       "      <th>age</th>\n",
       "      <th>job</th>\n",
       "      <th>marital</th>\n",
       "      <th>education</th>\n",
       "      <th>default</th>\n",
       "      <th>balance</th>\n",
       "      <th>housing</th>\n",
       "      <th>loan</th>\n",
       "      <th>contact</th>\n",
       "      <th>day</th>\n",
       "      <th>month</th>\n",
       "      <th>duration</th>\n",
       "      <th>campaign</th>\n",
       "      <th>pdays</th>\n",
       "      <th>previous</th>\n",
       "      <th>poutcome</th>\n",
       "      <th>y</th>\n",
       "    </tr>\n",
       "  </thead>\n",
       "  <tbody>\n",
       "    <tr>\n",
       "      <th>0</th>\n",
       "      <td>48</td>\n",
       "      <td>housemaid</td>\n",
       "      <td>married</td>\n",
       "      <td>tertiary</td>\n",
       "      <td>no</td>\n",
       "      <td>468</td>\n",
       "      <td>yes</td>\n",
       "      <td>no</td>\n",
       "      <td>unknown</td>\n",
       "      <td>14</td>\n",
       "      <td>may</td>\n",
       "      <td>220</td>\n",
       "      <td>1</td>\n",
       "      <td>-1</td>\n",
       "      <td>0</td>\n",
       "      <td>unknown</td>\n",
       "      <td>no</td>\n",
       "    </tr>\n",
       "    <tr>\n",
       "      <th>1</th>\n",
       "      <td>31</td>\n",
       "      <td>management</td>\n",
       "      <td>single</td>\n",
       "      <td>tertiary</td>\n",
       "      <td>no</td>\n",
       "      <td>10215</td>\n",
       "      <td>no</td>\n",
       "      <td>no</td>\n",
       "      <td>cellular</td>\n",
       "      <td>22</td>\n",
       "      <td>aug</td>\n",
       "      <td>139</td>\n",
       "      <td>2</td>\n",
       "      <td>-1</td>\n",
       "      <td>0</td>\n",
       "      <td>unknown</td>\n",
       "      <td>no</td>\n",
       "    </tr>\n",
       "    <tr>\n",
       "      <th>2</th>\n",
       "      <td>45</td>\n",
       "      <td>blue-collar</td>\n",
       "      <td>married</td>\n",
       "      <td>primary</td>\n",
       "      <td>no</td>\n",
       "      <td>900</td>\n",
       "      <td>yes</td>\n",
       "      <td>no</td>\n",
       "      <td>unknown</td>\n",
       "      <td>9</td>\n",
       "      <td>jun</td>\n",
       "      <td>213</td>\n",
       "      <td>1</td>\n",
       "      <td>-1</td>\n",
       "      <td>0</td>\n",
       "      <td>unknown</td>\n",
       "      <td>no</td>\n",
       "    </tr>\n",
       "    <tr>\n",
       "      <th>3</th>\n",
       "      <td>58</td>\n",
       "      <td>blue-collar</td>\n",
       "      <td>married</td>\n",
       "      <td>primary</td>\n",
       "      <td>no</td>\n",
       "      <td>1231</td>\n",
       "      <td>no</td>\n",
       "      <td>no</td>\n",
       "      <td>unknown</td>\n",
       "      <td>20</td>\n",
       "      <td>jun</td>\n",
       "      <td>21</td>\n",
       "      <td>3</td>\n",
       "      <td>-1</td>\n",
       "      <td>0</td>\n",
       "      <td>unknown</td>\n",
       "      <td>no</td>\n",
       "    </tr>\n",
       "    <tr>\n",
       "      <th>4</th>\n",
       "      <td>35</td>\n",
       "      <td>technician</td>\n",
       "      <td>single</td>\n",
       "      <td>tertiary</td>\n",
       "      <td>no</td>\n",
       "      <td>5301</td>\n",
       "      <td>no</td>\n",
       "      <td>no</td>\n",
       "      <td>cellular</td>\n",
       "      <td>21</td>\n",
       "      <td>nov</td>\n",
       "      <td>937</td>\n",
       "      <td>2</td>\n",
       "      <td>-1</td>\n",
       "      <td>0</td>\n",
       "      <td>unknown</td>\n",
       "      <td>yes</td>\n",
       "    </tr>\n",
       "  </tbody>\n",
       "</table>\n",
       "</div>"
      ],
      "text/plain": [
       "   age          job  marital education default  balance housing loan  \\\n",
       "0   48    housemaid  married  tertiary      no      468     yes   no   \n",
       "1   31   management   single  tertiary      no    10215      no   no   \n",
       "2   45  blue-collar  married   primary      no      900     yes   no   \n",
       "3   58  blue-collar  married   primary      no     1231      no   no   \n",
       "4   35   technician   single  tertiary      no     5301      no   no   \n",
       "\n",
       "    contact  day month  duration  campaign  pdays  previous poutcome    y  \n",
       "0   unknown   14   may       220         1     -1         0  unknown   no  \n",
       "1  cellular   22   aug       139         2     -1         0  unknown   no  \n",
       "2   unknown    9   jun       213         1     -1         0  unknown   no  \n",
       "3   unknown   20   jun        21         3     -1         0  unknown   no  \n",
       "4  cellular   21   nov       937         2     -1         0  unknown  yes  "
      ]
     },
     "execution_count": 3,
     "metadata": {},
     "output_type": "execute_result"
    }
   ],
   "source": [
    "test_df = pd.read_csv(test_path,sep=\";\")\n",
    "print(test_df.to_numpy().shape)\n",
    "test_df.head()"
   ]
  },
  {
   "cell_type": "code",
   "execution_count": 4,
   "id": "d35e5c39",
   "metadata": {
    "ExecuteTime": {
     "end_time": "2023-09-02T10:03:46.039804Z",
     "start_time": "2023-09-02T10:03:46.023064Z"
    },
    "hidden": true
   },
   "outputs": [
    {
     "data": {
      "text/plain": [
       "False"
      ]
     },
     "execution_count": 4,
     "metadata": {},
     "output_type": "execute_result"
    }
   ],
   "source": [
    "# handle missing data\n",
    "\n",
    "train_df.isna().any().any()\n",
    "#False means theres no missing data at all - all good\n",
    "\n",
    "#return true if there is even 1 missing value\n",
    "#if use .all() will return True only when all the values in the pd Series are True"
   ]
  },
  {
   "cell_type": "code",
   "execution_count": 5,
   "id": "a6334b01",
   "metadata": {
    "ExecuteTime": {
     "end_time": "2023-09-02T10:03:46.045336Z",
     "start_time": "2023-09-02T10:03:46.041048Z"
    },
    "hidden": true
   },
   "outputs": [
    {
     "data": {
      "text/plain": [
       "array([ True,  True,  True,  True,  True,  True,  True,  True,  True,\n",
       "        True,  True,  True,  True,  True,  True,  True,  True])"
      ]
     },
     "execution_count": 5,
     "metadata": {},
     "output_type": "execute_result"
    }
   ],
   "source": [
    "train_df.columns==test_df.columns"
   ]
  },
  {
   "cell_type": "code",
   "execution_count": 6,
   "id": "dfdb43e9",
   "metadata": {
    "ExecuteTime": {
     "end_time": "2023-09-02T10:03:46.071809Z",
     "start_time": "2023-09-02T10:03:46.046710Z"
    },
    "hidden": true
   },
   "outputs": [
    {
     "name": "stdout",
     "output_type": "stream",
     "text": [
      "<class 'pandas.core.frame.DataFrame'>\n",
      "RangeIndex: 36168 entries, 0 to 36167\n",
      "Data columns (total 17 columns):\n",
      " #   Column     Non-Null Count  Dtype \n",
      "---  ------     --------------  ----- \n",
      " 0   age        36168 non-null  int64 \n",
      " 1   job        36168 non-null  object\n",
      " 2   marital    36168 non-null  object\n",
      " 3   education  36168 non-null  object\n",
      " 4   default    36168 non-null  object\n",
      " 5   balance    36168 non-null  int64 \n",
      " 6   housing    36168 non-null  object\n",
      " 7   loan       36168 non-null  object\n",
      " 8   contact    36168 non-null  object\n",
      " 9   day        36168 non-null  int64 \n",
      " 10  month      36168 non-null  object\n",
      " 11  duration   36168 non-null  int64 \n",
      " 12  campaign   36168 non-null  int64 \n",
      " 13  pdays      36168 non-null  int64 \n",
      " 14  previous   36168 non-null  int64 \n",
      " 15  poutcome   36168 non-null  object\n",
      " 16  y          36168 non-null  object\n",
      "dtypes: int64(7), object(10)\n",
      "memory usage: 4.7+ MB\n"
     ]
    }
   ],
   "source": [
    "# dataset info \n",
    "\n",
    "train_df.info()"
   ]
  },
  {
   "cell_type": "code",
   "execution_count": 7,
   "id": "867d79ec",
   "metadata": {
    "ExecuteTime": {
     "end_time": "2023-09-02T10:03:46.092660Z",
     "start_time": "2023-09-02T10:03:46.073115Z"
    },
    "hidden": true
   },
   "outputs": [
    {
     "data": {
      "text/html": [
       "<div>\n",
       "<style scoped>\n",
       "    .dataframe tbody tr th:only-of-type {\n",
       "        vertical-align: middle;\n",
       "    }\n",
       "\n",
       "    .dataframe tbody tr th {\n",
       "        vertical-align: top;\n",
       "    }\n",
       "\n",
       "    .dataframe thead th {\n",
       "        text-align: right;\n",
       "    }\n",
       "</style>\n",
       "<table border=\"1\" class=\"dataframe\">\n",
       "  <thead>\n",
       "    <tr style=\"text-align: right;\">\n",
       "      <th></th>\n",
       "      <th>age</th>\n",
       "      <th>balance</th>\n",
       "      <th>day</th>\n",
       "      <th>duration</th>\n",
       "      <th>campaign</th>\n",
       "      <th>pdays</th>\n",
       "      <th>previous</th>\n",
       "    </tr>\n",
       "  </thead>\n",
       "  <tbody>\n",
       "    <tr>\n",
       "      <th>count</th>\n",
       "      <td>36168.000000</td>\n",
       "      <td>36168.000000</td>\n",
       "      <td>36168.000000</td>\n",
       "      <td>36168.000000</td>\n",
       "      <td>36168.000000</td>\n",
       "      <td>36168.000000</td>\n",
       "      <td>36168.000000</td>\n",
       "    </tr>\n",
       "    <tr>\n",
       "      <th>mean</th>\n",
       "      <td>40.942076</td>\n",
       "      <td>1365.055989</td>\n",
       "      <td>15.778534</td>\n",
       "      <td>258.363166</td>\n",
       "      <td>2.769907</td>\n",
       "      <td>39.749889</td>\n",
       "      <td>0.579601</td>\n",
       "    </tr>\n",
       "    <tr>\n",
       "      <th>std</th>\n",
       "      <td>10.616610</td>\n",
       "      <td>3098.191637</td>\n",
       "      <td>8.313360</td>\n",
       "      <td>257.188052</td>\n",
       "      <td>3.119367</td>\n",
       "      <td>99.547099</td>\n",
       "      <td>2.384831</td>\n",
       "    </tr>\n",
       "    <tr>\n",
       "      <th>min</th>\n",
       "      <td>18.000000</td>\n",
       "      <td>-8019.000000</td>\n",
       "      <td>1.000000</td>\n",
       "      <td>0.000000</td>\n",
       "      <td>1.000000</td>\n",
       "      <td>-1.000000</td>\n",
       "      <td>0.000000</td>\n",
       "    </tr>\n",
       "    <tr>\n",
       "      <th>25%</th>\n",
       "      <td>33.000000</td>\n",
       "      <td>72.000000</td>\n",
       "      <td>8.000000</td>\n",
       "      <td>103.000000</td>\n",
       "      <td>1.000000</td>\n",
       "      <td>-1.000000</td>\n",
       "      <td>0.000000</td>\n",
       "    </tr>\n",
       "    <tr>\n",
       "      <th>50%</th>\n",
       "      <td>39.000000</td>\n",
       "      <td>448.000000</td>\n",
       "      <td>16.000000</td>\n",
       "      <td>180.000000</td>\n",
       "      <td>2.000000</td>\n",
       "      <td>-1.000000</td>\n",
       "      <td>0.000000</td>\n",
       "    </tr>\n",
       "    <tr>\n",
       "      <th>75%</th>\n",
       "      <td>48.000000</td>\n",
       "      <td>1422.250000</td>\n",
       "      <td>21.000000</td>\n",
       "      <td>320.000000</td>\n",
       "      <td>3.000000</td>\n",
       "      <td>-1.000000</td>\n",
       "      <td>0.000000</td>\n",
       "    </tr>\n",
       "    <tr>\n",
       "      <th>max</th>\n",
       "      <td>95.000000</td>\n",
       "      <td>102127.000000</td>\n",
       "      <td>31.000000</td>\n",
       "      <td>4918.000000</td>\n",
       "      <td>63.000000</td>\n",
       "      <td>871.000000</td>\n",
       "      <td>275.000000</td>\n",
       "    </tr>\n",
       "  </tbody>\n",
       "</table>\n",
       "</div>"
      ],
      "text/plain": [
       "                age        balance           day      duration      campaign  \\\n",
       "count  36168.000000   36168.000000  36168.000000  36168.000000  36168.000000   \n",
       "mean      40.942076    1365.055989     15.778534    258.363166      2.769907   \n",
       "std       10.616610    3098.191637      8.313360    257.188052      3.119367   \n",
       "min       18.000000   -8019.000000      1.000000      0.000000      1.000000   \n",
       "25%       33.000000      72.000000      8.000000    103.000000      1.000000   \n",
       "50%       39.000000     448.000000     16.000000    180.000000      2.000000   \n",
       "75%       48.000000    1422.250000     21.000000    320.000000      3.000000   \n",
       "max       95.000000  102127.000000     31.000000   4918.000000     63.000000   \n",
       "\n",
       "              pdays      previous  \n",
       "count  36168.000000  36168.000000  \n",
       "mean      39.749889      0.579601  \n",
       "std       99.547099      2.384831  \n",
       "min       -1.000000      0.000000  \n",
       "25%       -1.000000      0.000000  \n",
       "50%       -1.000000      0.000000  \n",
       "75%       -1.000000      0.000000  \n",
       "max      871.000000    275.000000  "
      ]
     },
     "execution_count": 7,
     "metadata": {},
     "output_type": "execute_result"
    }
   ],
   "source": [
    "# dataset info \n",
    "\n",
    "train_df.describe() #only for numerical data"
   ]
  },
  {
   "cell_type": "code",
   "execution_count": 8,
   "id": "479a4975",
   "metadata": {
    "ExecuteTime": {
     "end_time": "2023-09-02T10:03:46.113983Z",
     "start_time": "2023-09-02T10:03:46.094493Z"
    },
    "hidden": true
   },
   "outputs": [
    {
     "data": {
      "text/plain": [
       "(12,\n",
       " array(['technician', 'management', 'admin.', 'services', 'blue-collar',\n",
       "        'unemployed', 'retired', 'self-employed', 'housemaid', 'unknown',\n",
       "        'student', 'entrepreneur'], dtype=object))"
      ]
     },
     "execution_count": 8,
     "metadata": {},
     "output_type": "execute_result"
    }
   ],
   "source": [
    "test=train_df[\"job\"].unique()\n",
    "len(test),test"
   ]
  },
  {
   "cell_type": "code",
   "execution_count": 9,
   "id": "e46caacc",
   "metadata": {
    "ExecuteTime": {
     "end_time": "2023-09-02T10:03:46.389076Z",
     "start_time": "2023-09-02T10:03:46.115613Z"
    },
    "hidden": true
   },
   "outputs": [
    {
     "data": {
      "text/plain": [
       "array([9, 4, 0, ..., 9, 1, 3])"
      ]
     },
     "execution_count": 9,
     "metadata": {},
     "output_type": "execute_result"
    }
   ],
   "source": [
    "from sklearn.preprocessing import LabelEncoder\n",
    "\n",
    "encoder=LabelEncoder()\n",
    "encoder=encoder.fit(test)\n",
    "transformed_data=encoder.transform(train_df[\"job\"])\n",
    "transformed_data"
   ]
  },
  {
   "cell_type": "code",
   "execution_count": 10,
   "id": "87a55118",
   "metadata": {
    "ExecuteTime": {
     "end_time": "2023-09-02T10:03:46.401286Z",
     "start_time": "2023-09-02T10:03:46.392302Z"
    },
    "hidden": true
   },
   "outputs": [
    {
     "data": {
      "text/html": [
       "<div>\n",
       "<style scoped>\n",
       "    .dataframe tbody tr th:only-of-type {\n",
       "        vertical-align: middle;\n",
       "    }\n",
       "\n",
       "    .dataframe tbody tr th {\n",
       "        vertical-align: top;\n",
       "    }\n",
       "\n",
       "    .dataframe thead th {\n",
       "        text-align: right;\n",
       "    }\n",
       "</style>\n",
       "<table border=\"1\" class=\"dataframe\">\n",
       "  <thead>\n",
       "    <tr style=\"text-align: right;\">\n",
       "      <th></th>\n",
       "      <th>age</th>\n",
       "      <th>job</th>\n",
       "      <th>marital</th>\n",
       "      <th>education</th>\n",
       "      <th>default</th>\n",
       "      <th>balance</th>\n",
       "      <th>housing</th>\n",
       "      <th>loan</th>\n",
       "      <th>contact</th>\n",
       "      <th>day</th>\n",
       "      <th>month</th>\n",
       "      <th>duration</th>\n",
       "      <th>campaign</th>\n",
       "      <th>pdays</th>\n",
       "      <th>previous</th>\n",
       "      <th>poutcome</th>\n",
       "      <th>y</th>\n",
       "    </tr>\n",
       "  </thead>\n",
       "  <tbody>\n",
       "    <tr>\n",
       "      <th>0</th>\n",
       "      <td>42</td>\n",
       "      <td>technician</td>\n",
       "      <td>divorced</td>\n",
       "      <td>secondary</td>\n",
       "      <td>no</td>\n",
       "      <td>-78</td>\n",
       "      <td>yes</td>\n",
       "      <td>yes</td>\n",
       "      <td>cellular</td>\n",
       "      <td>29</td>\n",
       "      <td>jul</td>\n",
       "      <td>10</td>\n",
       "      <td>23</td>\n",
       "      <td>-1</td>\n",
       "      <td>0</td>\n",
       "      <td>unknown</td>\n",
       "      <td>no</td>\n",
       "    </tr>\n",
       "    <tr>\n",
       "      <th>1</th>\n",
       "      <td>50</td>\n",
       "      <td>management</td>\n",
       "      <td>married</td>\n",
       "      <td>tertiary</td>\n",
       "      <td>no</td>\n",
       "      <td>106</td>\n",
       "      <td>yes</td>\n",
       "      <td>no</td>\n",
       "      <td>unknown</td>\n",
       "      <td>15</td>\n",
       "      <td>may</td>\n",
       "      <td>388</td>\n",
       "      <td>2</td>\n",
       "      <td>-1</td>\n",
       "      <td>0</td>\n",
       "      <td>unknown</td>\n",
       "      <td>no</td>\n",
       "    </tr>\n",
       "    <tr>\n",
       "      <th>2</th>\n",
       "      <td>47</td>\n",
       "      <td>admin.</td>\n",
       "      <td>married</td>\n",
       "      <td>secondary</td>\n",
       "      <td>no</td>\n",
       "      <td>407</td>\n",
       "      <td>yes</td>\n",
       "      <td>no</td>\n",
       "      <td>unknown</td>\n",
       "      <td>5</td>\n",
       "      <td>jun</td>\n",
       "      <td>67</td>\n",
       "      <td>12</td>\n",
       "      <td>-1</td>\n",
       "      <td>0</td>\n",
       "      <td>unknown</td>\n",
       "      <td>no</td>\n",
       "    </tr>\n",
       "    <tr>\n",
       "      <th>3</th>\n",
       "      <td>39</td>\n",
       "      <td>admin.</td>\n",
       "      <td>divorced</td>\n",
       "      <td>secondary</td>\n",
       "      <td>no</td>\n",
       "      <td>952</td>\n",
       "      <td>yes</td>\n",
       "      <td>no</td>\n",
       "      <td>unknown</td>\n",
       "      <td>16</td>\n",
       "      <td>jun</td>\n",
       "      <td>62</td>\n",
       "      <td>1</td>\n",
       "      <td>-1</td>\n",
       "      <td>0</td>\n",
       "      <td>unknown</td>\n",
       "      <td>no</td>\n",
       "    </tr>\n",
       "    <tr>\n",
       "      <th>4</th>\n",
       "      <td>30</td>\n",
       "      <td>management</td>\n",
       "      <td>single</td>\n",
       "      <td>tertiary</td>\n",
       "      <td>no</td>\n",
       "      <td>364</td>\n",
       "      <td>no</td>\n",
       "      <td>no</td>\n",
       "      <td>cellular</td>\n",
       "      <td>30</td>\n",
       "      <td>apr</td>\n",
       "      <td>306</td>\n",
       "      <td>2</td>\n",
       "      <td>-1</td>\n",
       "      <td>0</td>\n",
       "      <td>unknown</td>\n",
       "      <td>yes</td>\n",
       "    </tr>\n",
       "  </tbody>\n",
       "</table>\n",
       "</div>"
      ],
      "text/plain": [
       "   age         job   marital  education default  balance housing loan  \\\n",
       "0   42  technician  divorced  secondary      no      -78     yes  yes   \n",
       "1   50  management   married   tertiary      no      106     yes   no   \n",
       "2   47      admin.   married  secondary      no      407     yes   no   \n",
       "3   39      admin.  divorced  secondary      no      952     yes   no   \n",
       "4   30  management    single   tertiary      no      364      no   no   \n",
       "\n",
       "    contact  day month  duration  campaign  pdays  previous poutcome    y  \n",
       "0  cellular   29   jul        10        23     -1         0  unknown   no  \n",
       "1   unknown   15   may       388         2     -1         0  unknown   no  \n",
       "2   unknown    5   jun        67        12     -1         0  unknown   no  \n",
       "3   unknown   16   jun        62         1     -1         0  unknown   no  \n",
       "4  cellular   30   apr       306         2     -1         0  unknown  yes  "
      ]
     },
     "execution_count": 10,
     "metadata": {},
     "output_type": "execute_result"
    }
   ],
   "source": [
    "train_df.head()"
   ]
  },
  {
   "cell_type": "code",
   "execution_count": 11,
   "id": "1765cbe3",
   "metadata": {
    "ExecuteTime": {
     "end_time": "2023-09-02T10:03:25.592036Z",
     "start_time": "2023-09-02T10:03:25.558253Z"
    },
    "hidden": true
   },
   "outputs": [
    {
     "name": "stdout",
     "output_type": "stream",
     "text": [
      "17\n",
      "16\n"
     ]
    },
    {
     "data": {
      "text/html": [
       "<div>\n",
       "<style scoped>\n",
       "    .dataframe tbody tr th:only-of-type {\n",
       "        vertical-align: middle;\n",
       "    }\n",
       "\n",
       "    .dataframe tbody tr th {\n",
       "        vertical-align: top;\n",
       "    }\n",
       "\n",
       "    .dataframe thead th {\n",
       "        text-align: right;\n",
       "    }\n",
       "</style>\n",
       "<table border=\"1\" class=\"dataframe\">\n",
       "  <thead>\n",
       "    <tr style=\"text-align: right;\">\n",
       "      <th></th>\n",
       "      <th>age</th>\n",
       "      <th>job</th>\n",
       "      <th>marital</th>\n",
       "      <th>education</th>\n",
       "      <th>default</th>\n",
       "      <th>balance</th>\n",
       "      <th>housing</th>\n",
       "      <th>loan</th>\n",
       "      <th>contact</th>\n",
       "      <th>month</th>\n",
       "      <th>duration</th>\n",
       "      <th>campaign</th>\n",
       "      <th>pdays</th>\n",
       "      <th>previous</th>\n",
       "      <th>poutcome</th>\n",
       "      <th>y</th>\n",
       "    </tr>\n",
       "  </thead>\n",
       "  <tbody>\n",
       "    <tr>\n",
       "      <th>0</th>\n",
       "      <td>42</td>\n",
       "      <td>technician</td>\n",
       "      <td>divorced</td>\n",
       "      <td>secondary</td>\n",
       "      <td>no</td>\n",
       "      <td>-78</td>\n",
       "      <td>yes</td>\n",
       "      <td>yes</td>\n",
       "      <td>cellular</td>\n",
       "      <td>jul</td>\n",
       "      <td>10</td>\n",
       "      <td>23</td>\n",
       "      <td>-1</td>\n",
       "      <td>0</td>\n",
       "      <td>unknown</td>\n",
       "      <td>no</td>\n",
       "    </tr>\n",
       "    <tr>\n",
       "      <th>1</th>\n",
       "      <td>50</td>\n",
       "      <td>management</td>\n",
       "      <td>married</td>\n",
       "      <td>tertiary</td>\n",
       "      <td>no</td>\n",
       "      <td>106</td>\n",
       "      <td>yes</td>\n",
       "      <td>no</td>\n",
       "      <td>unknown</td>\n",
       "      <td>may</td>\n",
       "      <td>388</td>\n",
       "      <td>2</td>\n",
       "      <td>-1</td>\n",
       "      <td>0</td>\n",
       "      <td>unknown</td>\n",
       "      <td>no</td>\n",
       "    </tr>\n",
       "    <tr>\n",
       "      <th>2</th>\n",
       "      <td>47</td>\n",
       "      <td>admin.</td>\n",
       "      <td>married</td>\n",
       "      <td>secondary</td>\n",
       "      <td>no</td>\n",
       "      <td>407</td>\n",
       "      <td>yes</td>\n",
       "      <td>no</td>\n",
       "      <td>unknown</td>\n",
       "      <td>jun</td>\n",
       "      <td>67</td>\n",
       "      <td>12</td>\n",
       "      <td>-1</td>\n",
       "      <td>0</td>\n",
       "      <td>unknown</td>\n",
       "      <td>no</td>\n",
       "    </tr>\n",
       "    <tr>\n",
       "      <th>3</th>\n",
       "      <td>39</td>\n",
       "      <td>admin.</td>\n",
       "      <td>divorced</td>\n",
       "      <td>secondary</td>\n",
       "      <td>no</td>\n",
       "      <td>952</td>\n",
       "      <td>yes</td>\n",
       "      <td>no</td>\n",
       "      <td>unknown</td>\n",
       "      <td>jun</td>\n",
       "      <td>62</td>\n",
       "      <td>1</td>\n",
       "      <td>-1</td>\n",
       "      <td>0</td>\n",
       "      <td>unknown</td>\n",
       "      <td>no</td>\n",
       "    </tr>\n",
       "    <tr>\n",
       "      <th>4</th>\n",
       "      <td>30</td>\n",
       "      <td>management</td>\n",
       "      <td>single</td>\n",
       "      <td>tertiary</td>\n",
       "      <td>no</td>\n",
       "      <td>364</td>\n",
       "      <td>no</td>\n",
       "      <td>no</td>\n",
       "      <td>cellular</td>\n",
       "      <td>apr</td>\n",
       "      <td>306</td>\n",
       "      <td>2</td>\n",
       "      <td>-1</td>\n",
       "      <td>0</td>\n",
       "      <td>unknown</td>\n",
       "      <td>yes</td>\n",
       "    </tr>\n",
       "  </tbody>\n",
       "</table>\n",
       "</div>"
      ],
      "text/plain": [
       "   age         job   marital  education default  balance housing loan  \\\n",
       "0   42  technician  divorced  secondary      no      -78     yes  yes   \n",
       "1   50  management   married   tertiary      no      106     yes   no   \n",
       "2   47      admin.   married  secondary      no      407     yes   no   \n",
       "3   39      admin.  divorced  secondary      no      952     yes   no   \n",
       "4   30  management    single   tertiary      no      364      no   no   \n",
       "\n",
       "    contact month  duration  campaign  pdays  previous poutcome    y  \n",
       "0  cellular   jul        10        23     -1         0  unknown   no  \n",
       "1   unknown   may       388         2     -1         0  unknown   no  \n",
       "2   unknown   jun        67        12     -1         0  unknown   no  \n",
       "3   unknown   jun        62         1     -1         0  unknown   no  \n",
       "4  cellular   apr       306         2     -1         0  unknown  yes  "
      ]
     },
     "execution_count": 11,
     "metadata": {},
     "output_type": "execute_result"
    }
   ],
   "source": [
    "# # lets drop the exact day of the last contact as it might get too specific\n",
    "# print(len(train_df.columns))\n",
    "# train_df=train_df.drop([\"day\"],axis=1)\n",
    "# print(len(train_df.columns))\n",
    "# train_df.head()"
   ]
  },
  {
   "cell_type": "code",
   "execution_count": 11,
   "id": "e535baef",
   "metadata": {
    "ExecuteTime": {
     "end_time": "2023-09-02T10:03:49.156768Z",
     "start_time": "2023-09-02T10:03:49.141063Z"
    },
    "hidden": true
   },
   "outputs": [
    {
     "name": "stdout",
     "output_type": "stream",
     "text": [
      "6 11\n"
     ]
    },
    {
     "data": {
      "text/plain": [
       "True"
      ]
     },
     "execution_count": 11,
     "metadata": {},
     "output_type": "execute_result"
    }
   ],
   "source": [
    "numerical_columns=[\"age\",\"balance\",\"duration\",\"campaign\",\"pdays\",\"previous\"]\n",
    "categorical_columns=[x for x in train_df.columns if x not in numerical_columns]\n",
    "print(len(numerical_columns),len(categorical_columns))\n",
    "len(numerical_columns)+len(categorical_columns)==len(train_df.columns)"
   ]
  },
  {
   "cell_type": "code",
   "execution_count": 12,
   "id": "39535217",
   "metadata": {
    "ExecuteTime": {
     "end_time": "2023-09-02T10:03:49.697045Z",
     "start_time": "2023-09-02T10:03:49.653199Z"
    },
    "hidden": true
   },
   "outputs": [
    {
     "name": "stdout",
     "output_type": "stream",
     "text": [
      "job\n",
      "marital\n",
      "education\n",
      "default\n",
      "housing\n",
      "loan\n",
      "contact\n",
      "day\n",
      "poutcome\n",
      "y\n"
     ]
    }
   ],
   "source": [
    "# create label encoders for all the categorical data in the df\n",
    "from sklearn.preprocessing import LabelEncoder\n",
    "all_encoders={}\n",
    "\n",
    "for col in categorical_columns:\n",
    "    if col==\"month\":\n",
    "        continue\n",
    "    print(col)\n",
    "    encoder=LabelEncoder() #initialise a new label encoder\n",
    "    unique_categories=sorted(train_df[col].unique()) #sort the unique categories to make the encoding neater\n",
    "    encoder=encoder.fit(unique_categories)\n",
    "    all_encoders[col]=encoder"
   ]
  },
  {
   "cell_type": "code",
   "execution_count": 13,
   "id": "d49e4865",
   "metadata": {
    "ExecuteTime": {
     "end_time": "2023-09-02T10:03:50.480293Z",
     "start_time": "2023-09-02T10:03:50.467132Z"
    },
    "hidden": true
   },
   "outputs": [
    {
     "name": "stdout",
     "output_type": "stream",
     "text": [
      "['jul' 'may' 'jun' 'apr' 'feb' 'jan' 'aug' 'nov' 'dec' 'mar' 'sep' 'oct']\n"
     ]
    }
   ],
   "source": [
    "# create label encoder for the month category, actually not needed, but its neater like this\n",
    "col=\"month\"\n",
    "unique_categories=train_df[col].unique()\n",
    "print(unique_categories)\n",
    "unique_categories=[\"jan\",\"feb\",\"mar\",\"apr\",\"may\",\"jun\",\"jul\",\"aug\",\"sep\",\"oct\",\"nov\",\"dec\"]\n",
    "encoder=LabelEncoder()\n",
    "encoder=encoder.fit(unique_categories)\n",
    "all_encoders[col]=encoder"
   ]
  },
  {
   "cell_type": "code",
   "execution_count": 14,
   "id": "73f7ffba",
   "metadata": {
    "ExecuteTime": {
     "end_time": "2023-09-02T10:03:51.016705Z",
     "start_time": "2023-09-02T10:03:51.006594Z"
    },
    "hidden": true
   },
   "outputs": [
    {
     "data": {
      "text/plain": [
       "11"
      ]
     },
     "execution_count": 14,
     "metadata": {},
     "output_type": "execute_result"
    }
   ],
   "source": [
    "len(all_encoders.keys()) #nice correct"
   ]
  },
  {
   "cell_type": "code",
   "execution_count": 15,
   "id": "1b9673e9",
   "metadata": {
    "ExecuteTime": {
     "end_time": "2023-09-02T10:03:51.272543Z",
     "start_time": "2023-09-02T10:03:51.245923Z"
    },
    "hidden": true
   },
   "outputs": [
    {
     "data": {
      "text/html": [
       "<div>\n",
       "<style scoped>\n",
       "    .dataframe tbody tr th:only-of-type {\n",
       "        vertical-align: middle;\n",
       "    }\n",
       "\n",
       "    .dataframe tbody tr th {\n",
       "        vertical-align: top;\n",
       "    }\n",
       "\n",
       "    .dataframe thead th {\n",
       "        text-align: right;\n",
       "    }\n",
       "</style>\n",
       "<table border=\"1\" class=\"dataframe\">\n",
       "  <thead>\n",
       "    <tr style=\"text-align: right;\">\n",
       "      <th></th>\n",
       "      <th>age</th>\n",
       "      <th>job</th>\n",
       "      <th>marital</th>\n",
       "      <th>education</th>\n",
       "      <th>default</th>\n",
       "      <th>balance</th>\n",
       "      <th>housing</th>\n",
       "      <th>loan</th>\n",
       "      <th>contact</th>\n",
       "      <th>day</th>\n",
       "      <th>month</th>\n",
       "      <th>duration</th>\n",
       "      <th>campaign</th>\n",
       "      <th>pdays</th>\n",
       "      <th>previous</th>\n",
       "      <th>poutcome</th>\n",
       "      <th>y</th>\n",
       "    </tr>\n",
       "  </thead>\n",
       "  <tbody>\n",
       "    <tr>\n",
       "      <th>0</th>\n",
       "      <td>42</td>\n",
       "      <td>technician</td>\n",
       "      <td>divorced</td>\n",
       "      <td>secondary</td>\n",
       "      <td>no</td>\n",
       "      <td>-78</td>\n",
       "      <td>yes</td>\n",
       "      <td>yes</td>\n",
       "      <td>cellular</td>\n",
       "      <td>29</td>\n",
       "      <td>jul</td>\n",
       "      <td>10</td>\n",
       "      <td>23</td>\n",
       "      <td>-1</td>\n",
       "      <td>0</td>\n",
       "      <td>unknown</td>\n",
       "      <td>no</td>\n",
       "    </tr>\n",
       "    <tr>\n",
       "      <th>1</th>\n",
       "      <td>50</td>\n",
       "      <td>management</td>\n",
       "      <td>married</td>\n",
       "      <td>tertiary</td>\n",
       "      <td>no</td>\n",
       "      <td>106</td>\n",
       "      <td>yes</td>\n",
       "      <td>no</td>\n",
       "      <td>unknown</td>\n",
       "      <td>15</td>\n",
       "      <td>may</td>\n",
       "      <td>388</td>\n",
       "      <td>2</td>\n",
       "      <td>-1</td>\n",
       "      <td>0</td>\n",
       "      <td>unknown</td>\n",
       "      <td>no</td>\n",
       "    </tr>\n",
       "    <tr>\n",
       "      <th>2</th>\n",
       "      <td>47</td>\n",
       "      <td>admin.</td>\n",
       "      <td>married</td>\n",
       "      <td>secondary</td>\n",
       "      <td>no</td>\n",
       "      <td>407</td>\n",
       "      <td>yes</td>\n",
       "      <td>no</td>\n",
       "      <td>unknown</td>\n",
       "      <td>5</td>\n",
       "      <td>jun</td>\n",
       "      <td>67</td>\n",
       "      <td>12</td>\n",
       "      <td>-1</td>\n",
       "      <td>0</td>\n",
       "      <td>unknown</td>\n",
       "      <td>no</td>\n",
       "    </tr>\n",
       "    <tr>\n",
       "      <th>3</th>\n",
       "      <td>39</td>\n",
       "      <td>admin.</td>\n",
       "      <td>divorced</td>\n",
       "      <td>secondary</td>\n",
       "      <td>no</td>\n",
       "      <td>952</td>\n",
       "      <td>yes</td>\n",
       "      <td>no</td>\n",
       "      <td>unknown</td>\n",
       "      <td>16</td>\n",
       "      <td>jun</td>\n",
       "      <td>62</td>\n",
       "      <td>1</td>\n",
       "      <td>-1</td>\n",
       "      <td>0</td>\n",
       "      <td>unknown</td>\n",
       "      <td>no</td>\n",
       "    </tr>\n",
       "    <tr>\n",
       "      <th>4</th>\n",
       "      <td>30</td>\n",
       "      <td>management</td>\n",
       "      <td>single</td>\n",
       "      <td>tertiary</td>\n",
       "      <td>no</td>\n",
       "      <td>364</td>\n",
       "      <td>no</td>\n",
       "      <td>no</td>\n",
       "      <td>cellular</td>\n",
       "      <td>30</td>\n",
       "      <td>apr</td>\n",
       "      <td>306</td>\n",
       "      <td>2</td>\n",
       "      <td>-1</td>\n",
       "      <td>0</td>\n",
       "      <td>unknown</td>\n",
       "      <td>yes</td>\n",
       "    </tr>\n",
       "  </tbody>\n",
       "</table>\n",
       "</div>"
      ],
      "text/plain": [
       "   age         job   marital  education default  balance housing loan  \\\n",
       "0   42  technician  divorced  secondary      no      -78     yes  yes   \n",
       "1   50  management   married   tertiary      no      106     yes   no   \n",
       "2   47      admin.   married  secondary      no      407     yes   no   \n",
       "3   39      admin.  divorced  secondary      no      952     yes   no   \n",
       "4   30  management    single   tertiary      no      364      no   no   \n",
       "\n",
       "    contact  day month  duration  campaign  pdays  previous poutcome    y  \n",
       "0  cellular   29   jul        10        23     -1         0  unknown   no  \n",
       "1   unknown   15   may       388         2     -1         0  unknown   no  \n",
       "2   unknown    5   jun        67        12     -1         0  unknown   no  \n",
       "3   unknown   16   jun        62         1     -1         0  unknown   no  \n",
       "4  cellular   30   apr       306         2     -1         0  unknown  yes  "
      ]
     },
     "execution_count": 15,
     "metadata": {},
     "output_type": "execute_result"
    }
   ],
   "source": [
    "train_df.head()"
   ]
  },
  {
   "cell_type": "code",
   "execution_count": 16,
   "id": "c61a118d",
   "metadata": {
    "ExecuteTime": {
     "end_time": "2023-09-02T10:03:51.773928Z",
     "start_time": "2023-09-02T10:03:51.663301Z"
    },
    "hidden": true
   },
   "outputs": [
    {
     "data": {
      "text/html": [
       "<div>\n",
       "<style scoped>\n",
       "    .dataframe tbody tr th:only-of-type {\n",
       "        vertical-align: middle;\n",
       "    }\n",
       "\n",
       "    .dataframe tbody tr th {\n",
       "        vertical-align: top;\n",
       "    }\n",
       "\n",
       "    .dataframe thead th {\n",
       "        text-align: right;\n",
       "    }\n",
       "</style>\n",
       "<table border=\"1\" class=\"dataframe\">\n",
       "  <thead>\n",
       "    <tr style=\"text-align: right;\">\n",
       "      <th></th>\n",
       "      <th>age</th>\n",
       "      <th>job</th>\n",
       "      <th>marital</th>\n",
       "      <th>education</th>\n",
       "      <th>default</th>\n",
       "      <th>balance</th>\n",
       "      <th>housing</th>\n",
       "      <th>loan</th>\n",
       "      <th>contact</th>\n",
       "      <th>day</th>\n",
       "      <th>month</th>\n",
       "      <th>duration</th>\n",
       "      <th>campaign</th>\n",
       "      <th>pdays</th>\n",
       "      <th>previous</th>\n",
       "      <th>poutcome</th>\n",
       "      <th>y</th>\n",
       "    </tr>\n",
       "  </thead>\n",
       "  <tbody>\n",
       "    <tr>\n",
       "      <th>0</th>\n",
       "      <td>42</td>\n",
       "      <td>9</td>\n",
       "      <td>0</td>\n",
       "      <td>1</td>\n",
       "      <td>0</td>\n",
       "      <td>-78</td>\n",
       "      <td>1</td>\n",
       "      <td>1</td>\n",
       "      <td>0</td>\n",
       "      <td>28</td>\n",
       "      <td>5</td>\n",
       "      <td>10</td>\n",
       "      <td>23</td>\n",
       "      <td>-1</td>\n",
       "      <td>0</td>\n",
       "      <td>3</td>\n",
       "      <td>0</td>\n",
       "    </tr>\n",
       "    <tr>\n",
       "      <th>1</th>\n",
       "      <td>50</td>\n",
       "      <td>4</td>\n",
       "      <td>1</td>\n",
       "      <td>2</td>\n",
       "      <td>0</td>\n",
       "      <td>106</td>\n",
       "      <td>1</td>\n",
       "      <td>0</td>\n",
       "      <td>2</td>\n",
       "      <td>14</td>\n",
       "      <td>8</td>\n",
       "      <td>388</td>\n",
       "      <td>2</td>\n",
       "      <td>-1</td>\n",
       "      <td>0</td>\n",
       "      <td>3</td>\n",
       "      <td>0</td>\n",
       "    </tr>\n",
       "    <tr>\n",
       "      <th>2</th>\n",
       "      <td>47</td>\n",
       "      <td>0</td>\n",
       "      <td>1</td>\n",
       "      <td>1</td>\n",
       "      <td>0</td>\n",
       "      <td>407</td>\n",
       "      <td>1</td>\n",
       "      <td>0</td>\n",
       "      <td>2</td>\n",
       "      <td>4</td>\n",
       "      <td>6</td>\n",
       "      <td>67</td>\n",
       "      <td>12</td>\n",
       "      <td>-1</td>\n",
       "      <td>0</td>\n",
       "      <td>3</td>\n",
       "      <td>0</td>\n",
       "    </tr>\n",
       "    <tr>\n",
       "      <th>3</th>\n",
       "      <td>39</td>\n",
       "      <td>0</td>\n",
       "      <td>0</td>\n",
       "      <td>1</td>\n",
       "      <td>0</td>\n",
       "      <td>952</td>\n",
       "      <td>1</td>\n",
       "      <td>0</td>\n",
       "      <td>2</td>\n",
       "      <td>15</td>\n",
       "      <td>6</td>\n",
       "      <td>62</td>\n",
       "      <td>1</td>\n",
       "      <td>-1</td>\n",
       "      <td>0</td>\n",
       "      <td>3</td>\n",
       "      <td>0</td>\n",
       "    </tr>\n",
       "    <tr>\n",
       "      <th>4</th>\n",
       "      <td>30</td>\n",
       "      <td>4</td>\n",
       "      <td>2</td>\n",
       "      <td>2</td>\n",
       "      <td>0</td>\n",
       "      <td>364</td>\n",
       "      <td>0</td>\n",
       "      <td>0</td>\n",
       "      <td>0</td>\n",
       "      <td>29</td>\n",
       "      <td>0</td>\n",
       "      <td>306</td>\n",
       "      <td>2</td>\n",
       "      <td>-1</td>\n",
       "      <td>0</td>\n",
       "      <td>3</td>\n",
       "      <td>1</td>\n",
       "    </tr>\n",
       "  </tbody>\n",
       "</table>\n",
       "</div>"
      ],
      "text/plain": [
       "   age  job  marital  education  default  balance  housing  loan  contact  \\\n",
       "0   42    9        0          1        0      -78        1     1        0   \n",
       "1   50    4        1          2        0      106        1     0        2   \n",
       "2   47    0        1          1        0      407        1     0        2   \n",
       "3   39    0        0          1        0      952        1     0        2   \n",
       "4   30    4        2          2        0      364        0     0        0   \n",
       "\n",
       "   day  month  duration  campaign  pdays  previous  poutcome  y  \n",
       "0   28      5        10        23     -1         0         3  0  \n",
       "1   14      8       388         2     -1         0         3  0  \n",
       "2    4      6        67        12     -1         0         3  0  \n",
       "3   15      6        62         1     -1         0         3  0  \n",
       "4   29      0       306         2     -1         0         3  1  "
      ]
     },
     "execution_count": 16,
     "metadata": {},
     "output_type": "execute_result"
    }
   ],
   "source": [
    "for col in categorical_columns:\n",
    "    encoder=all_encoders[col]\n",
    "    train_df[col]=encoder.transform(train_df[col])\n",
    "    \n",
    "train_df.head()"
   ]
  },
  {
   "cell_type": "code",
   "execution_count": 17,
   "id": "0d8b2900",
   "metadata": {
    "ExecuteTime": {
     "end_time": "2023-09-02T10:03:52.090193Z",
     "start_time": "2023-09-02T10:03:52.077193Z"
    },
    "hidden": true
   },
   "outputs": [
    {
     "data": {
      "text/plain": [
       "(array(['admin.', 'blue-collar', 'entrepreneur', 'housemaid', 'management',\n",
       "        'retired', 'self-employed', 'services', 'student', 'technician',\n",
       "        'unemployed', 'unknown'], dtype='<U13'),\n",
       " array(['divorced', 'married', 'single'], dtype='<U8'),\n",
       " array(['primary', 'secondary', 'tertiary', 'unknown'], dtype='<U9'))"
      ]
     },
     "execution_count": 17,
     "metadata": {},
     "output_type": "execute_result"
    }
   ],
   "source": [
    "all_encoders[\"job\"].classes_,all_encoders[\"marital\"].classes_,all_encoders[\"education\"].classes_"
   ]
  },
  {
   "cell_type": "code",
   "execution_count": 18,
   "id": "c95af286",
   "metadata": {
    "ExecuteTime": {
     "end_time": "2023-09-02T10:03:52.846161Z",
     "start_time": "2023-09-02T10:03:52.835874Z"
    },
    "hidden": true
   },
   "outputs": [
    {
     "data": {
      "text/plain": [
       "36168"
      ]
     },
     "execution_count": 18,
     "metadata": {},
     "output_type": "execute_result"
    }
   ],
   "source": [
    "len(train_df)"
   ]
  },
  {
   "cell_type": "markdown",
   "id": "e006caaf",
   "metadata": {},
   "source": [
    "# decision tree "
   ]
  },
  {
   "cell_type": "code",
   "execution_count": 19,
   "id": "4fb247c7",
   "metadata": {
    "ExecuteTime": {
     "end_time": "2023-09-02T10:03:58.694106Z",
     "start_time": "2023-09-02T10:03:58.583441Z"
    }
   },
   "outputs": [
    {
     "name": "stdout",
     "output_type": "stream",
     "text": [
      "(150, 4) (150,)\n"
     ]
    }
   ],
   "source": [
    "# example decision tree implementation \n",
    "from sklearn.datasets import load_iris\n",
    "from sklearn import tree\n",
    "\n",
    "iris=load_iris()\n",
    "print(iris.data.shape,iris.target.shape)\n",
    "clf = tree.DecisionTreeClassifier()         # We want to build a DT\n",
    "clf = clf.fit(iris.data, iris.target)"
   ]
  },
  {
   "cell_type": "code",
   "execution_count": 20,
   "id": "45b6ceb9",
   "metadata": {
    "ExecuteTime": {
     "end_time": "2023-09-02T10:03:59.377694Z",
     "start_time": "2023-09-02T10:03:59.360409Z"
    }
   },
   "outputs": [
    {
     "data": {
      "text/plain": [
       "(36168, 17)"
      ]
     },
     "execution_count": 20,
     "metadata": {},
     "output_type": "execute_result"
    }
   ],
   "source": [
    "train_df.to_numpy().shape"
   ]
  },
  {
   "cell_type": "code",
   "execution_count": 21,
   "id": "4f2cc65e",
   "metadata": {
    "ExecuteTime": {
     "end_time": "2023-09-02T10:04:14.904525Z",
     "start_time": "2023-09-02T10:04:14.878230Z"
    }
   },
   "outputs": [
    {
     "data": {
      "text/html": [
       "<div>\n",
       "<style scoped>\n",
       "    .dataframe tbody tr th:only-of-type {\n",
       "        vertical-align: middle;\n",
       "    }\n",
       "\n",
       "    .dataframe tbody tr th {\n",
       "        vertical-align: top;\n",
       "    }\n",
       "\n",
       "    .dataframe thead th {\n",
       "        text-align: right;\n",
       "    }\n",
       "</style>\n",
       "<table border=\"1\" class=\"dataframe\">\n",
       "  <thead>\n",
       "    <tr style=\"text-align: right;\">\n",
       "      <th></th>\n",
       "      <th>age</th>\n",
       "      <th>job</th>\n",
       "      <th>marital</th>\n",
       "      <th>education</th>\n",
       "      <th>default</th>\n",
       "      <th>balance</th>\n",
       "      <th>housing</th>\n",
       "      <th>loan</th>\n",
       "      <th>contact</th>\n",
       "      <th>day</th>\n",
       "      <th>month</th>\n",
       "      <th>duration</th>\n",
       "      <th>campaign</th>\n",
       "      <th>pdays</th>\n",
       "      <th>previous</th>\n",
       "      <th>poutcome</th>\n",
       "      <th>y</th>\n",
       "    </tr>\n",
       "  </thead>\n",
       "  <tbody>\n",
       "    <tr>\n",
       "      <th>0</th>\n",
       "      <td>42</td>\n",
       "      <td>9</td>\n",
       "      <td>0</td>\n",
       "      <td>1</td>\n",
       "      <td>0</td>\n",
       "      <td>-78</td>\n",
       "      <td>1</td>\n",
       "      <td>1</td>\n",
       "      <td>0</td>\n",
       "      <td>28</td>\n",
       "      <td>5</td>\n",
       "      <td>10</td>\n",
       "      <td>23</td>\n",
       "      <td>-1</td>\n",
       "      <td>0</td>\n",
       "      <td>3</td>\n",
       "      <td>0</td>\n",
       "    </tr>\n",
       "    <tr>\n",
       "      <th>1</th>\n",
       "      <td>50</td>\n",
       "      <td>4</td>\n",
       "      <td>1</td>\n",
       "      <td>2</td>\n",
       "      <td>0</td>\n",
       "      <td>106</td>\n",
       "      <td>1</td>\n",
       "      <td>0</td>\n",
       "      <td>2</td>\n",
       "      <td>14</td>\n",
       "      <td>8</td>\n",
       "      <td>388</td>\n",
       "      <td>2</td>\n",
       "      <td>-1</td>\n",
       "      <td>0</td>\n",
       "      <td>3</td>\n",
       "      <td>0</td>\n",
       "    </tr>\n",
       "    <tr>\n",
       "      <th>2</th>\n",
       "      <td>47</td>\n",
       "      <td>0</td>\n",
       "      <td>1</td>\n",
       "      <td>1</td>\n",
       "      <td>0</td>\n",
       "      <td>407</td>\n",
       "      <td>1</td>\n",
       "      <td>0</td>\n",
       "      <td>2</td>\n",
       "      <td>4</td>\n",
       "      <td>6</td>\n",
       "      <td>67</td>\n",
       "      <td>12</td>\n",
       "      <td>-1</td>\n",
       "      <td>0</td>\n",
       "      <td>3</td>\n",
       "      <td>0</td>\n",
       "    </tr>\n",
       "    <tr>\n",
       "      <th>3</th>\n",
       "      <td>39</td>\n",
       "      <td>0</td>\n",
       "      <td>0</td>\n",
       "      <td>1</td>\n",
       "      <td>0</td>\n",
       "      <td>952</td>\n",
       "      <td>1</td>\n",
       "      <td>0</td>\n",
       "      <td>2</td>\n",
       "      <td>15</td>\n",
       "      <td>6</td>\n",
       "      <td>62</td>\n",
       "      <td>1</td>\n",
       "      <td>-1</td>\n",
       "      <td>0</td>\n",
       "      <td>3</td>\n",
       "      <td>0</td>\n",
       "    </tr>\n",
       "    <tr>\n",
       "      <th>4</th>\n",
       "      <td>30</td>\n",
       "      <td>4</td>\n",
       "      <td>2</td>\n",
       "      <td>2</td>\n",
       "      <td>0</td>\n",
       "      <td>364</td>\n",
       "      <td>0</td>\n",
       "      <td>0</td>\n",
       "      <td>0</td>\n",
       "      <td>29</td>\n",
       "      <td>0</td>\n",
       "      <td>306</td>\n",
       "      <td>2</td>\n",
       "      <td>-1</td>\n",
       "      <td>0</td>\n",
       "      <td>3</td>\n",
       "      <td>1</td>\n",
       "    </tr>\n",
       "  </tbody>\n",
       "</table>\n",
       "</div>"
      ],
      "text/plain": [
       "   age  job  marital  education  default  balance  housing  loan  contact  \\\n",
       "0   42    9        0          1        0      -78        1     1        0   \n",
       "1   50    4        1          2        0      106        1     0        2   \n",
       "2   47    0        1          1        0      407        1     0        2   \n",
       "3   39    0        0          1        0      952        1     0        2   \n",
       "4   30    4        2          2        0      364        0     0        0   \n",
       "\n",
       "   day  month  duration  campaign  pdays  previous  poutcome  y  \n",
       "0   28      5        10        23     -1         0         3  0  \n",
       "1   14      8       388         2     -1         0         3  0  \n",
       "2    4      6        67        12     -1         0         3  0  \n",
       "3   15      6        62         1     -1         0         3  0  \n",
       "4   29      0       306         2     -1         0         3  1  "
      ]
     },
     "execution_count": 21,
     "metadata": {},
     "output_type": "execute_result"
    }
   ],
   "source": [
    "train_df.head()"
   ]
  },
  {
   "cell_type": "code",
   "execution_count": 22,
   "id": "69023db7",
   "metadata": {
    "ExecuteTime": {
     "end_time": "2023-09-02T10:04:54.443599Z",
     "start_time": "2023-09-02T10:04:54.425285Z"
    }
   },
   "outputs": [
    {
     "name": "stdout",
     "output_type": "stream",
     "text": [
      "Index(['age', 'job', 'marital', 'education', 'default', 'balance', 'housing',\n",
      "       'loan', 'contact', 'day', 'month', 'duration', 'campaign', 'pdays',\n",
      "       'previous', 'poutcome'],\n",
      "      dtype='object')\n"
     ]
    },
    {
     "data": {
      "text/plain": [
       "((36168, 16), (36168,))"
      ]
     },
     "execution_count": 22,
     "metadata": {},
     "output_type": "execute_result"
    }
   ],
   "source": [
    "# prepare features and labels (not done any feature selection or extraction)\n",
    "# not handled class imbalance\n",
    "# dont need to normalise numerical data since we just using decision tree where decisions are binary\n",
    "import numpy as np\n",
    "\n",
    "features=train_df.drop([\"y\"],axis=1)\n",
    "print(features.columns)\n",
    "features.head()\n",
    "features=features.to_numpy()\n",
    "labels=train_df[\"y\"].to_numpy()\n",
    "features.shape,labels.shape"
   ]
  },
  {
   "cell_type": "code",
   "execution_count": 23,
   "id": "327731e3",
   "metadata": {
    "ExecuteTime": {
     "end_time": "2023-09-02T10:05:03.175232Z",
     "start_time": "2023-09-02T10:05:02.987120Z"
    }
   },
   "outputs": [],
   "source": [
    "#fit the training data\n",
    "from sklearn import tree\n",
    "\n",
    "classifier=tree.DecisionTreeClassifier()\n",
    "classifier=classifier.fit(features,labels)"
   ]
  },
  {
   "cell_type": "code",
   "execution_count": null,
   "id": "ed2e2b0e",
   "metadata": {},
   "outputs": [],
   "source": [
    "tree_output = tree.export_text(classifier)\n",
    "# print(tree_output)"
   ]
  },
  {
   "cell_type": "code",
   "execution_count": 25,
   "id": "69efb8a0",
   "metadata": {
    "ExecuteTime": {
     "end_time": "2023-09-02T10:05:17.501834Z",
     "start_time": "2023-09-02T10:05:17.442041Z"
    }
   },
   "outputs": [
    {
     "data": {
      "text/html": [
       "<div>\n",
       "<style scoped>\n",
       "    .dataframe tbody tr th:only-of-type {\n",
       "        vertical-align: middle;\n",
       "    }\n",
       "\n",
       "    .dataframe tbody tr th {\n",
       "        vertical-align: top;\n",
       "    }\n",
       "\n",
       "    .dataframe thead th {\n",
       "        text-align: right;\n",
       "    }\n",
       "</style>\n",
       "<table border=\"1\" class=\"dataframe\">\n",
       "  <thead>\n",
       "    <tr style=\"text-align: right;\">\n",
       "      <th></th>\n",
       "      <th>age</th>\n",
       "      <th>job</th>\n",
       "      <th>marital</th>\n",
       "      <th>education</th>\n",
       "      <th>default</th>\n",
       "      <th>balance</th>\n",
       "      <th>housing</th>\n",
       "      <th>loan</th>\n",
       "      <th>contact</th>\n",
       "      <th>day</th>\n",
       "      <th>month</th>\n",
       "      <th>duration</th>\n",
       "      <th>campaign</th>\n",
       "      <th>pdays</th>\n",
       "      <th>previous</th>\n",
       "      <th>poutcome</th>\n",
       "      <th>y</th>\n",
       "    </tr>\n",
       "  </thead>\n",
       "  <tbody>\n",
       "    <tr>\n",
       "      <th>0</th>\n",
       "      <td>48</td>\n",
       "      <td>3</td>\n",
       "      <td>1</td>\n",
       "      <td>2</td>\n",
       "      <td>0</td>\n",
       "      <td>468</td>\n",
       "      <td>1</td>\n",
       "      <td>0</td>\n",
       "      <td>2</td>\n",
       "      <td>13</td>\n",
       "      <td>8</td>\n",
       "      <td>220</td>\n",
       "      <td>1</td>\n",
       "      <td>-1</td>\n",
       "      <td>0</td>\n",
       "      <td>3</td>\n",
       "      <td>0</td>\n",
       "    </tr>\n",
       "    <tr>\n",
       "      <th>1</th>\n",
       "      <td>31</td>\n",
       "      <td>4</td>\n",
       "      <td>2</td>\n",
       "      <td>2</td>\n",
       "      <td>0</td>\n",
       "      <td>10215</td>\n",
       "      <td>0</td>\n",
       "      <td>0</td>\n",
       "      <td>0</td>\n",
       "      <td>21</td>\n",
       "      <td>1</td>\n",
       "      <td>139</td>\n",
       "      <td>2</td>\n",
       "      <td>-1</td>\n",
       "      <td>0</td>\n",
       "      <td>3</td>\n",
       "      <td>0</td>\n",
       "    </tr>\n",
       "    <tr>\n",
       "      <th>2</th>\n",
       "      <td>45</td>\n",
       "      <td>1</td>\n",
       "      <td>1</td>\n",
       "      <td>0</td>\n",
       "      <td>0</td>\n",
       "      <td>900</td>\n",
       "      <td>1</td>\n",
       "      <td>0</td>\n",
       "      <td>2</td>\n",
       "      <td>8</td>\n",
       "      <td>6</td>\n",
       "      <td>213</td>\n",
       "      <td>1</td>\n",
       "      <td>-1</td>\n",
       "      <td>0</td>\n",
       "      <td>3</td>\n",
       "      <td>0</td>\n",
       "    </tr>\n",
       "    <tr>\n",
       "      <th>3</th>\n",
       "      <td>58</td>\n",
       "      <td>1</td>\n",
       "      <td>1</td>\n",
       "      <td>0</td>\n",
       "      <td>0</td>\n",
       "      <td>1231</td>\n",
       "      <td>0</td>\n",
       "      <td>0</td>\n",
       "      <td>2</td>\n",
       "      <td>19</td>\n",
       "      <td>6</td>\n",
       "      <td>21</td>\n",
       "      <td>3</td>\n",
       "      <td>-1</td>\n",
       "      <td>0</td>\n",
       "      <td>3</td>\n",
       "      <td>0</td>\n",
       "    </tr>\n",
       "    <tr>\n",
       "      <th>4</th>\n",
       "      <td>35</td>\n",
       "      <td>9</td>\n",
       "      <td>2</td>\n",
       "      <td>2</td>\n",
       "      <td>0</td>\n",
       "      <td>5301</td>\n",
       "      <td>0</td>\n",
       "      <td>0</td>\n",
       "      <td>0</td>\n",
       "      <td>20</td>\n",
       "      <td>9</td>\n",
       "      <td>937</td>\n",
       "      <td>2</td>\n",
       "      <td>-1</td>\n",
       "      <td>0</td>\n",
       "      <td>3</td>\n",
       "      <td>1</td>\n",
       "    </tr>\n",
       "  </tbody>\n",
       "</table>\n",
       "</div>"
      ],
      "text/plain": [
       "   age  job  marital  education  default  balance  housing  loan  contact  \\\n",
       "0   48    3        1          2        0      468        1     0        2   \n",
       "1   31    4        2          2        0    10215        0     0        0   \n",
       "2   45    1        1          0        0      900        1     0        2   \n",
       "3   58    1        1          0        0     1231        0     0        2   \n",
       "4   35    9        2          2        0     5301        0     0        0   \n",
       "\n",
       "   day  month  duration  campaign  pdays  previous  poutcome  y  \n",
       "0   13      8       220         1     -1         0         3  0  \n",
       "1   21      1       139         2     -1         0         3  0  \n",
       "2    8      6       213         1     -1         0         3  0  \n",
       "3   19      6        21         3     -1         0         3  0  \n",
       "4   20      9       937         2     -1         0         3  1  "
      ]
     },
     "execution_count": 25,
     "metadata": {},
     "output_type": "execute_result"
    }
   ],
   "source": [
    "# preprocess test data\n",
    "\n",
    "for col in categorical_columns:\n",
    "    encoder=all_encoders[col]\n",
    "    test_df[col]=encoder.transform(test_df[col])\n",
    "    \n",
    "test_df.head()"
   ]
  },
  {
   "cell_type": "code",
   "execution_count": 26,
   "id": "02201ae9",
   "metadata": {
    "ExecuteTime": {
     "end_time": "2023-09-02T10:05:47.375774Z",
     "start_time": "2023-09-02T10:05:47.366827Z"
    }
   },
   "outputs": [
    {
     "name": "stdout",
     "output_type": "stream",
     "text": [
      "(9043, 17)\n"
     ]
    }
   ],
   "source": [
    "print(test_df.to_numpy().shape)"
   ]
  },
  {
   "cell_type": "code",
   "execution_count": 27,
   "id": "d51efdf4",
   "metadata": {
    "ExecuteTime": {
     "end_time": "2023-09-02T10:05:58.384036Z",
     "start_time": "2023-09-02T10:05:58.372189Z"
    }
   },
   "outputs": [
    {
     "data": {
      "text/plain": [
       "(9043, 16)"
      ]
     },
     "execution_count": 27,
     "metadata": {},
     "output_type": "execute_result"
    }
   ],
   "source": [
    "test_features=test_df.drop([\"y\"],axis=1).to_numpy()\n",
    "test_features.shape"
   ]
  },
  {
   "cell_type": "code",
   "execution_count": 28,
   "id": "344791c6",
   "metadata": {
    "ExecuteTime": {
     "end_time": "2023-09-02T10:06:21.441738Z",
     "start_time": "2023-09-02T10:06:21.430723Z"
    }
   },
   "outputs": [
    {
     "data": {
      "text/plain": [
       "array([0, 0, 0, ..., 0, 0, 0])"
      ]
     },
     "execution_count": 28,
     "metadata": {},
     "output_type": "execute_result"
    }
   ],
   "source": [
    "# predict on test data\n",
    "predictions=classifier.predict(test_features)\n",
    "predictions"
   ]
  },
  {
   "cell_type": "markdown",
   "id": "52a1b792",
   "metadata": {},
   "source": [
    "## metrics\n",
    "**precision, recall, and F-measure** for the 'yes' class. Moreover, we'll calculate the\n",
    "**macro-average F-measure and micro-average F-measure, Accuracy, MCC**"
   ]
  },
  {
   "cell_type": "code",
   "execution_count": 35,
   "id": "7678c6d9",
   "metadata": {
    "ExecuteTime": {
     "end_time": "2023-09-02T10:16:07.242675Z",
     "start_time": "2023-09-02T10:16:07.228173Z"
    }
   },
   "outputs": [
    {
     "data": {
      "text/plain": [
       "array([[7401,  584],\n",
       "       [ 560,  498]])"
      ]
     },
     "execution_count": 35,
     "metadata": {},
     "output_type": "execute_result"
    }
   ],
   "source": [
    "from sklearn.metrics import confusion_matrix,ConfusionMatrixDisplay\n",
    "\n",
    "conf_mat = confusion_matrix(test_df[\"y\"].to_numpy(),predictions,labels=classifier.classes_)\n",
    "conf_mat"
   ]
  },
  {
   "cell_type": "code",
   "execution_count": 39,
   "id": "64807f1e",
   "metadata": {
    "ExecuteTime": {
     "end_time": "2023-09-02T10:16:46.891127Z",
     "start_time": "2023-09-02T10:16:46.751740Z"
    }
   },
   "outputs": [
    {
     "data": {
      "image/png": "[encoded data removed]",
      "text/plain": [
       "<Figure size 640x480 with 2 Axes>"
      ]
     },
     "metadata": {},
     "output_type": "display_data"
    }
   ],
   "source": [
    "import matplotlib.pyplot as plt\n",
    "\n",
    "display = ConfusionMatrixDisplay(confusion_matrix=conf_mat)\n",
    "display.plot()\n",
    "plt.show()\n",
    "# top is actual true values, left is predicted values"
   ]
  },
  {
   "cell_type": "code",
   "execution_count": 40,
   "id": "5ac78163",
   "metadata": {
    "ExecuteTime": {
     "end_time": "2023-09-02T10:17:00.559092Z",
     "start_time": "2023-09-02T10:17:00.424495Z"
    }
   },
   "outputs": [
    {
     "data": {
      "image/png": "[encoded data removed]",
      "text/plain": [
       "<Figure size 640x480 with 2 Axes>"
      ]
     },
     "metadata": {},
     "output_type": "display_data"
    }
   ],
   "source": [
    "import matplotlib.pyplot as plt\n",
    "\n",
    "display = ConfusionMatrixDisplay(confusion_matrix=conf_mat,display_labels=[\"no\",\"yes\"])\n",
    "display.plot()\n",
    "plt.show()\n",
    "# top is actual true values, left is predicted values"
   ]
  },
  {
   "cell_type": "code",
   "execution_count": 54,
   "id": "963ce4dc",
   "metadata": {
    "ExecuteTime": {
     "end_time": "2023-09-02T10:25:59.217673Z",
     "start_time": "2023-09-02T10:25:59.205266Z"
    }
   },
   "outputs": [
    {
     "data": {
      "text/plain": [
       "(498, 7401, 584, 560)"
      ]
     },
     "execution_count": 54,
     "metadata": {},
     "output_type": "execute_result"
    }
   ],
   "source": [
    "TP,TN,FP,FN=conf_mat[-1][-1],conf_mat[0][0],conf_mat[0][-1],conf_mat[-1][0]\n",
    "TP,TN,FP,FN"
   ]
  },
  {
   "cell_type": "code",
   "execution_count": 56,
   "id": "98ee59b5",
   "metadata": {
    "ExecuteTime": {
     "end_time": "2023-09-02T10:32:29.449360Z",
     "start_time": "2023-09-02T10:32:29.435671Z"
    }
   },
   "outputs": [
    {
     "data": {
      "text/plain": [
       "(0.8734933097423422,\n",
       " 0.4602587800369686,\n",
       " 0.4706994328922495,\n",
       " 0.4654205607476635)"
      ]
     },
     "execution_count": 56,
     "metadata": {},
     "output_type": "execute_result"
    }
   ],
   "source": [
    "# accuracy=conf_mat.diagonal().sum()/conf_mat.sum()\n",
    "accuracy=(TP+TN)/conf_mat.sum()\n",
    "precision=TP/(TP+FP)\n",
    "recall=TP/(TP+FN)\n",
    "f_score=(2*precision*recall)/(precision+recall)\n",
    "\n",
    "accuracy,precision,recall,f_score"
   ]
  },
  {
   "cell_type": "markdown",
   "id": "49d74101",
   "metadata": {},
   "source": [
    "# random forest"
   ]
  },
  {
   "cell_type": "code",
   "execution_count": 57,
   "id": "4e86b6dc",
   "metadata": {
    "ExecuteTime": {
     "end_time": "2023-09-02T10:38:14.150902Z",
     "start_time": "2023-09-02T10:38:14.141126Z"
    }
   },
   "outputs": [
    {
     "data": {
      "text/plain": [
       "((36168, 16), (36168,))"
      ]
     },
     "execution_count": 57,
     "metadata": {},
     "output_type": "execute_result"
    }
   ],
   "source": [
    "features.shape,labels.shape"
   ]
  },
  {
   "cell_type": "code",
   "execution_count": 59,
   "id": "be21a94d",
   "metadata": {
    "ExecuteTime": {
     "end_time": "2023-09-02T10:38:57.033633Z",
     "start_time": "2023-09-02T10:38:54.063471Z"
    }
   },
   "outputs": [],
   "source": [
    "from sklearn.ensemble import RandomForestClassifier\n",
    "\n",
    "rf_classifier=RandomForestClassifier()\n",
    "rf_classifier=rf_classifier.fit(features,labels)"
   ]
  },
  {
   "cell_type": "code",
   "execution_count": 60,
   "id": "446d567a",
   "metadata": {
    "ExecuteTime": {
     "end_time": "2023-09-02T10:39:16.196536Z",
     "start_time": "2023-09-02T10:39:16.040400Z"
    }
   },
   "outputs": [
    {
     "data": {
      "text/plain": [
       "array([0, 0, 0, ..., 0, 0, 0])"
      ]
     },
     "execution_count": 60,
     "metadata": {},
     "output_type": "execute_result"
    }
   ],
   "source": [
    "rf_predictions=rf_classifier.predict(test_features)\n",
    "rf_predictions"
   ]
  },
  {
   "cell_type": "code",
   "execution_count": 62,
   "id": "f8906957",
   "metadata": {
    "ExecuteTime": {
     "end_time": "2023-09-02T10:41:23.215206Z",
     "start_time": "2023-09-02T10:41:23.072519Z"
    }
   },
   "outputs": [
    {
     "name": "stdout",
     "output_type": "stream",
     "text": [
      "[[7731  254]\n",
      " [ 611  447]]\n"
     ]
    },
    {
     "data": {
      "image/png": "[encoded data removed]",
      "text/plain": [
       "<Figure size 640x480 with 2 Axes>"
      ]
     },
     "metadata": {},
     "output_type": "display_data"
    }
   ],
   "source": [
    "from sklearn.metrics import confusion_matrix,ConfusionMatrixDisplay\n",
    "\n",
    "cm=confusion_matrix(test_df[\"y\"].to_numpy(),rf_predictions)\n",
    "print(cm)\n",
    "\n",
    "rf_display=ConfusionMatrixDisplay(confusion_matrix=cm,display_labels=[\"no\",\"yes\"])\n",
    "rf_display.plot()\n",
    "plt.show()"
   ]
  },
  {
   "cell_type": "code",
   "execution_count": 64,
   "id": "765d55d7",
   "metadata": {
    "ExecuteTime": {
     "end_time": "2023-09-02T10:44:44.343431Z",
     "start_time": "2023-09-02T10:44:44.328278Z"
    }
   },
   "outputs": [
    {
     "name": "stdout",
     "output_type": "stream",
     "text": [
      "447 7731 254 611\n"
     ]
    },
    {
     "data": {
      "text/plain": [
       "(0.9043459029083268, 0.637660485021398, 0.4224952741020794, 0.5082433200682206)"
      ]
     },
     "execution_count": 64,
     "metadata": {},
     "output_type": "execute_result"
    }
   ],
   "source": [
    "TP,TN,FP,FN=cm[-1][-1],cm[0][0],cm[0][-1],cm[-1][0]\n",
    "print(TP,TN,FP,FN)\n",
    "\n",
    "accuracy=(TP+TN)/(cm.sum())\n",
    "precision=TP/(TP+FP)\n",
    "recall=TP/(TP+FN)\n",
    "f_score=(2*precision*recall)/(precision+recall)\n",
    "\n",
    "accuracy,precision,recall,f_score"
   ]
  }
 ],
 "metadata": {
  "hide_input": false,
  "kernelspec": {
   "display_name": "Python 3 (ipykernel)",
   "language": "python",
   "name": "python3"
  },
  "language_info": {
   "codemirror_mode": {
    "name": "ipython",
    "version": 3
   },
   "file_extension": ".py",
   "mimetype": "text/x-python",
   "name": "python",
   "nbconvert_exporter": "python",
   "pygments_lexer": "ipython3",
   "version": "3.7.9"
  }
 },
 "nbformat": 4,
 "nbformat_minor": 5
}
