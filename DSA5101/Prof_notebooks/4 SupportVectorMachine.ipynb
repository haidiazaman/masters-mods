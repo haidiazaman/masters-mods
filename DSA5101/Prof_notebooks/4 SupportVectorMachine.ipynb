{
 "cells": [
  {
   "cell_type": "markdown",
   "metadata": {},
   "source": [
    "# DSA5101 - Introduction to Big Data for Industry\n",
    "\n",
    "\n",
    "**Prepared by *Dr Li Xiaoli*** "
   ]
  },
  {
   "cell_type": "markdown",
   "metadata": {},
   "source": [
    "# Support Vector Machines (SVMs)"
   ]
  },
  {
   "cell_type": "markdown",
   "metadata": {},
   "source": [
    "## Introduction: SVMs are supervised learning techniques that analyze data used for both classification and regression analysis. \n",
    "\n",
    "## SVM for Classification\n",
    "\n",
    "## Given a set of training examples, each marked as belonging to one or the other of two categories, an SVM training algorithm builds a model that assigns new examples to one category or the other, making it a non-probabilistic binary linear classifier. \n",
    "\n",
    "## An SVM model is a representation of the examples as points in space, mapped so that the examples of the separate categories are divided by a clear gap (hyperplane) that is as wide as possible, i.e. maximizing the margin between two classes. \n",
    "\n",
    "## New examples are then mapped into that same space and predicted to belong to a category based on which side of the gap (hyperplane) they fall on."
   ]
  },
  {
   "cell_type": "markdown",
   "metadata": {},
   "source": [
    "![image info](http://www.alivelearn.net/wp-content/uploads/2009/10/svm_linear_2class.png)"
   ]
  },
  {
   "cell_type": "markdown",
   "metadata": {},
   "source": [
    "# SVM can be used for both classification (SVC) and Regression (SVR)"
   ]
  },
  {
   "cell_type": "code",
   "execution_count": 1,
   "metadata": {},
   "outputs": [],
   "source": [
    "from sklearn import svm"
   ]
  },
  {
   "cell_type": "markdown",
   "metadata": {},
   "source": [
    "# 1.  SVM for classification (SVC)"
   ]
  },
  {
   "cell_type": "code",
   "execution_count": 2,
   "metadata": {},
   "outputs": [
    {
     "name": "stdout",
     "output_type": "stream",
     "text": [
      "Help on class SVC in module sklearn.svm._classes:\n",
      "\n",
      "class SVC(sklearn.svm._base.BaseSVC)\n",
      " |  SVC(*, C=1.0, kernel='rbf', degree=3, gamma='scale', coef0=0.0, shrinking=True, probability=False, tol=0.001, cache_size=200, class_weight=None, verbose=False, max_iter=-1, decision_function_shape='ovr', break_ties=False, random_state=None)\n",
      " |  \n",
      " |  C-Support Vector Classification.\n",
      " |  \n",
      " |  The implementation is based on libsvm. The fit time scales at least\n",
      " |  quadratically with the number of samples and may be impractical\n",
      " |  beyond tens of thousands of samples. For large datasets\n",
      " |  consider using :class:`~sklearn.svm.LinearSVC` or\n",
      " |  :class:`~sklearn.linear_model.SGDClassifier` instead, possibly after a\n",
      " |  :class:`~sklearn.kernel_approximation.Nystroem` transformer.\n",
      " |  \n",
      " |  The multiclass support is handled according to a one-vs-one scheme.\n",
      " |  \n",
      " |  For details on the precise mathematical formulation of the provided\n",
      " |  kernel functions and how `gamma`, `coef0` and `degree` affect each\n",
      " |  other, see the corresponding section in the narrative documentation:\n",
      " |  :ref:`svm_kernels`.\n",
      " |  \n",
      " |  Read more in the :ref:`User Guide <svm_classification>`.\n",
      " |  \n",
      " |  Parameters\n",
      " |  ----------\n",
      " |  C : float, default=1.0\n",
      " |      Regularization parameter. The strength of the regularization is\n",
      " |      inversely proportional to C. Must be strictly positive. The penalty\n",
      " |      is a squared l2 penalty.\n",
      " |  \n",
      " |  kernel : {'linear', 'poly', 'rbf', 'sigmoid', 'precomputed'}, default='rbf'\n",
      " |      Specifies the kernel type to be used in the algorithm.\n",
      " |      It must be one of 'linear', 'poly', 'rbf', 'sigmoid', 'precomputed' or\n",
      " |      a callable.\n",
      " |      If none is given, 'rbf' will be used. If a callable is given it is\n",
      " |      used to pre-compute the kernel matrix from data matrices; that matrix\n",
      " |      should be an array of shape ``(n_samples, n_samples)``.\n",
      " |  \n",
      " |  degree : int, default=3\n",
      " |      Degree of the polynomial kernel function ('poly').\n",
      " |      Ignored by all other kernels.\n",
      " |  \n",
      " |  gamma : {'scale', 'auto'} or float, default='scale'\n",
      " |      Kernel coefficient for 'rbf', 'poly' and 'sigmoid'.\n",
      " |  \n",
      " |      - if ``gamma='scale'`` (default) is passed then it uses\n",
      " |        1 / (n_features * X.var()) as value of gamma,\n",
      " |      - if 'auto', uses 1 / n_features.\n",
      " |  \n",
      " |      .. versionchanged:: 0.22\n",
      " |         The default value of ``gamma`` changed from 'auto' to 'scale'.\n",
      " |  \n",
      " |  coef0 : float, default=0.0\n",
      " |      Independent term in kernel function.\n",
      " |      It is only significant in 'poly' and 'sigmoid'.\n",
      " |  \n",
      " |  shrinking : bool, default=True\n",
      " |      Whether to use the shrinking heuristic.\n",
      " |      See the :ref:`User Guide <shrinking_svm>`.\n",
      " |  \n",
      " |  probability : bool, default=False\n",
      " |      Whether to enable probability estimates. This must be enabled prior\n",
      " |      to calling `fit`, will slow down that method as it internally uses\n",
      " |      5-fold cross-validation, and `predict_proba` may be inconsistent with\n",
      " |      `predict`. Read more in the :ref:`User Guide <scores_probabilities>`.\n",
      " |  \n",
      " |  tol : float, default=1e-3\n",
      " |      Tolerance for stopping criterion.\n",
      " |  \n",
      " |  cache_size : float, default=200\n",
      " |      Specify the size of the kernel cache (in MB).\n",
      " |  \n",
      " |  class_weight : dict or 'balanced', default=None\n",
      " |      Set the parameter C of class i to class_weight[i]*C for\n",
      " |      SVC. If not given, all classes are supposed to have\n",
      " |      weight one.\n",
      " |      The \"balanced\" mode uses the values of y to automatically adjust\n",
      " |      weights inversely proportional to class frequencies in the input data\n",
      " |      as ``n_samples / (n_classes * np.bincount(y))``\n",
      " |  \n",
      " |  verbose : bool, default=False\n",
      " |      Enable verbose output. Note that this setting takes advantage of a\n",
      " |      per-process runtime setting in libsvm that, if enabled, may not work\n",
      " |      properly in a multithreaded context.\n",
      " |  \n",
      " |  max_iter : int, default=-1\n",
      " |      Hard limit on iterations within solver, or -1 for no limit.\n",
      " |  \n",
      " |  decision_function_shape : {'ovo', 'ovr'}, default='ovr'\n",
      " |      Whether to return a one-vs-rest ('ovr') decision function of shape\n",
      " |      (n_samples, n_classes) as all other classifiers, or the original\n",
      " |      one-vs-one ('ovo') decision function of libsvm which has shape\n",
      " |      (n_samples, n_classes * (n_classes - 1) / 2). However, one-vs-one\n",
      " |      ('ovo') is always used as multi-class strategy. The parameter is\n",
      " |      ignored for binary classification.\n",
      " |  \n",
      " |      .. versionchanged:: 0.19\n",
      " |          decision_function_shape is 'ovr' by default.\n",
      " |  \n",
      " |      .. versionadded:: 0.17\n",
      " |         *decision_function_shape='ovr'* is recommended.\n",
      " |  \n",
      " |      .. versionchanged:: 0.17\n",
      " |         Deprecated *decision_function_shape='ovo' and None*.\n",
      " |  \n",
      " |  break_ties : bool, default=False\n",
      " |      If true, ``decision_function_shape='ovr'``, and number of classes > 2,\n",
      " |      :term:`predict` will break ties according to the confidence values of\n",
      " |      :term:`decision_function`; otherwise the first class among the tied\n",
      " |      classes is returned. Please note that breaking ties comes at a\n",
      " |      relatively high computational cost compared to a simple predict.\n",
      " |  \n",
      " |      .. versionadded:: 0.22\n",
      " |  \n",
      " |  random_state : int, RandomState instance or None, default=None\n",
      " |      Controls the pseudo random number generation for shuffling the data for\n",
      " |      probability estimates. Ignored when `probability` is False.\n",
      " |      Pass an int for reproducible output across multiple function calls.\n",
      " |      See :term:`Glossary <random_state>`.\n",
      " |  \n",
      " |  Attributes\n",
      " |  ----------\n",
      " |  class_weight_ : ndarray of shape (n_classes,)\n",
      " |      Multipliers of parameter C for each class.\n",
      " |      Computed based on the ``class_weight`` parameter.\n",
      " |  \n",
      " |  classes_ : ndarray of shape (n_classes,)\n",
      " |      The classes labels.\n",
      " |  \n",
      " |  coef_ : ndarray of shape (n_classes * (n_classes - 1) / 2, n_features)\n",
      " |      Weights assigned to the features (coefficients in the primal\n",
      " |      problem). This is only available in the case of a linear kernel.\n",
      " |  \n",
      " |      `coef_` is a readonly property derived from `dual_coef_` and\n",
      " |      `support_vectors_`.\n",
      " |  \n",
      " |  dual_coef_ : ndarray of shape (n_classes -1, n_SV)\n",
      " |      Dual coefficients of the support vector in the decision\n",
      " |      function (see :ref:`sgd_mathematical_formulation`), multiplied by\n",
      " |      their targets.\n",
      " |      For multiclass, coefficient for all 1-vs-1 classifiers.\n",
      " |      The layout of the coefficients in the multiclass case is somewhat\n",
      " |      non-trivial. See the :ref:`multi-class section of the User Guide\n",
      " |      <svm_multi_class>` for details.\n",
      " |  \n",
      " |  fit_status_ : int\n",
      " |      0 if correctly fitted, 1 otherwise (will raise warning)\n",
      " |  \n",
      " |  intercept_ : ndarray of shape (n_classes * (n_classes - 1) / 2,)\n",
      " |      Constants in decision function.\n",
      " |  \n",
      " |  support_ : ndarray of shape (n_SV)\n",
      " |      Indices of support vectors.\n",
      " |  \n",
      " |  support_vectors_ : ndarray of shape (n_SV, n_features)\n",
      " |      Support vectors.\n",
      " |  \n",
      " |  n_support_ : ndarray of shape (n_classes,), dtype=int32\n",
      " |      Number of support vectors for each class.\n",
      " |  \n",
      " |  probA_ : ndarray of shape (n_classes * (n_classes - 1) / 2)\n",
      " |  probB_ : ndarray of shape (n_classes * (n_classes - 1) / 2)\n",
      " |      If `probability=True`, it corresponds to the parameters learned in\n",
      " |      Platt scaling to produce probability estimates from decision values.\n",
      " |      If `probability=False`, it's an empty array. Platt scaling uses the\n",
      " |      logistic function\n",
      " |      ``1 / (1 + exp(decision_value * probA_ + probB_))``\n",
      " |      where ``probA_`` and ``probB_`` are learned from the dataset [2]_. For\n",
      " |      more information on the multiclass case and training procedure see\n",
      " |      section 8 of [1]_.\n",
      " |  \n",
      " |  shape_fit_ : tuple of int of shape (n_dimensions_of_X,)\n",
      " |      Array dimensions of training vector ``X``.\n",
      " |  \n",
      " |  Examples\n",
      " |  --------\n",
      " |  >>> import numpy as np\n",
      " |  >>> from sklearn.pipeline import make_pipeline\n",
      " |  >>> from sklearn.preprocessing import StandardScaler\n",
      " |  >>> X = np.array([[-1, -1], [-2, -1], [1, 1], [2, 1]])\n",
      " |  >>> y = np.array([1, 1, 2, 2])\n",
      " |  >>> from sklearn.svm import SVC\n",
      " |  >>> clf = make_pipeline(StandardScaler(), SVC(gamma='auto'))\n",
      " |  >>> clf.fit(X, y)\n",
      " |  Pipeline(steps=[('standardscaler', StandardScaler()),\n",
      " |                  ('svc', SVC(gamma='auto'))])\n",
      " |  \n",
      " |  >>> print(clf.predict([[-0.8, -1]]))\n",
      " |  [1]\n",
      " |  \n",
      " |  See Also\n",
      " |  --------\n",
      " |  SVR : Support Vector Machine for Regression implemented using libsvm.\n",
      " |  \n",
      " |  LinearSVC : Scalable Linear Support Vector Machine for classification\n",
      " |      implemented using liblinear. Check the See Also section of\n",
      " |      LinearSVC for more comparison element.\n",
      " |  \n",
      " |  References\n",
      " |  ----------\n",
      " |  .. [1] `LIBSVM: A Library for Support Vector Machines\n",
      " |      <http://www.csie.ntu.edu.tw/~cjlin/papers/libsvm.pdf>`_\n",
      " |  \n",
      " |  .. [2] `Platt, John (1999). \"Probabilistic outputs for support vector\n",
      " |      machines and comparison to regularizedlikelihood methods.\"\n",
      " |      <http://citeseer.ist.psu.edu/viewdoc/summary?doi=10.1.1.41.1639>`_\n",
      " |  \n",
      " |  Method resolution order:\n",
      " |      SVC\n",
      " |      sklearn.svm._base.BaseSVC\n",
      " |      sklearn.base.ClassifierMixin\n",
      " |      sklearn.svm._base.BaseLibSVM\n",
      " |      sklearn.base.BaseEstimator\n",
      " |      builtins.object\n",
      " |  \n",
      " |  Methods defined here:\n",
      " |  \n",
      " |  __init__(self, *, C=1.0, kernel='rbf', degree=3, gamma='scale', coef0=0.0, shrinking=True, probability=False, tol=0.001, cache_size=200, class_weight=None, verbose=False, max_iter=-1, decision_function_shape='ovr', break_ties=False, random_state=None)\n",
      " |      Initialize self.  See help(type(self)) for accurate signature.\n",
      " |  \n",
      " |  ----------------------------------------------------------------------\n",
      " |  Data and other attributes defined here:\n",
      " |  \n",
      " |  __abstractmethods__ = frozenset()\n",
      " |  \n",
      " |  ----------------------------------------------------------------------\n",
      " |  Methods inherited from sklearn.svm._base.BaseSVC:\n",
      " |  \n",
      " |  decision_function(self, X)\n",
      " |      Evaluates the decision function for the samples in X.\n",
      " |      \n",
      " |      Parameters\n",
      " |      ----------\n",
      " |      X : array-like of shape (n_samples, n_features)\n",
      " |      \n",
      " |      Returns\n",
      " |      -------\n",
      " |      X : ndarray of shape (n_samples, n_classes * (n_classes-1) / 2)\n",
      " |          Returns the decision function of the sample for each class\n",
      " |          in the model.\n",
      " |          If decision_function_shape='ovr', the shape is (n_samples,\n",
      " |          n_classes).\n",
      " |      \n",
      " |      Notes\n",
      " |      -----\n",
      " |      If decision_function_shape='ovo', the function values are proportional\n",
      " |      to the distance of the samples X to the separating hyperplane. If the\n",
      " |      exact distances are required, divide the function values by the norm of\n",
      " |      the weight vector (``coef_``). See also `this question\n",
      " |      <https://stats.stackexchange.com/questions/14876/\n",
      " |      interpreting-distance-from-hyperplane-in-svm>`_ for further details.\n",
      " |      If decision_function_shape='ovr', the decision function is a monotonic\n",
      " |      transformation of ovo decision function.\n",
      " |  \n",
      " |  predict(self, X)\n",
      " |      Perform classification on samples in X.\n",
      " |      \n",
      " |      For an one-class model, +1 or -1 is returned.\n",
      " |      \n",
      " |      Parameters\n",
      " |      ----------\n",
      " |      X : {array-like, sparse matrix} of shape (n_samples, n_features) or                 (n_samples_test, n_samples_train)\n",
      " |          For kernel=\"precomputed\", the expected shape of X is\n",
      " |          (n_samples_test, n_samples_train).\n",
      " |      \n",
      " |      Returns\n",
      " |      -------\n",
      " |      y_pred : ndarray of shape (n_samples,)\n",
      " |          Class labels for samples in X.\n",
      " |  \n",
      " |  ----------------------------------------------------------------------\n",
      " |  Readonly properties inherited from sklearn.svm._base.BaseSVC:\n",
      " |  \n",
      " |  predict_log_proba\n",
      " |      Compute log probabilities of possible outcomes for samples in X.\n",
      " |      \n",
      " |      The model need to have probability information computed at training\n",
      " |      time: fit with attribute `probability` set to True.\n",
      " |      \n",
      " |      Parameters\n",
      " |      ----------\n",
      " |      X : array-like of shape (n_samples, n_features) or                 (n_samples_test, n_samples_train)\n",
      " |          For kernel=\"precomputed\", the expected shape of X is\n",
      " |          (n_samples_test, n_samples_train).\n",
      " |      \n",
      " |      Returns\n",
      " |      -------\n",
      " |      T : ndarray of shape (n_samples, n_classes)\n",
      " |          Returns the log-probabilities of the sample for each class in\n",
      " |          the model. The columns correspond to the classes in sorted\n",
      " |          order, as they appear in the attribute :term:`classes_`.\n",
      " |      \n",
      " |      Notes\n",
      " |      -----\n",
      " |      The probability model is created using cross validation, so\n",
      " |      the results can be slightly different than those obtained by\n",
      " |      predict. Also, it will produce meaningless results on very small\n",
      " |      datasets.\n",
      " |  \n",
      " |  predict_proba\n",
      " |      Compute probabilities of possible outcomes for samples in X.\n",
      " |      \n",
      " |      The model need to have probability information computed at training\n",
      " |      time: fit with attribute `probability` set to True.\n",
      " |      \n",
      " |      Parameters\n",
      " |      ----------\n",
      " |      X : array-like of shape (n_samples, n_features)\n",
      " |          For kernel=\"precomputed\", the expected shape of X is\n",
      " |          (n_samples_test, n_samples_train).\n",
      " |      \n",
      " |      Returns\n",
      " |      -------\n",
      " |      T : ndarray of shape (n_samples, n_classes)\n",
      " |          Returns the probability of the sample for each class in\n",
      " |          the model. The columns correspond to the classes in sorted\n",
      " |          order, as they appear in the attribute :term:`classes_`.\n",
      " |      \n",
      " |      Notes\n",
      " |      -----\n",
      " |      The probability model is created using cross validation, so\n",
      " |      the results can be slightly different than those obtained by\n",
      " |      predict. Also, it will produce meaningless results on very small\n",
      " |      datasets.\n",
      " |  \n",
      " |  probA_\n",
      " |  \n",
      " |  probB_\n",
      " |  \n",
      " |  ----------------------------------------------------------------------\n",
      " |  Methods inherited from sklearn.base.ClassifierMixin:\n",
      " |  \n",
      " |  score(self, X, y, sample_weight=None)\n",
      " |      Return the mean accuracy on the given test data and labels.\n",
      " |      \n",
      " |      In multi-label classification, this is the subset accuracy\n",
      " |      which is a harsh metric since you require for each sample that\n",
      " |      each label set be correctly predicted.\n",
      " |      \n",
      " |      Parameters\n",
      " |      ----------\n",
      " |      X : array-like of shape (n_samples, n_features)\n",
      " |          Test samples.\n",
      " |      \n",
      " |      y : array-like of shape (n_samples,) or (n_samples, n_outputs)\n",
      " |          True labels for `X`.\n",
      " |      \n",
      " |      sample_weight : array-like of shape (n_samples,), default=None\n",
      " |          Sample weights.\n",
      " |      \n",
      " |      Returns\n",
      " |      -------\n",
      " |      score : float\n",
      " |          Mean accuracy of ``self.predict(X)`` wrt. `y`.\n",
      " |  \n",
      " |  ----------------------------------------------------------------------\n",
      " |  Data descriptors inherited from sklearn.base.ClassifierMixin:\n",
      " |  \n",
      " |  __dict__\n",
      " |      dictionary for instance variables (if defined)\n",
      " |  \n",
      " |  __weakref__\n",
      " |      list of weak references to the object (if defined)\n",
      " |  \n",
      " |  ----------------------------------------------------------------------\n",
      " |  Methods inherited from sklearn.svm._base.BaseLibSVM:\n",
      " |  \n",
      " |  fit(self, X, y, sample_weight=None)\n",
      " |      Fit the SVM model according to the given training data.\n",
      " |      \n",
      " |      Parameters\n",
      " |      ----------\n",
      " |      X : {array-like, sparse matrix} of shape (n_samples, n_features)                 or (n_samples, n_samples)\n",
      " |          Training vectors, where n_samples is the number of samples\n",
      " |          and n_features is the number of features.\n",
      " |          For kernel=\"precomputed\", the expected shape of X is\n",
      " |          (n_samples, n_samples).\n",
      " |      \n",
      " |      y : array-like of shape (n_samples,)\n",
      " |          Target values (class labels in classification, real numbers in\n",
      " |          regression).\n",
      " |      \n",
      " |      sample_weight : array-like of shape (n_samples,), default=None\n",
      " |          Per-sample weights. Rescale C per sample. Higher weights\n",
      " |          force the classifier to put more emphasis on these points.\n",
      " |      \n",
      " |      Returns\n",
      " |      -------\n",
      " |      self : object\n",
      " |      \n",
      " |      Notes\n",
      " |      -----\n",
      " |      If X and y are not C-ordered and contiguous arrays of np.float64 and\n",
      " |      X is not a scipy.sparse.csr_matrix, X and/or y may be copied.\n",
      " |      \n",
      " |      If X is a dense array, then the other methods will not support sparse\n",
      " |      matrices as input.\n",
      " |  \n",
      " |  ----------------------------------------------------------------------\n",
      " |  Readonly properties inherited from sklearn.svm._base.BaseLibSVM:\n",
      " |  \n",
      " |  coef_\n",
      " |  \n",
      " |  n_support_\n",
      " |  \n",
      " |  ----------------------------------------------------------------------\n",
      " |  Methods inherited from sklearn.base.BaseEstimator:\n",
      " |  \n",
      " |  __getstate__(self)\n",
      " |  \n",
      " |  __repr__(self, N_CHAR_MAX=700)\n",
      " |      Return repr(self).\n",
      " |  \n",
      " |  __setstate__(self, state)\n",
      " |  \n",
      " |  get_params(self, deep=True)\n",
      " |      Get parameters for this estimator.\n",
      " |      \n",
      " |      Parameters\n",
      " |      ----------\n",
      " |      deep : bool, default=True\n",
      " |          If True, will return the parameters for this estimator and\n",
      " |          contained subobjects that are estimators.\n",
      " |      \n",
      " |      Returns\n",
      " |      -------\n",
      " |      params : dict\n",
      " |          Parameter names mapped to their values.\n",
      " |  \n",
      " |  set_params(self, **params)\n",
      " |      Set the parameters of this estimator.\n",
      " |      \n",
      " |      The method works on simple estimators as well as on nested objects\n",
      " |      (such as :class:`~sklearn.pipeline.Pipeline`). The latter have\n",
      " |      parameters of the form ``<component>__<parameter>`` so that it's\n",
      " |      possible to update each component of a nested object.\n",
      " |      \n",
      " |      Parameters\n",
      " |      ----------\n",
      " |      **params : dict\n",
      " |          Estimator parameters.\n",
      " |      \n",
      " |      Returns\n",
      " |      -------\n",
      " |      self : estimator instance\n",
      " |          Estimator instance.\n",
      "\n"
     ]
    }
   ],
   "source": [
    "help (svm.SVC)    # SVC: Support Vector Classification"
   ]
  },
  {
   "cell_type": "markdown",
   "metadata": {},
   "source": [
    "\n",
    "# Class SVC in module sklearn.svm.classes:\n",
    "\n",
    " class SVC(sklearn.svm.base.BaseSVC). C-Support Vector Classification.\n",
    "> The implementation is based on libsvm. The fit time complexity is more than quadratic with the number of samples which makes it hard to scale to dataset with more than a couple of 10000 samples.\n",
    "  \n",
    "> The multiclass support is handled according to a one-vs-one scheme.\n",
    " \n",
    "> **Parameters**\n",
    ">> C : float, optional (default=1.0).\n",
    "Penalty parameter C of the error term. The strength of the regularization is inversely proportional to C\n",
    "\n",
    ">> **kernel : string, optional (default='rbf')\n",
    " Specifies the kernel type to be used in the algorithm. It must be one of 'linear', 'poly', 'rbf', 'sigmoid', 'precomputed'. If none is given, 'rbf' will be used.** \n",
    "  \n",
    ">> degree : int, optional (default=3)\n",
    "Degree of the polynomial kernel function ('poly').\n",
    "Ignored by all other kernels.\n",
    "  \n",
    ">> gamma : float, optional (default='auto')\n",
    "Kernel coefficient for 'rbf', 'poly' and 'sigmoid'.\n",
    "If gamma is 'auto' then 1/n_features will be used instead.\n",
    "  \n",
    ">> coef0 : float, optional (default=0.0)\n",
    "Independent term in kernel function.\n",
    "It is only significant in 'poly' and 'sigmoid'.\n",
    "\n",
    ">> shrinking : bool, default=True\n",
    "Whether to use the shrinking heuristic.\n",
    "\n",
    ">> cache_size : float, optional\n",
    " Specify the size of the kernel cache (in MB).\n",
    "\n",
    ">> probability : boolean, optional (default=False)\n",
    " Whether to enable probability estimates. This must be enabled prior\n",
    " to calling `fit`, and will slow down that method.\n",
    "  \n",
    " \n",
    ">> tol : float, optional (default=1e-3)\n",
    "Tolerance for stopping criterion.\n",
    " \n",
    " \n",
    " \n",
    "\n",
    " \n",
    ">> class_weight : {dict, 'balanced'}, optional\n",
    "Set the parameter C of class i to class_weight[i]\\*C for\n",
    "SVC. If not given, all classes are supposed to have\n",
    "weight one.\n",
    "\n",
    "  \n",
    ">> verbose : bool, default: False\n",
    "Enable verbose output. Note that this setting takes advantage of a\n",
    "per-process runtime setting in libsvm that, if enabled, may not work\n",
    "properly in a multithreaded context.\n",
    "\n",
    ">> max_iter : int, optional (default=-1)\n",
    "Hard limit on iterations within solver, or -1 for no limit.\n",
    "\n",
    ">> **decision_function_shape : 'ovo', 'ovr' or None, default=None\n",
    " Whether to return a one-vs-rest ('ovr') decision function of shape\n",
    "(n_samples, n_classes) as all other classifiers, or the original\n",
    "one-vs-one ('ovo') decision function of libsvm which has shape\n",
    "(n_samples, n_classes * (n_classes - 1) / 2).\n",
    "The default of None will currently behave as 'ovo' for backward\n",
    "compatibility and raise a deprecation warning, but will change 'ovr'\n",
    "in 0.18.**\n",
    " \n",
    ">> random_state : int seed, RandomState instance, or None (default)\n",
    "The seed of the pseudo random number generator to use when\n",
    "shuffling the data for probability estimation.\n",
    " \n",
    "> **Attributes**\n",
    "\n",
    ">> **support_ : array-like, shape = [n_SV]\n",
    "Indices of support vectors.**\n",
    "  \n",
    ">> **support_vectors_ : array-like, shape = [n_SV, n_features]\n",
    "Support vectors.**\n",
    " \n",
    ">> **n_support_ : array-like, dtype=int32, shape = [n_class]\n",
    "Number of support vectors for each class.**\n",
    "  \n",
    ">> dual_coef_ : array, shape = [n_class-1, n_SV]\n",
    "   Coefficients of the support vector in the decision function.\n",
    " For multiclass, coefficient for all 1-vs-1 classifiers.\n",
    "The layout of the coefficients in the multiclass case is somewhat\n",
    "non-trivial. See the section about multi-class classification in the\n",
    "SVM section of the User Guide for details.\n",
    "  \n",
    ">> coef_ : array, shape = [n_class-1, n_features]\n",
    "Weights assigned to the features (coefficients in the primal\n",
    " problem). This is only available in the case of a linear kernel.\n",
    "\n",
    ">> `coef_` is a read-only property derived from `dual_coef_` and\n",
    " `support_vectors_`.\n",
    "\n",
    "\n",
    ">  **SVR\n",
    " Support Vector Machine for Regression implemented using libsvm.**\n",
    " \n",
    ">> **LinearSVC\n",
    "Scalable Linear Support Vector Machine for classification\n",
    " implemented using liblinear. Check the See also section of\n",
    "LinearSVC for more comparison element.**\n",
    "\n",
    ">> ...............\n"
   ]
  },
  {
   "cell_type": "markdown",
   "metadata": {},
   "source": [
    "## 1.1 A Simple Example for Binary Classification: Using default Kernel"
   ]
  },
  {
   "cell_type": "code",
   "execution_count": 3,
   "metadata": {},
   "outputs": [],
   "source": [
    "# Prepare a simple training data\n",
    "X = [[0, 0], [1, 1]]  # 2 2-D vector\n",
    "y = [0, 1]            # 2 correspondng labels\n",
    "# example [0, 0] with label 0, while example [1, 1]] with label 1"
   ]
  },
  {
   "cell_type": "code",
   "execution_count": 4,
   "metadata": {},
   "outputs": [
    {
     "data": {
      "text/plain": [
       "SVC()"
      ]
     },
     "execution_count": 4,
     "metadata": {},
     "output_type": "execute_result"
    }
   ],
   "source": [
    "clf = svm.SVC()       # Build a SVM classier  \n",
    "clf.fit(X, y)         # Fit the training data X and corresponding labels y"
   ]
  },
  {
   "cell_type": "code",
   "execution_count": 5,
   "metadata": {},
   "outputs": [
    {
     "data": {
      "text/plain": [
       "array([1])"
      ]
     },
     "execution_count": 5,
     "metadata": {},
     "output_type": "execute_result"
    }
   ],
   "source": [
    "# After being fitted to training data, the model can then be used to predict labeles for \n",
    "# newly given test/unlabelled examples\n",
    "clf.predict([[2, 2]])\n",
    "# Can you guess what the label should be the given example [2, 2]?"
   ]
  },
  {
   "cell_type": "code",
   "execution_count": 6,
   "metadata": {},
   "outputs": [
    {
     "data": {
      "text/plain": [
       "array([0])"
      ]
     },
     "execution_count": 6,
     "metadata": {},
     "output_type": "execute_result"
    }
   ],
   "source": [
    "# How about [0.2, 0.2]\n",
    "clf.predict([[0.3, 0.3]])"
   ]
  },
  {
   "cell_type": "markdown",
   "metadata": {},
   "source": [
    "### SVMs decision function depends on a subset of the training data, \n",
    "### called the support vectors.\n",
    "### Some properties of these support vectors can be found in attributes \n",
    "### support_vectors_, support_ and n_support:"
   ]
  },
  {
   "cell_type": "markdown",
   "metadata": {},
   "source": [
    "### Attributes "
   ]
  },
  {
   "cell_type": "code",
   "execution_count": 7,
   "metadata": {},
   "outputs": [
    {
     "data": {
      "text/plain": [
       "array([[0., 0.],\n",
       "       [1., 1.]])"
      ]
     },
     "execution_count": 7,
     "metadata": {},
     "output_type": "execute_result"
    }
   ],
   "source": [
    "# get support vectors\n",
    "clf.support_vectors_\n",
    "\n",
    "# we only have two training examples, and one for each class\n",
    "# Thus, they are all support vectors, and we have two support vectors, i.e. "
   ]
  },
  {
   "cell_type": "code",
   "execution_count": 8,
   "metadata": {},
   "outputs": [
    {
     "data": {
      "text/plain": [
       "array([0, 1])"
      ]
     },
     "execution_count": 8,
     "metadata": {},
     "output_type": "execute_result"
    }
   ],
   "source": [
    "# get indices of support vectors\n",
    "clf.support_ \n",
    "# The indices are 0 and 1 respectively"
   ]
  },
  {
   "cell_type": "code",
   "execution_count": 9,
   "metadata": {},
   "outputs": [
    {
     "data": {
      "text/plain": [
       "array([1, 1])"
      ]
     },
     "execution_count": 9,
     "metadata": {},
     "output_type": "execute_result"
    }
   ],
   "source": [
    "# get number of support vectors for each class\n",
    "clf.n_support_ \n",
    "# Each class get 1 support vector"
   ]
  },
  {
   "cell_type": "markdown",
   "metadata": {},
   "source": [
    "## 1.2 Second Example for Binary Classification: Using the Linear Kernel"
   ]
  },
  {
   "cell_type": "code",
   "execution_count": 10,
   "metadata": {},
   "outputs": [],
   "source": [
    "import numpy as np\n",
    "\n",
    "# Prepare a training data set with 11 examples, each represented as a 3-D vector\n",
    "X = np.array([[-1, -1, -1], [-3, -3, -3], [-99, -100, -101], [-999, -1000, -1001],\n",
    "              [-9999, -10000, -10001],[-99999, -10000, -10001],[-999999, -100000, -100001],\n",
    "              [2, 1, 3], [1, 1, 2], [99, 100, 101], [999, 1000, 1001]]) #11 3-D training examples\n",
    "y = np.array([1, 1, 1, 1, 1, 1, 1, 2, 2, 2, 2])  # 11 labels, belonging to two classes, 1 and 2; \n",
    "# First 7 examples with class 1, while the remaining 4 examples with class 2"
   ]
  },
  {
   "cell_type": "code",
   "execution_count": 11,
   "metadata": {},
   "outputs": [
    {
     "data": {
      "text/plain": [
       "SVC(kernel='linear')"
      ]
     },
     "execution_count": 11,
     "metadata": {},
     "output_type": "execute_result"
    }
   ],
   "source": [
    "# I would like to choose linear kernel (default rbf model)\n",
    "# from sklearn import svm\n",
    "clf = svm.SVC(kernel='linear')   # Build SVM classifier with linear kernel\n",
    "clf.fit(X, y)                    # fit the training data X and labels y"
   ]
  },
  {
   "cell_type": "code",
   "execution_count": 12,
   "metadata": {},
   "outputs": [
    {
     "name": "stdout",
     "output_type": "stream",
     "text": [
      "[2]\n"
     ]
    }
   ],
   "source": [
    "print(clf.predict([[3, 1, 2]]))"
   ]
  },
  {
   "cell_type": "code",
   "execution_count": 13,
   "metadata": {},
   "outputs": [
    {
     "name": "stdout",
     "output_type": "stream",
     "text": [
      "[1]\n"
     ]
    }
   ],
   "source": [
    "print(clf.predict([[-100, -20, -75]]))"
   ]
  },
  {
   "cell_type": "code",
   "execution_count": 14,
   "metadata": {},
   "outputs": [
    {
     "data": {
      "text/plain": [
       "array([[-1., -1., -1.],\n",
       "       [ 1.,  1.,  2.]])"
      ]
     },
     "execution_count": 14,
     "metadata": {},
     "output_type": "execute_result"
    }
   ],
   "source": [
    "# get support vectors\n",
    "clf.support_vectors_\n",
    "# The below two support vectors (each row is a support vector) near the class boundary"
   ]
  },
  {
   "cell_type": "code",
   "execution_count": 15,
   "metadata": {},
   "outputs": [
    {
     "data": {
      "text/plain": [
       "array([0, 8])"
      ]
     },
     "execution_count": 15,
     "metadata": {},
     "output_type": "execute_result"
    }
   ],
   "source": [
    "# get indices of support vectors\n",
    "clf.support_\n",
    "# The indices are 0 and 8 respectively; index starting with 0 ([-1., -1., -1.])\n",
    "# and [1, 1, 2]'s index is 8"
   ]
  },
  {
   "cell_type": "code",
   "execution_count": 16,
   "metadata": {},
   "outputs": [
    {
     "data": {
      "text/plain": [
       "array([1, 1])"
      ]
     },
     "execution_count": 16,
     "metadata": {},
     "output_type": "execute_result"
    }
   ],
   "source": [
    "clf.n_support_ \n",
    "#Each class get 1 support vector. While we have 11 examples, we only have 2 support vectors \n",
    "#that near class boundary"
   ]
  },
  {
   "cell_type": "markdown",
   "metadata": {},
   "source": [
    "## 1.3 A Simple Example for Multi-class classification"
   ]
  },
  {
   "cell_type": "markdown",
   "metadata": {
    "collapsed": true
   },
   "source": [
    "### SVC and NuSVC implement the “one-against-one” approach (Knerr et al., 1990) \n",
    "###  for multi-class classification.\n",
    "### If _n_ is the number of classes, then _n_ * (_n_ - 1) / 2 classifiers are constructed and each one trains data from two classes. \n",
    "### To provide a consistent interface with other classifiers, \n",
    "### the decision_function_shape option allows to aggregate the results of \n",
    "### the “one-against-one” classifiers to a decision function of shape (n_samples, n_classes):"
   ]
  },
  {
   "cell_type": "code",
   "execution_count": 17,
   "metadata": {},
   "outputs": [],
   "source": [
    "X = [[0, 0], [0, 1], [1, 1], [1, 2], [2, 2],[2, 3], [3, 3], [3, 4]]\n",
    "y = [0, 0, 1, 1, 2, 2, 3, 3]\n",
    "# 8 training examples with 4 UNIQUE labels (0, 1, 2, 3), i.e. 4 class/category classification problem"
   ]
  },
  {
   "cell_type": "markdown",
   "metadata": {},
   "source": [
    "### 1.3.1 ovo: one-vs-one"
   ]
  },
  {
   "cell_type": "markdown",
   "metadata": {},
   "source": [
    "This strategy consists in fitting one classifier per class pair. At prediction time, the class which received the most votes is selected. Since it requires to fit _n_ * (_n_ - 1) / 2 classifiers, this method is usually slower than one-vs-the-rest, due to its _O(n^2) complexity, where n is the number of classes"
   ]
  },
  {
   "cell_type": "code",
   "execution_count": 18,
   "metadata": {},
   "outputs": [
    {
     "data": {
      "text/plain": [
       "SVC(decision_function_shape='ovo')"
      ]
     },
     "execution_count": 18,
     "metadata": {},
     "output_type": "execute_result"
    }
   ],
   "source": [
    "# decision_function_shape='ovo' indicates that we build one-against-one classifiers\n",
    "clf = svm.SVC(decision_function_shape='ovo')  \n",
    "clf.fit(X, y)"
   ]
  },
  {
   "cell_type": "code",
   "execution_count": 19,
   "metadata": {},
   "outputs": [
    {
     "name": "stdout",
     "output_type": "stream",
     "text": [
      "[1]\n"
     ]
    }
   ],
   "source": [
    "# Classification/Prediction\n",
    "print(clf.predict([[1.5, 1.5]]))"
   ]
  },
  {
   "cell_type": "code",
   "execution_count": 20,
   "metadata": {},
   "outputs": [
    {
     "name": "stdout",
     "output_type": "stream",
     "text": [
      "[3]\n"
     ]
    }
   ],
   "source": [
    "# Classification/Prediction\n",
    "print(clf.predict([[3.5, 3.5]]))"
   ]
  },
  {
   "cell_type": "code",
   "execution_count": 21,
   "metadata": {},
   "outputs": [],
   "source": [
    "dec = clf.decision_function([[1.5, 1.5]])"
   ]
  },
  {
   "cell_type": "code",
   "execution_count": 22,
   "metadata": {},
   "outputs": [
    {
     "data": {
      "text/plain": [
       "6"
      ]
     },
     "execution_count": 22,
     "metadata": {},
     "output_type": "execute_result"
    }
   ],
   "source": [
    "dec.shape[1]    # 4 classes: 4*(4-1)/2 = 6, i.e. 6 decision functions, according to 1 vs 1 fashion"
   ]
  },
  {
   "cell_type": "markdown",
   "metadata": {},
   "source": [
    "### 1.3.2 ovr: one-vs-rest"
   ]
  },
  {
   "cell_type": "markdown",
   "metadata": {},
   "source": [
    "Also known as one-vs-rest/all, this strategy consists in fitting one classifier per class. For each classifier, the class is fitted against all the other classes. In addition to its computational efficiency (_O_(_n_), as only _n_ classifiers are needed). This is the most commonly used strategy for multiclass classification and is a fair default choice."
   ]
  },
  {
   "cell_type": "code",
   "execution_count": 23,
   "metadata": {},
   "outputs": [
    {
     "data": {
      "text/plain": [
       "SVC()"
      ]
     },
     "execution_count": 23,
     "metadata": {},
     "output_type": "execute_result"
    }
   ],
   "source": [
    "# decision_function_shape='ovr' indicates that we build one-against-rest classifiers\n",
    "clf.decision_function_shape = \"ovr\"\n",
    "clf.fit(X, y) "
   ]
  },
  {
   "cell_type": "code",
   "execution_count": 24,
   "metadata": {},
   "outputs": [
    {
     "name": "stdout",
     "output_type": "stream",
     "text": [
      "[[0, 0], [0, 1], [1, 1], [1, 2], [2, 2], [2, 3], [3, 3], [3, 4]]\n",
      "[0, 0, 1, 1, 2, 2, 3, 3]\n"
     ]
    }
   ],
   "source": [
    "print (X)\n",
    "print (y)"
   ]
  },
  {
   "cell_type": "code",
   "execution_count": 25,
   "metadata": {},
   "outputs": [
    {
     "name": "stdout",
     "output_type": "stream",
     "text": [
      "[1]\n"
     ]
    }
   ],
   "source": [
    "# Classification/Prediction\n",
    "print(clf.predict([[1.5, 1.5]]))"
   ]
  },
  {
   "cell_type": "code",
   "execution_count": 26,
   "metadata": {},
   "outputs": [
    {
     "name": "stdout",
     "output_type": "stream",
     "text": [
      "[3]\n"
     ]
    }
   ],
   "source": [
    "# Classification/Prediction\n",
    "print(clf.predict([[3.5, 3.5]]))"
   ]
  },
  {
   "cell_type": "code",
   "execution_count": 27,
   "metadata": {},
   "outputs": [
    {
     "data": {
      "text/plain": [
       "4"
      ]
     },
     "execution_count": 27,
     "metadata": {},
     "output_type": "execute_result"
    }
   ],
   "source": [
    "dec = clf.decision_function([[1.5, 1.5]])\n",
    "dec.shape[1] # 4 classes and 4 classifiers,  according to 1 vs rest fashion"
   ]
  },
  {
   "cell_type": "markdown",
   "metadata": {},
   "source": [
    "### 1.3.3 LinearSVC implements “one-vs-the-rest” default multi-class strategy, training _n_ models. Clearly, it uses linear model (as its name shows)"
   ]
  },
  {
   "cell_type": "code",
   "execution_count": 28,
   "metadata": {},
   "outputs": [
    {
     "data": {
      "text/plain": [
       "LinearSVC()"
      ]
     },
     "execution_count": 28,
     "metadata": {},
     "output_type": "execute_result"
    }
   ],
   "source": [
    "lin_clf = svm.LinearSVC()  #Note the difference with svm.SVC whether you can choose from different kernels\n",
    "lin_clf.fit(X, y) "
   ]
  },
  {
   "cell_type": "code",
   "execution_count": 29,
   "metadata": {},
   "outputs": [
    {
     "name": "stdout",
     "output_type": "stream",
     "text": [
      "[1]\n"
     ]
    }
   ],
   "source": [
    "# Classification/Prediction\n",
    "print(clf.predict([[1.5, 1.5]]))"
   ]
  },
  {
   "cell_type": "code",
   "execution_count": 30,
   "metadata": {},
   "outputs": [
    {
     "name": "stdout",
     "output_type": "stream",
     "text": [
      "[3]\n"
     ]
    }
   ],
   "source": [
    "# Classification/Prediction\n",
    "print(clf.predict([[3.5, 3.5]]))"
   ]
  },
  {
   "cell_type": "code",
   "execution_count": 31,
   "metadata": {},
   "outputs": [
    {
     "data": {
      "text/plain": [
       "4"
      ]
     },
     "execution_count": 31,
     "metadata": {},
     "output_type": "execute_result"
    }
   ],
   "source": [
    "dec = lin_clf.decision_function([[1.5, 1.5]])\n",
    "dec.shape[1]  # 4 classes and 4 classifiers,  according to 1 vs rest fashion using linear kernel"
   ]
  },
  {
   "cell_type": "markdown",
   "metadata": {
    "collapsed": true
   },
   "source": [
    "# 2.   SVM for Regression (SVR) "
   ]
  },
  {
   "cell_type": "code",
   "execution_count": 32,
   "metadata": {},
   "outputs": [],
   "source": [
    "from sklearn import svm\n",
    "\n",
    "# Prepare training data- note label y consists of real-values, so we are doing regression\n",
    "X = [[0, 0], [0.2, 0.3], [0.5, 0.7], [1.0, 1.2], [1.2, 1.4], [1.4, 1.6],\n",
    "     [1.6, 1.8], [1.8, 2]]\n",
    "y = [0.1, 0.25, 0.6, 1.1, 1.3, 1.45, 1.7, 1.9]"
   ]
  },
  {
   "cell_type": "markdown",
   "metadata": {},
   "source": [
    "## Note our target variable y's values - NOT Discrete CLASS LABEL; \n",
    "## Instead, they are continous/numeric/real values"
   ]
  },
  {
   "cell_type": "code",
   "execution_count": 33,
   "metadata": {},
   "outputs": [
    {
     "data": {
      "text/plain": [
       "SVR()"
      ]
     },
     "execution_count": 33,
     "metadata": {},
     "output_type": "execute_result"
    }
   ],
   "source": [
    "clf = svm.SVR()  # We want to build SVR model\n",
    "clf.fit(X, y)    # by default, we also use rbf kernel"
   ]
  },
  {
   "cell_type": "code",
   "execution_count": 34,
   "metadata": {},
   "outputs": [
    {
     "data": {
      "text/plain": [
       "array([0.73803486])"
      ]
     },
     "execution_count": 34,
     "metadata": {},
     "output_type": "execute_result"
    }
   ],
   "source": [
    "# Regression/Prediction\n",
    "clf.predict([[0.5, 0.8]])"
   ]
  },
  {
   "cell_type": "code",
   "execution_count": 35,
   "metadata": {},
   "outputs": [
    {
     "data": {
      "text/plain": [
       "array([1.0403844])"
      ]
     },
     "execution_count": 35,
     "metadata": {},
     "output_type": "execute_result"
    }
   ],
   "source": [
    "# Regression/Prediction\n",
    "clf.predict([[1, 1]])"
   ]
  },
  {
   "cell_type": "code",
   "execution_count": 36,
   "metadata": {},
   "outputs": [
    {
     "data": {
      "text/plain": [
       "array([1.56944981])"
      ]
     },
     "execution_count": 36,
     "metadata": {},
     "output_type": "execute_result"
    }
   ],
   "source": [
    "# Regression/Prediction\n",
    "clf.predict([[2, 1.5]])"
   ]
  },
  {
   "cell_type": "code",
   "execution_count": 37,
   "metadata": {},
   "outputs": [
    {
     "data": {
      "text/plain": [
       "SVR(kernel='linear')"
      ]
     },
     "execution_count": 37,
     "metadata": {},
     "output_type": "execute_result"
    }
   ],
   "source": [
    "# Let us change to linear kernel\n",
    "clf = svm.SVR(kernel='linear')\n",
    "clf.fit(X, y)"
   ]
  },
  {
   "cell_type": "code",
   "execution_count": 38,
   "metadata": {},
   "outputs": [
    {
     "data": {
      "text/plain": [
       "array([0.70385324])"
      ]
     },
     "execution_count": 38,
     "metadata": {},
     "output_type": "execute_result"
    }
   ],
   "source": [
    "clf.predict([[0.5, 0.8]])"
   ]
  },
  {
   "cell_type": "code",
   "execution_count": 39,
   "metadata": {},
   "outputs": [
    {
     "data": {
      "text/plain": [
       "array([1.00715599])"
      ]
     },
     "execution_count": 39,
     "metadata": {},
     "output_type": "execute_result"
    }
   ],
   "source": [
    "clf.predict([[1, 1]])"
   ]
  },
  {
   "cell_type": "code",
   "execution_count": 40,
   "metadata": {},
   "outputs": [
    {
     "data": {
      "text/plain": [
       "array([1.65899085])"
      ]
     },
     "execution_count": 40,
     "metadata": {},
     "output_type": "execute_result"
    }
   ],
   "source": [
    "clf.predict([[2, 1.5]])"
   ]
  },
  {
   "cell_type": "markdown",
   "metadata": {},
   "source": [
    "### You notice that the process is same with classification. The only differences are \n",
    "* 1. We use SVR \n",
    "* 2. Labels are real values (training data looks different)"
   ]
  },
  {
   "cell_type": "markdown",
   "metadata": {
    "collapsed": true
   },
   "source": [
    "# 3. One Class SVM          "
   ]
  },
  {
   "cell_type": "code",
   "execution_count": 41,
   "metadata": {},
   "outputs": [],
   "source": [
    "import numpy as np  # We will generate some numbers\n",
    "from sklearn import svm\n",
    "import matplotlib.pyplot as plt   # We will visulize the results. \n",
    "import matplotlib.font_manager"
   ]
  },
  {
   "cell_type": "markdown",
   "metadata": {},
   "source": [
    "## 3.1 Prepare/generate data: understand linspace function\n",
    "### linspace(start, stop, num=50, endpoint=True, retstep=False, dtype=None)\n",
    "### Returns `num` evenly spaced samples, calculated over the interval [`start`, `stop`]."
   ]
  },
  {
   "cell_type": "code",
   "execution_count": 42,
   "metadata": {},
   "outputs": [
    {
     "name": "stdout",
     "output_type": "stream",
     "text": [
      "Help on function linspace in module numpy:\n",
      "\n",
      "linspace(start, stop, num=50, endpoint=True, retstep=False, dtype=None, axis=0)\n",
      "    Return evenly spaced numbers over a specified interval.\n",
      "    \n",
      "    Returns `num` evenly spaced samples, calculated over the\n",
      "    interval [`start`, `stop`].\n",
      "    \n",
      "    The endpoint of the interval can optionally be excluded.\n",
      "    \n",
      "    .. versionchanged:: 1.16.0\n",
      "        Non-scalar `start` and `stop` are now supported.\n",
      "    \n",
      "    Parameters\n",
      "    ----------\n",
      "    start : array_like\n",
      "        The starting value of the sequence.\n",
      "    stop : array_like\n",
      "        The end value of the sequence, unless `endpoint` is set to False.\n",
      "        In that case, the sequence consists of all but the last of ``num + 1``\n",
      "        evenly spaced samples, so that `stop` is excluded.  Note that the step\n",
      "        size changes when `endpoint` is False.\n",
      "    num : int, optional\n",
      "        Number of samples to generate. Default is 50. Must be non-negative.\n",
      "    endpoint : bool, optional\n",
      "        If True, `stop` is the last sample. Otherwise, it is not included.\n",
      "        Default is True.\n",
      "    retstep : bool, optional\n",
      "        If True, return (`samples`, `step`), where `step` is the spacing\n",
      "        between samples.\n",
      "    dtype : dtype, optional\n",
      "        The type of the output array.  If `dtype` is not given, infer the data\n",
      "        type from the other input arguments.\n",
      "    \n",
      "        .. versionadded:: 1.9.0\n",
      "    \n",
      "    axis : int, optional\n",
      "        The axis in the result to store the samples.  Relevant only if start\n",
      "        or stop are array-like.  By default (0), the samples will be along a\n",
      "        new axis inserted at the beginning. Use -1 to get an axis at the end.\n",
      "    \n",
      "        .. versionadded:: 1.16.0\n",
      "    \n",
      "    Returns\n",
      "    -------\n",
      "    samples : ndarray\n",
      "        There are `num` equally spaced samples in the closed interval\n",
      "        ``[start, stop]`` or the half-open interval ``[start, stop)``\n",
      "        (depending on whether `endpoint` is True or False).\n",
      "    step : float, optional\n",
      "        Only returned if `retstep` is True\n",
      "    \n",
      "        Size of spacing between samples.\n",
      "    \n",
      "    \n",
      "    See Also\n",
      "    --------\n",
      "    arange : Similar to `linspace`, but uses a step size (instead of the\n",
      "             number of samples).\n",
      "    geomspace : Similar to `linspace`, but with numbers spaced evenly on a log\n",
      "                scale (a geometric progression).\n",
      "    logspace : Similar to `geomspace`, but with the end points specified as\n",
      "               logarithms.\n",
      "    \n",
      "    Examples\n",
      "    --------\n",
      "    >>> np.linspace(2.0, 3.0, num=5)\n",
      "    array([2.  , 2.25, 2.5 , 2.75, 3.  ])\n",
      "    >>> np.linspace(2.0, 3.0, num=5, endpoint=False)\n",
      "    array([2. ,  2.2,  2.4,  2.6,  2.8])\n",
      "    >>> np.linspace(2.0, 3.0, num=5, retstep=True)\n",
      "    (array([2.  ,  2.25,  2.5 ,  2.75,  3.  ]), 0.25)\n",
      "    \n",
      "    Graphical illustration:\n",
      "    \n",
      "    >>> import matplotlib.pyplot as plt\n",
      "    >>> N = 8\n",
      "    >>> y = np.zeros(N)\n",
      "    >>> x1 = np.linspace(0, 10, N, endpoint=True)\n",
      "    >>> x2 = np.linspace(0, 10, N, endpoint=False)\n",
      "    >>> plt.plot(x1, y, 'o')\n",
      "    [<matplotlib.lines.Line2D object at 0x...>]\n",
      "    >>> plt.plot(x2, y + 0.5, 'o')\n",
      "    [<matplotlib.lines.Line2D object at 0x...>]\n",
      "    >>> plt.ylim([-0.5, 1])\n",
      "    (-0.5, 1)\n",
      "    >>> plt.show()\n",
      "\n"
     ]
    }
   ],
   "source": [
    "help (np.linspace)"
   ]
  },
  {
   "cell_type": "code",
   "execution_count": 43,
   "metadata": {},
   "outputs": [
    {
     "data": {
      "text/plain": [
       "array([2.  , 2.25, 2.5 , 2.75, 3.  ])"
      ]
     },
     "execution_count": 43,
     "metadata": {},
     "output_type": "execute_result"
    }
   ],
   "source": [
    "np.linspace(2.0, 3.0, num=5)\n",
    "# Generate 5 numbers from 2 to 3 (inclusive)"
   ]
  },
  {
   "cell_type": "code",
   "execution_count": 44,
   "metadata": {},
   "outputs": [
    {
     "data": {
      "text/plain": [
       "array([2. , 2.2, 2.4, 2.6, 2.8])"
      ]
     },
     "execution_count": 44,
     "metadata": {},
     "output_type": "execute_result"
    }
   ],
   "source": [
    "#endpoint=False\n",
    "np.linspace(2.0, 3.0, num=5, endpoint=False)\n",
    "# We want 5 numbers, but we do not want to include endpoint 3 , as endpoint=False"
   ]
  },
  {
   "cell_type": "code",
   "execution_count": 45,
   "metadata": {},
   "outputs": [
    {
     "data": {
      "text/plain": [
       "(array([2.  , 2.25, 2.5 , 2.75, 3.  ]), 0.25)"
      ]
     },
     "execution_count": 45,
     "metadata": {},
     "output_type": "execute_result"
    }
   ],
   "source": [
    "#What if I want to know the step?\n",
    "np.linspace(2.0, 3.0, num=5, retstep=True) #inclusive endpoint\n",
    "#retstep : bool, optional\n",
    "# If True, return both (`samples`, `step`), where `step` is the spacing between samples."
   ]
  },
  {
   "cell_type": "code",
   "execution_count": 46,
   "metadata": {},
   "outputs": [],
   "source": [
    "## Graphical illustration"
   ]
  },
  {
   "cell_type": "code",
   "execution_count": 47,
   "metadata": {},
   "outputs": [
    {
     "data": {
      "text/plain": [
       "array([0., 0., 0., 0., 0., 0., 0., 0.])"
      ]
     },
     "execution_count": 47,
     "metadata": {},
     "output_type": "execute_result"
    }
   ],
   "source": [
    "import matplotlib.pyplot as plt\n",
    "N = 8\n",
    "y = np.zeros(N)   # Generate zeros (N)\n",
    "y"
   ]
  },
  {
   "cell_type": "code",
   "execution_count": 48,
   "metadata": {},
   "outputs": [
    {
     "data": {
      "text/plain": [
       "array([ 0.        ,  1.42857143,  2.85714286,  4.28571429,  5.71428571,\n",
       "        7.14285714,  8.57142857, 10.        ])"
      ]
     },
     "execution_count": 48,
     "metadata": {},
     "output_type": "execute_result"
    }
   ],
   "source": [
    "# Generate 8 numbers, starting with 0, ending with 10, inclusive endpoint\n",
    "x1 = np.linspace(0, 10, N, endpoint=True)\n",
    "x1"
   ]
  },
  {
   "cell_type": "code",
   "execution_count": 49,
   "metadata": {},
   "outputs": [
    {
     "data": {
      "text/plain": [
       "array([0.  , 1.25, 2.5 , 3.75, 5.  , 6.25, 7.5 , 8.75])"
      ]
     },
     "execution_count": 49,
     "metadata": {},
     "output_type": "execute_result"
    }
   ],
   "source": [
    "# Generate 8 numbers, starting with 0, ending with 10, exclusive endpoint\n",
    "x2 = np.linspace(0, 10, N, endpoint=False)\n",
    "x2"
   ]
  },
  {
   "cell_type": "code",
   "execution_count": 50,
   "metadata": {},
   "outputs": [
    {
     "data": {
      "image/png": "[encoded data removed]",
      "text/plain": [
       "<Figure size 432x288 with 1 Axes>"
      ]
     },
     "metadata": {
      "needs_background": "light"
     },
     "output_type": "display_data"
    }
   ],
   "source": [
    "plt.plot(x1, y, 'o')\n",
    "plt.plot(x2, y + 0.5, 'o')   # y+0.5 and we use x2\n",
    "plt.ylim([-0.5, 1]) # Y-axis limits\n",
    "plt.show()"
   ]
  },
  {
   "cell_type": "markdown",
   "metadata": {},
   "source": [
    "## 3.2 Prepare data: understand meshgrid function\n",
    "### meshgrid: Return coordinate matrices from coordinate vectors"
   ]
  },
  {
   "cell_type": "code",
   "execution_count": 51,
   "metadata": {
    "scrolled": true
   },
   "outputs": [],
   "source": [
    "# help (np.meshgrid)"
   ]
  },
  {
   "cell_type": "code",
   "execution_count": 52,
   "metadata": {},
   "outputs": [],
   "source": [
    "#nx, ny = (3, 2)\n",
    "#print (nx)\n",
    "#print (ny)\n",
    "#generate 3 numbers from [0, 1]\n",
    "#x = np.linspace(0, 1, nx)\n",
    "#x\n",
    "#generate 2 numbers from [0, 1]\n",
    "#y = np.linspace(0, 1, ny)\n",
    "#y\n",
    "# x=[0, 0.5, 1]\n",
    "# y=[0, 1]\n",
    "#xv, yv = np.meshgrid(x, y)\n",
    "#xv\n",
    "#yv\n",
    "#xv, yv = np.meshgrid(x, y, sparse=True)  # make sparse output arrays\n",
    "#xv\n",
    "#yv"
   ]
  },
  {
   "cell_type": "code",
   "execution_count": 53,
   "metadata": {},
   "outputs": [],
   "source": [
    "x = np.arange(-5, 5, 0.1)  # from -5 to 5 (exclusive) with step 0.1\n",
    "y = np.arange(-5, 5, 0.1) # from -5 to 5 (exclusive) with step 0.1\n",
    "xx, yy = np.meshgrid(x, y, sparse=True)"
   ]
  },
  {
   "cell_type": "code",
   "execution_count": 54,
   "metadata": {},
   "outputs": [
    {
     "data": {
      "text/plain": [
       "array([[-5.00000000e+00],\n",
       "       [-4.90000000e+00],\n",
       "       [-4.80000000e+00],\n",
       "       [-4.70000000e+00],\n",
       "       [-4.60000000e+00],\n",
       "       [-4.50000000e+00],\n",
       "       [-4.40000000e+00],\n",
       "       [-4.30000000e+00],\n",
       "       [-4.20000000e+00],\n",
       "       [-4.10000000e+00],\n",
       "       [-4.00000000e+00],\n",
       "       [-3.90000000e+00],\n",
       "       [-3.80000000e+00],\n",
       "       [-3.70000000e+00],\n",
       "       [-3.60000000e+00],\n",
       "       [-3.50000000e+00],\n",
       "       [-3.40000000e+00],\n",
       "       [-3.30000000e+00],\n",
       "       [-3.20000000e+00],\n",
       "       [-3.10000000e+00],\n",
       "       [-3.00000000e+00],\n",
       "       [-2.90000000e+00],\n",
       "       [-2.80000000e+00],\n",
       "       [-2.70000000e+00],\n",
       "       [-2.60000000e+00],\n",
       "       [-2.50000000e+00],\n",
       "       [-2.40000000e+00],\n",
       "       [-2.30000000e+00],\n",
       "       [-2.20000000e+00],\n",
       "       [-2.10000000e+00],\n",
       "       [-2.00000000e+00],\n",
       "       [-1.90000000e+00],\n",
       "       [-1.80000000e+00],\n",
       "       [-1.70000000e+00],\n",
       "       [-1.60000000e+00],\n",
       "       [-1.50000000e+00],\n",
       "       [-1.40000000e+00],\n",
       "       [-1.30000000e+00],\n",
       "       [-1.20000000e+00],\n",
       "       [-1.10000000e+00],\n",
       "       [-1.00000000e+00],\n",
       "       [-9.00000000e-01],\n",
       "       [-8.00000000e-01],\n",
       "       [-7.00000000e-01],\n",
       "       [-6.00000000e-01],\n",
       "       [-5.00000000e-01],\n",
       "       [-4.00000000e-01],\n",
       "       [-3.00000000e-01],\n",
       "       [-2.00000000e-01],\n",
       "       [-1.00000000e-01],\n",
       "       [-1.77635684e-14],\n",
       "       [ 1.00000000e-01],\n",
       "       [ 2.00000000e-01],\n",
       "       [ 3.00000000e-01],\n",
       "       [ 4.00000000e-01],\n",
       "       [ 5.00000000e-01],\n",
       "       [ 6.00000000e-01],\n",
       "       [ 7.00000000e-01],\n",
       "       [ 8.00000000e-01],\n",
       "       [ 9.00000000e-01],\n",
       "       [ 1.00000000e+00],\n",
       "       [ 1.10000000e+00],\n",
       "       [ 1.20000000e+00],\n",
       "       [ 1.30000000e+00],\n",
       "       [ 1.40000000e+00],\n",
       "       [ 1.50000000e+00],\n",
       "       [ 1.60000000e+00],\n",
       "       [ 1.70000000e+00],\n",
       "       [ 1.80000000e+00],\n",
       "       [ 1.90000000e+00],\n",
       "       [ 2.00000000e+00],\n",
       "       [ 2.10000000e+00],\n",
       "       [ 2.20000000e+00],\n",
       "       [ 2.30000000e+00],\n",
       "       [ 2.40000000e+00],\n",
       "       [ 2.50000000e+00],\n",
       "       [ 2.60000000e+00],\n",
       "       [ 2.70000000e+00],\n",
       "       [ 2.80000000e+00],\n",
       "       [ 2.90000000e+00],\n",
       "       [ 3.00000000e+00],\n",
       "       [ 3.10000000e+00],\n",
       "       [ 3.20000000e+00],\n",
       "       [ 3.30000000e+00],\n",
       "       [ 3.40000000e+00],\n",
       "       [ 3.50000000e+00],\n",
       "       [ 3.60000000e+00],\n",
       "       [ 3.70000000e+00],\n",
       "       [ 3.80000000e+00],\n",
       "       [ 3.90000000e+00],\n",
       "       [ 4.00000000e+00],\n",
       "       [ 4.10000000e+00],\n",
       "       [ 4.20000000e+00],\n",
       "       [ 4.30000000e+00],\n",
       "       [ 4.40000000e+00],\n",
       "       [ 4.50000000e+00],\n",
       "       [ 4.60000000e+00],\n",
       "       [ 4.70000000e+00],\n",
       "       [ 4.80000000e+00],\n",
       "       [ 4.90000000e+00]])"
      ]
     },
     "execution_count": 54,
     "metadata": {},
     "output_type": "execute_result"
    }
   ],
   "source": [
    "yy"
   ]
  },
  {
   "cell_type": "code",
   "execution_count": 55,
   "metadata": {},
   "outputs": [
    {
     "data": {
      "image/png": "[encoded data removed]",
      "text/plain": [
       "<Figure size 432x288 with 1 Axes>"
      ]
     },
     "metadata": {
      "needs_background": "light"
     },
     "output_type": "display_data"
    }
   ],
   "source": [
    "z = np.sin(xx**2 + yy**2) / (xx**2 + yy**2)\n",
    "h = plt.contourf(x,y,z)  # draw contour lines and filled contours\n",
    "plt.show()"
   ]
  },
  {
   "cell_type": "code",
   "execution_count": 56,
   "metadata": {},
   "outputs": [
    {
     "data": {
      "image/png": "[encoded data removed]",
      "text/plain": [
       "<Figure size 432x288 with 1 Axes>"
      ]
     },
     "metadata": {
      "needs_background": "light"
     },
     "output_type": "display_data"
    }
   ],
   "source": [
    "z = np.sin(xx**2 + yy**2) \n",
    "h = plt.contourf(x,y,z)  # draw contour lines and filled contours\n",
    "plt.show()"
   ]
  },
  {
   "cell_type": "markdown",
   "metadata": {},
   "source": [
    "## 3.3. Prepare data: understand normal distribution by using random.randn function\n",
    "### np.random.randn\n",
    "\n",
    "> Return a sample (or samples) from the standard **normal distribution.**\n",
    "\n",
    "> If positive, int_like or int-convertible arguments are provided, `randn` generates an array of shape ``(d0, d1, ..., dn)``, filled\n",
    "with random floats sampled from a univariate \"normal\" (Gaussian)\n",
    "distribution of mean 0 and variance 1\n",
    "\n",
    "> For random samples from : math:`N(\\mu, \\sigma^2)`, use:\n",
    "``sigma * np.random.randn(...) + mu``"
   ]
  },
  {
   "cell_type": "code",
   "execution_count": 57,
   "metadata": {},
   "outputs": [
    {
     "data": {
      "text/plain": [
       "0.24365852387478162"
      ]
     },
     "execution_count": 57,
     "metadata": {},
     "output_type": "execute_result"
    }
   ],
   "source": [
    "# Run this multiple times, each has different random value\n",
    "np.random.randn()"
   ]
  },
  {
   "cell_type": "code",
   "execution_count": 58,
   "metadata": {},
   "outputs": [
    {
     "data": {
      "text/plain": [
       "array([[-0.6706095 , -1.66406091,  0.75163698,  0.70328234],\n",
       "       [-0.03743616,  0.72139987, -2.18132805, -0.16654778]])"
      ]
     },
     "execution_count": 58,
     "metadata": {},
     "output_type": "execute_result"
    }
   ],
   "source": [
    "# Generate 2-by-4 array of samples\n",
    "np.random.randn (2, 4)"
   ]
  },
  {
   "cell_type": "code",
   "execution_count": 59,
   "metadata": {},
   "outputs": [
    {
     "data": {
      "text/plain": [
       "array([[ 3.64213352,  1.21282159,  2.24197229,  4.1121751 ],\n",
       "       [ 2.31277864,  6.96319823,  0.7992421 , -3.29225844]])"
      ]
     },
     "execution_count": 59,
     "metadata": {},
     "output_type": "execute_result"
    }
   ],
   "source": [
    "# For random samples from :math:N(\\mu, \\sigma^2), \n",
    "# 2-by-4 array of samples from N(3, 6.25), i.e. wih mu=3, sigma=2.5 (6.25=2.5^2)  \n",
    "# The standard deviation is the square root of the variance, 6.25 is variance, \n",
    "# 2.5 is standard deviation sigma\n",
    "# sigma * np.random.randn (...)   + mu\n",
    "2.5     * np.random.randn (2, 4)  + 3\n",
    "# mu=3, while sigma=2.5, variance =6.25"
   ]
  },
  {
   "cell_type": "code",
   "execution_count": 60,
   "metadata": {
    "scrolled": false
   },
   "outputs": [],
   "source": [
    "# help (np.random.randn)"
   ]
  },
  {
   "cell_type": "markdown",
   "metadata": {},
   "source": [
    "## 3.4 Prepare data: understand uniform distribution function by uniform function\n",
    "\n",
    "> uniform(...) method of mtrand.RandomState instance\n",
    ">> uniform(low=0.0, high=1.0, size=None)\n",
    "    \n",
    "> Draw samples from a uniform distribution.\n",
    "    \n",
    ">>Samples are uniformly distributed over the half-open interval ``[low, high)`` (includes low, but excludes high).  In other words,\n",
    "any value within the given interval is equally likely to be drawn\n",
    "by `uniform`.\n"
   ]
  },
  {
   "cell_type": "code",
   "execution_count": 61,
   "metadata": {},
   "outputs": [],
   "source": [
    "# help (np.random.uniform)"
   ]
  },
  {
   "cell_type": "code",
   "execution_count": 62,
   "metadata": {},
   "outputs": [
    {
     "data": {
      "text/plain": [
       "array([-0.23358352, -0.56492144, -0.81332154, -0.7334453 , -0.23425221,\n",
       "       -0.04623988, -0.67248118, -0.32391833, -0.98719984, -0.20561181,\n",
       "       -0.54790326, -0.52301212, -0.9346451 , -0.83203648, -0.37973282,\n",
       "       -0.02793153, -0.23659403, -0.77412795, -0.12539   , -0.31159594,\n",
       "       -0.77870858, -0.85795497, -0.96488339, -0.91372123, -0.49616076,\n",
       "       -0.37343506, -0.35311793, -0.89384037, -0.15243585, -0.47699776,\n",
       "       -0.94973053, -0.7080313 , -0.98899086, -0.85159481, -0.78906674,\n",
       "       -0.524605  , -0.7502444 , -0.56750304, -0.47648566, -0.43554358,\n",
       "       -0.74553884, -0.3426711 , -0.3702316 , -0.53912427, -0.79932075,\n",
       "       -0.96448651, -0.76462633, -0.67842522, -0.82042295, -0.43705079,\n",
       "       -0.98741326, -0.21650497, -0.65451939, -0.52235348, -0.87453362,\n",
       "       -0.89622144, -0.96840365, -0.5279014 , -0.6485245 , -0.41624205,\n",
       "       -0.44301672, -0.64480364, -0.13661423, -0.66574112, -0.23867147,\n",
       "       -0.32913999, -0.71271669, -0.56515195, -0.46115786, -0.75384925,\n",
       "       -0.21966375, -0.56928033, -0.37856026, -0.94387044, -0.44643116,\n",
       "       -0.90544043, -0.88615214, -0.28762912, -0.8849285 , -0.60131007,\n",
       "       -0.63714112, -0.27959889, -0.34345715, -0.11026797, -0.00986206,\n",
       "       -0.08059808, -0.55882173, -0.59430901, -0.60701961, -0.16509359,\n",
       "       -0.94705354, -0.79700278, -0.03271722, -0.93376903, -0.59575196,\n",
       "       -0.90099224, -0.56186304, -0.89604463, -0.87243189, -0.71660182])"
      ]
     },
     "execution_count": 62,
     "metadata": {},
     "output_type": "execute_result"
    }
   ],
   "source": [
    "#Draw samples from the distribution:\n",
    "# -1:  Lower boundary; 0:  upper boundary , 100 numbers\n",
    "s = np.random.uniform(-1, 0, 100)\n",
    "s"
   ]
  },
  {
   "cell_type": "code",
   "execution_count": 63,
   "metadata": {},
   "outputs": [
    {
     "data": {
      "text/plain": [
       "True"
      ]
     },
     "execution_count": 63,
     "metadata": {},
     "output_type": "execute_result"
    }
   ],
   "source": [
    "#All values are within the given interval:\n",
    "np.all(s >= -1)"
   ]
  },
  {
   "cell_type": "code",
   "execution_count": 64,
   "metadata": {},
   "outputs": [
    {
     "data": {
      "text/plain": [
       "True"
      ]
     },
     "execution_count": 64,
     "metadata": {},
     "output_type": "execute_result"
    }
   ],
   "source": [
    "np.all(s < 0)"
   ]
  },
  {
   "cell_type": "code",
   "execution_count": 65,
   "metadata": {},
   "outputs": [
    {
     "data": {
      "text/plain": [
       "False"
      ]
     },
     "execution_count": 65,
     "metadata": {},
     "output_type": "execute_result"
    }
   ],
   "source": [
    "np.all(s > -0.5)"
   ]
  },
  {
   "cell_type": "markdown",
   "metadata": {},
   "source": [
    "Next, we visualize the data in s according to its distributions"
   ]
  },
  {
   "cell_type": "code",
   "execution_count": 66,
   "metadata": {},
   "outputs": [
    {
     "data": {
      "image/png": "[encoded data removed]",
      "text/plain": [
       "<Figure size 432x288 with 1 Axes>"
      ]
     },
     "metadata": {
      "needs_background": "light"
     },
     "output_type": "display_data"
    }
   ],
   "source": [
    "# Display the histogram of the samples, along with the probability density function:\n",
    "import matplotlib.pyplot as plt\n",
    "count, bins, ignored = plt.hist(s, 20)  # 20 bins\n",
    "plt.plot(bins, np.ones_like(bins), linewidth=5, color='r')\n",
    "plt.show()"
   ]
  },
  {
   "cell_type": "markdown",
   "metadata": {},
   "source": [
    "# 3.5 Start to prepare data: for one Class SVM"
   ]
  },
  {
   "cell_type": "code",
   "execution_count": 67,
   "metadata": {},
   "outputs": [],
   "source": [
    "xx, yy = np.meshgrid(np.linspace(-5, 5, 500), np.linspace(-5, 5, 500))"
   ]
  },
  {
   "cell_type": "code",
   "execution_count": 68,
   "metadata": {},
   "outputs": [
    {
     "data": {
      "text/plain": [
       "array([[-5.        , -4.97995992, -4.95991984, ...,  4.95991984,\n",
       "         4.97995992,  5.        ],\n",
       "       [-5.        , -4.97995992, -4.95991984, ...,  4.95991984,\n",
       "         4.97995992,  5.        ],\n",
       "       [-5.        , -4.97995992, -4.95991984, ...,  4.95991984,\n",
       "         4.97995992,  5.        ],\n",
       "       ...,\n",
       "       [-5.        , -4.97995992, -4.95991984, ...,  4.95991984,\n",
       "         4.97995992,  5.        ],\n",
       "       [-5.        , -4.97995992, -4.95991984, ...,  4.95991984,\n",
       "         4.97995992,  5.        ],\n",
       "       [-5.        , -4.97995992, -4.95991984, ...,  4.95991984,\n",
       "         4.97995992,  5.        ]])"
      ]
     },
     "execution_count": 68,
     "metadata": {},
     "output_type": "execute_result"
    }
   ],
   "source": [
    "xx"
   ]
  },
  {
   "cell_type": "markdown",
   "metadata": {},
   "source": [
    "## 1. Construct training data (normal distribution, with $\\mu$=0, $\\sigma$ =0.3)"
   ]
  },
  {
   "cell_type": "code",
   "execution_count": null,
   "metadata": {},
   "outputs": [],
   "source": [
    "# 100-by-2 array of samples from N(0, 0.09): #(\\mu=0, \\sigma^2 =0.3^2)"
   ]
  },
  {
   "cell_type": "code",
   "execution_count": null,
   "metadata": {},
   "outputs": [],
   "source": [
    "X = 0.3 * np.random.randn(100, 2) + 0"
   ]
  },
  {
   "cell_type": "markdown",
   "metadata": {},
   "source": [
    "$\\mu$=0, $\\sigma$^2 =0.3^2=0.09  "
   ]
  },
  {
   "cell_type": "markdown",
   "metadata": {},
   "source": [
    "Variance (𝜎^2 ) is the average squared deviations from the mean, while standard deviation (𝜎) is the square root of this number. "
   ]
  },
  {
   "cell_type": "code",
   "execution_count": 70,
   "metadata": {},
   "outputs": [
    {
     "data": {
      "text/plain": [
       "array([-0.07566563, -0.21163956])"
      ]
     },
     "execution_count": 70,
     "metadata": {},
     "output_type": "execute_result"
    }
   ],
   "source": [
    "X[0]"
   ]
  },
  {
   "cell_type": "code",
   "execution_count": 71,
   "metadata": {},
   "outputs": [
    {
     "data": {
      "text/plain": [
       "array([[ 1.92433437,  1.78836044],\n",
       "       [ 2.64921532,  1.81264187],\n",
       "       [ 1.9951823 ,  2.50708578],\n",
       "       [ 1.75134808,  1.69010507],\n",
       "       [ 2.11767109,  2.40648511],\n",
       "       [ 2.21637253,  2.64166952],\n",
       "       [ 1.6744219 ,  1.96429071],\n",
       "       [ 2.09387614,  1.92748254],\n",
       "       [ 1.82490506,  1.85940629],\n",
       "       [ 1.69699821,  2.05640069],\n",
       "       [ 2.78401697,  1.96399319],\n",
       "       [ 2.20242223,  1.8189756 ],\n",
       "       [ 2.60084307,  2.05194091],\n",
       "       [ 1.71696867,  1.28866438],\n",
       "       [ 1.71650367,  2.36859809],\n",
       "       [ 2.1588175 ,  2.26013776],\n",
       "       [ 2.13004358,  1.94999384],\n",
       "       [ 2.32996847,  2.21411878],\n",
       "       [ 2.21043587,  2.23103604],\n",
       "       [ 2.13577536,  2.18591956],\n",
       "       [ 2.26281466,  2.35142031],\n",
       "       [ 2.59470159,  1.61815965],\n",
       "       [ 1.65041423,  2.11877613],\n",
       "       [ 2.03815956,  1.91951771],\n",
       "       [ 2.27114409,  2.16616022],\n",
       "       [ 2.32890969,  2.53899282],\n",
       "       [ 1.63214843,  1.95029913],\n",
       "       [ 1.52586172,  1.99249972],\n",
       "       [ 1.85275591,  2.16656178],\n",
       "       [ 2.0384601 ,  1.62123128],\n",
       "       [ 1.76898089,  2.0209335 ],\n",
       "       [ 1.69706295,  2.12116485],\n",
       "       [ 1.97685786,  1.22475158],\n",
       "       [ 2.22942528,  2.42612741],\n",
       "       [ 2.52474523,  1.97176901],\n",
       "       [ 2.42498509,  1.71608037],\n",
       "       [ 2.00120203,  1.57012905],\n",
       "       [ 1.44352096,  2.26568873],\n",
       "       [ 2.09149123,  1.66612132],\n",
       "       [ 1.95845044,  1.96727649],\n",
       "       [ 1.48983693,  1.70915095],\n",
       "       [ 1.92799253,  2.13264841],\n",
       "       [ 1.9879542 ,  2.930488  ],\n",
       "       [ 2.10428379,  1.95483385],\n",
       "       [ 1.53708882,  2.19157957],\n",
       "       [ 2.149986  ,  1.81269466],\n",
       "       [ 2.5130831 ,  1.92022168],\n",
       "       [ 1.45145389,  2.07054191],\n",
       "       [ 2.07704713,  2.21714825],\n",
       "       [ 1.7818754 ,  1.63827683],\n",
       "       [ 1.53876806,  1.51560905],\n",
       "       [ 1.52992762,  2.50664928],\n",
       "       [ 2.00562476,  2.57898836],\n",
       "       [ 1.94853942,  1.4219674 ],\n",
       "       [ 2.48984702,  2.16256992],\n",
       "       [ 1.66617438,  1.94363593],\n",
       "       [ 1.80616361,  2.29532262],\n",
       "       [ 2.36063122,  1.80090996],\n",
       "       [ 1.52613757,  1.80742524],\n",
       "       [ 2.18643238,  1.66520319],\n",
       "       [ 2.78653569,  2.30813645],\n",
       "       [ 2.06020394,  2.33435494],\n",
       "       [ 1.65953041,  1.3803382 ],\n",
       "       [ 1.67962107,  1.8326221 ],\n",
       "       [ 2.15401145,  2.39816473],\n",
       "       [ 1.97190168,  1.70534094],\n",
       "       [ 1.72177368,  1.69739701],\n",
       "       [ 2.62357682,  2.22085073],\n",
       "       [ 1.81578577,  1.99795462],\n",
       "       [ 1.7712467 ,  1.77418455],\n",
       "       [ 1.75454783,  1.93812672],\n",
       "       [ 2.09689084,  2.03039567],\n",
       "       [ 1.79618792,  1.69621037],\n",
       "       [ 1.88709822,  2.18359585],\n",
       "       [ 1.90397709,  1.71958613],\n",
       "       [ 1.98384189,  1.67125483],\n",
       "       [ 1.88141017,  2.08493562],\n",
       "       [ 2.12295386,  1.8796934 ],\n",
       "       [ 2.06399108,  1.81165523],\n",
       "       [ 2.04121855,  2.66817479],\n",
       "       [ 1.78658752,  2.00945172],\n",
       "       [ 2.21632583,  2.34316954],\n",
       "       [ 2.35375498,  1.96059259],\n",
       "       [ 1.80730862,  1.39449215],\n",
       "       [ 2.29617602,  2.19397236],\n",
       "       [ 1.93830647,  2.31421802],\n",
       "       [ 1.91301741,  1.88981368],\n",
       "       [ 1.65028893,  2.28196817],\n",
       "       [ 2.14824402,  2.52512654],\n",
       "       [ 1.97084828,  2.21584881],\n",
       "       [ 1.41487388,  2.21442492],\n",
       "       [ 1.90292249,  1.63456265],\n",
       "       [ 2.61142421,  1.9337327 ],\n",
       "       [ 1.61188836,  2.0052585 ],\n",
       "       [ 2.01175539,  2.34619158],\n",
       "       [ 2.04750506,  1.92012425],\n",
       "       [ 1.96307552,  1.89647394],\n",
       "       [ 1.99608598,  1.93485186],\n",
       "       [ 1.96689331,  1.88643695],\n",
       "       [ 2.07088092,  1.77045294],\n",
       "       [-2.07566563, -2.21163956],\n",
       "       [-1.35078468, -2.18735813],\n",
       "       [-2.0048177 , -1.49291422],\n",
       "       [-2.24865192, -2.30989493],\n",
       "       [-1.88232891, -1.59351489],\n",
       "       [-1.78362747, -1.35833048],\n",
       "       [-2.3255781 , -2.03570929],\n",
       "       [-1.90612386, -2.07251746],\n",
       "       [-2.17509494, -2.14059371],\n",
       "       [-2.30300179, -1.94359931],\n",
       "       [-1.21598303, -2.03600681],\n",
       "       [-1.79757777, -2.1810244 ],\n",
       "       [-1.39915693, -1.94805909],\n",
       "       [-2.28303133, -2.71133562],\n",
       "       [-2.28349633, -1.63140191],\n",
       "       [-1.8411825 , -1.73986224],\n",
       "       [-1.86995642, -2.05000616],\n",
       "       [-1.67003153, -1.78588122],\n",
       "       [-1.78956413, -1.76896396],\n",
       "       [-1.86422464, -1.81408044],\n",
       "       [-1.73718534, -1.64857969],\n",
       "       [-1.40529841, -2.38184035],\n",
       "       [-2.34958577, -1.88122387],\n",
       "       [-1.96184044, -2.08048229],\n",
       "       [-1.72885591, -1.83383978],\n",
       "       [-1.67109031, -1.46100718],\n",
       "       [-2.36785157, -2.04970087],\n",
       "       [-2.47413828, -2.00750028],\n",
       "       [-2.14724409, -1.83343822],\n",
       "       [-1.9615399 , -2.37876872],\n",
       "       [-2.23101911, -1.9790665 ],\n",
       "       [-2.30293705, -1.87883515],\n",
       "       [-2.02314214, -2.77524842],\n",
       "       [-1.77057472, -1.57387259],\n",
       "       [-1.47525477, -2.02823099],\n",
       "       [-1.57501491, -2.28391963],\n",
       "       [-1.99879797, -2.42987095],\n",
       "       [-2.55647904, -1.73431127],\n",
       "       [-1.90850877, -2.33387868],\n",
       "       [-2.04154956, -2.03272351],\n",
       "       [-2.51016307, -2.29084905],\n",
       "       [-2.07200747, -1.86735159],\n",
       "       [-2.0120458 , -1.069512  ],\n",
       "       [-1.89571621, -2.04516615],\n",
       "       [-2.46291118, -1.80842043],\n",
       "       [-1.850014  , -2.18730534],\n",
       "       [-1.4869169 , -2.07977832],\n",
       "       [-2.54854611, -1.92945809],\n",
       "       [-1.92295287, -1.78285175],\n",
       "       [-2.2181246 , -2.36172317],\n",
       "       [-2.46123194, -2.48439095],\n",
       "       [-2.47007238, -1.49335072],\n",
       "       [-1.99437524, -1.42101164],\n",
       "       [-2.05146058, -2.5780326 ],\n",
       "       [-1.51015298, -1.83743008],\n",
       "       [-2.33382562, -2.05636407],\n",
       "       [-2.19383639, -1.70467738],\n",
       "       [-1.63936878, -2.19909004],\n",
       "       [-2.47386243, -2.19257476],\n",
       "       [-1.81356762, -2.33479681],\n",
       "       [-1.21346431, -1.69186355],\n",
       "       [-1.93979606, -1.66564506],\n",
       "       [-2.34046959, -2.6196618 ],\n",
       "       [-2.32037893, -2.1673779 ],\n",
       "       [-1.84598855, -1.60183527],\n",
       "       [-2.02809832, -2.29465906],\n",
       "       [-2.27822632, -2.30260299],\n",
       "       [-1.37642318, -1.77914927],\n",
       "       [-2.18421423, -2.00204538],\n",
       "       [-2.2287533 , -2.22581545],\n",
       "       [-2.24545217, -2.06187328],\n",
       "       [-1.90310916, -1.96960433],\n",
       "       [-2.20381208, -2.30378963],\n",
       "       [-2.11290178, -1.81640415],\n",
       "       [-2.09602291, -2.28041387],\n",
       "       [-2.01615811, -2.32874517],\n",
       "       [-2.11858983, -1.91506438],\n",
       "       [-1.87704614, -2.1203066 ],\n",
       "       [-1.93600892, -2.18834477],\n",
       "       [-1.95878145, -1.33182521],\n",
       "       [-2.21341248, -1.99054828],\n",
       "       [-1.78367417, -1.65683046],\n",
       "       [-1.64624502, -2.03940741],\n",
       "       [-2.19269138, -2.60550785],\n",
       "       [-1.70382398, -1.80602764],\n",
       "       [-2.06169353, -1.68578198],\n",
       "       [-2.08698259, -2.11018632],\n",
       "       [-2.34971107, -1.71803183],\n",
       "       [-1.85175598, -1.47487346],\n",
       "       [-2.02915172, -1.78415119],\n",
       "       [-2.58512612, -1.78557508],\n",
       "       [-2.09707751, -2.36543735],\n",
       "       [-1.38857579, -2.0662673 ],\n",
       "       [-2.38811164, -1.9947415 ],\n",
       "       [-1.98824461, -1.65380842],\n",
       "       [-1.95249494, -2.07987575],\n",
       "       [-2.03692448, -2.10352606],\n",
       "       [-2.00391402, -2.06514814],\n",
       "       [-2.03310669, -2.11356305],\n",
       "       [-1.92911908, -2.22954706]])"
      ]
     },
     "execution_count": 71,
     "metadata": {},
     "output_type": "execute_result"
    }
   ],
   "source": [
    "# Generate 200 train data (normal distribution)\n",
    "X_train = np.r_[X + 2, X - 2]     \n",
    "# np.r_: Stack arrays into one\n",
    "# X+2: 100 2D vectors\n",
    "# X-2: 100 2D vectors\n",
    "# X-2 is on the bottom of X+2\n",
    "X_train"
   ]
  },
  {
   "cell_type": "markdown",
   "metadata": {},
   "source": [
    "Data are centerred aroud [2, 2], [-2,-2]"
   ]
  },
  {
   "cell_type": "code",
   "execution_count": 72,
   "metadata": {},
   "outputs": [
    {
     "data": {
      "text/plain": [
       "(200, 2)"
      ]
     },
     "execution_count": 72,
     "metadata": {},
     "output_type": "execute_result"
    }
   ],
   "source": [
    "X_train.shape"
   ]
  },
  {
   "cell_type": "markdown",
   "metadata": {},
   "source": [
    "## 2. Construct test data (normal distribution, with $\\mu$=0, $\\sigma$ =0.3)"
   ]
  },
  {
   "cell_type": "code",
   "execution_count": 73,
   "metadata": {},
   "outputs": [
    {
     "data": {
      "text/plain": [
       "array([[ 2.07765715,  1.51800047],\n",
       "       [ 2.31096153,  2.08963316],\n",
       "       [ 2.44457934,  1.86794448],\n",
       "       [ 2.11944533,  2.11665333],\n",
       "       [ 1.37058886,  2.22636433],\n",
       "       [ 1.94766656,  1.64135214],\n",
       "       [ 2.17451186,  1.97174066],\n",
       "       [ 2.29051104,  2.21841403],\n",
       "       [ 2.14354313,  2.20553866],\n",
       "       [ 1.9110302 ,  1.81392581],\n",
       "       [ 1.82300929,  1.76188809],\n",
       "       [ 1.9579914 ,  1.40902404],\n",
       "       [ 2.01512462,  2.34401506],\n",
       "       [ 2.26016628,  2.37222189],\n",
       "       [ 2.49684755,  1.69729891],\n",
       "       [ 2.30723595,  1.76965948],\n",
       "       [ 1.80707003,  2.35492845],\n",
       "       [ 2.02087252,  2.04215124],\n",
       "       [ 2.16625161,  2.07169577],\n",
       "       [ 1.9477305 ,  2.43295213],\n",
       "       [-1.92234285, -2.48199953],\n",
       "       [-1.68903847, -1.91036684],\n",
       "       [-1.55542066, -2.13205552],\n",
       "       [-1.88055467, -1.88334667],\n",
       "       [-2.62941114, -1.77363567],\n",
       "       [-2.05233344, -2.35864786],\n",
       "       [-1.82548814, -2.02825934],\n",
       "       [-1.70948896, -1.78158597],\n",
       "       [-1.85645687, -1.79446134],\n",
       "       [-2.0889698 , -2.18607419],\n",
       "       [-2.17699071, -2.23811191],\n",
       "       [-2.0420086 , -2.59097596],\n",
       "       [-1.98487538, -1.65598494],\n",
       "       [-1.73983372, -1.62777811],\n",
       "       [-1.50315245, -2.30270109],\n",
       "       [-1.69276405, -2.23034052],\n",
       "       [-2.19292997, -1.64507155],\n",
       "       [-1.97912748, -1.95784876],\n",
       "       [-1.83374839, -1.92830423],\n",
       "       [-2.0522695 , -1.56704787]])"
      ]
     },
     "execution_count": 73,
     "metadata": {},
     "output_type": "execute_result"
    }
   ],
   "source": [
    "# Generate 40 regular novel observations (normal distribution)\n",
    "#20-by-2 array of samples from N(0, 0.09):\n",
    "# Same \\mu and \\sigma\n",
    "X = 0.3 * np.random.randn(20, 2)+0\n",
    "X_test = np.r_[X + 2, X - 2]\n",
    "# X+2: 20 2D vectors\n",
    "# X-2: 20 2D vectors\n",
    "X_test"
   ]
  },
  {
   "cell_type": "markdown",
   "metadata": {},
   "source": [
    "Data are centerred aroud [2, 2], [-2,-2]"
   ]
  },
  {
   "cell_type": "code",
   "execution_count": 74,
   "metadata": {},
   "outputs": [
    {
     "data": {
      "text/plain": [
       "(40, 2)"
      ]
     },
     "execution_count": 74,
     "metadata": {},
     "output_type": "execute_result"
    }
   ],
   "source": [
    "X_test.shape"
   ]
  },
  {
   "cell_type": "markdown",
   "metadata": {},
   "source": [
    "## Note both of training and test data have the same normal distribution, with the same mean and same standard Deviation/Variance"
   ]
  },
  {
   "cell_type": "markdown",
   "metadata": {},
   "source": [
    "# Below we will generate 40 abnormal novel observations (uniform distribution)\n",
    "## Different distribution!!!\n",
    "## Uniform distribution is different from normal distribution, \n",
    "## that is why we they could belong to outliers, although they may not always be"
   ]
  },
  {
   "cell_type": "markdown",
   "metadata": {},
   "source": [
    "## 3. Construct outlier data set (uniform distribution) "
   ]
  },
  {
   "cell_type": "code",
   "execution_count": 75,
   "metadata": {},
   "outputs": [
    {
     "data": {
      "text/plain": [
       "array([[ 0.41508948, -1.01389006],\n",
       "       [-3.29736928, -1.35180815],\n",
       "       [ 3.37529531,  2.56649417],\n",
       "       [ 3.80254802,  3.75786516],\n",
       "       [ 2.94887227, -3.3517249 ],\n",
       "       [-0.39051056,  0.12849168],\n",
       "       [ 3.11496726,  1.92845069],\n",
       "       [ 0.83521705,  1.60115074],\n",
       "       [ 3.98762224, -2.386794  ],\n",
       "       [ 0.70173549, -3.36490421],\n",
       "       [-3.92745368, -3.72113559],\n",
       "       [ 0.10614365,  1.95745721],\n",
       "       [ 3.4244976 ,  2.38834585],\n",
       "       [-0.93366299,  0.08421657],\n",
       "       [-3.30127485, -0.28564333],\n",
       "       [ 1.13842342,  1.77221833],\n",
       "       [ 1.09189603, -3.10731479],\n",
       "       [-0.71698594,  1.58932736],\n",
       "       [-3.84317557,  0.88369961],\n",
       "       [-3.53439484,  0.84853842]])"
      ]
     },
     "execution_count": 75,
     "metadata": {},
     "output_type": "execute_result"
    }
   ],
   "source": [
    "# Generate 40 examples, folloing uniform distribution\n",
    "X_outliers = np.random.uniform(low=-4, high=4, size=(20, 2)) # Generate 20 2d data following \n",
    "X_outliers "
   ]
  },
  {
   "cell_type": "markdown",
   "metadata": {},
   "source": [
    "Data are distributed uniformly [-4,4]"
   ]
  },
  {
   "cell_type": "code",
   "execution_count": 76,
   "metadata": {},
   "outputs": [
    {
     "data": {
      "text/plain": [
       "(20, 2)"
      ]
     },
     "execution_count": 76,
     "metadata": {},
     "output_type": "execute_result"
    }
   ],
   "source": [
    "X_outliers.shape"
   ]
  },
  {
   "cell_type": "markdown",
   "metadata": {},
   "source": [
    "## 3.6 Build One Class SVM Classifier "
   ]
  },
  {
   "cell_type": "code",
   "execution_count": 77,
   "metadata": {},
   "outputs": [
    {
     "data": {
      "text/plain": [
       "OneClassSVM(gamma=0.1, nu=0.05)"
      ]
     },
     "execution_count": 77,
     "metadata": {},
     "output_type": "execute_result"
    }
   ],
   "source": [
    "clf = svm.OneClassSVM(nu=0.05, kernel=\"rbf\", gamma=0.1)    # Build One Class SVM, with rbf kernel\n",
    "# nu is a important parameter\n",
    "# nu : float, default=0.5\n",
    "# An upper bound on the fraction of training errors and \n",
    "# a lower bound of the fraction of support vectors. Should be in the interval (0, 1]. By default 0.5\n",
    "# If you set it to 0.1, you are guaranteed to find at most 10% of your training examples \n",
    "# being misclassified (you keep 90% of positive data correctly classify) and \n",
    "# at least 10% of your training examples being support vectors (could be classified wrongly). \n",
    "# This parameter is extremely important for the one class or positive class boundary\n",
    "clf.fit(X_train)  # fit the model using training data"
   ]
  },
  {
   "cell_type": "code",
   "execution_count": 78,
   "metadata": {},
   "outputs": [
    {
     "name": "stdout",
     "output_type": "stream",
     "text": [
      "Help on class OneClassSVM in module sklearn.svm._classes:\n",
      "\n",
      "class OneClassSVM(sklearn.base.OutlierMixin, sklearn.svm._base.BaseLibSVM)\n",
      " |  OneClassSVM(*, kernel='rbf', degree=3, gamma='scale', coef0=0.0, tol=0.001, nu=0.5, shrinking=True, cache_size=200, verbose=False, max_iter=-1)\n",
      " |  \n",
      " |  Unsupervised Outlier Detection.\n",
      " |  \n",
      " |  Estimate the support of a high-dimensional distribution.\n",
      " |  \n",
      " |  The implementation is based on libsvm.\n",
      " |  \n",
      " |  Read more in the :ref:`User Guide <outlier_detection>`.\n",
      " |  \n",
      " |  Parameters\n",
      " |  ----------\n",
      " |  kernel : {'linear', 'poly', 'rbf', 'sigmoid', 'precomputed'}, default='rbf'\n",
      " |       Specifies the kernel type to be used in the algorithm.\n",
      " |       It must be one of 'linear', 'poly', 'rbf', 'sigmoid', 'precomputed' or\n",
      " |       a callable.\n",
      " |       If none is given, 'rbf' will be used. If a callable is given it is\n",
      " |       used to precompute the kernel matrix.\n",
      " |  \n",
      " |  degree : int, default=3\n",
      " |      Degree of the polynomial kernel function ('poly').\n",
      " |      Ignored by all other kernels.\n",
      " |  \n",
      " |  gamma : {'scale', 'auto'} or float, default='scale'\n",
      " |      Kernel coefficient for 'rbf', 'poly' and 'sigmoid'.\n",
      " |  \n",
      " |      - if ``gamma='scale'`` (default) is passed then it uses\n",
      " |        1 / (n_features * X.var()) as value of gamma,\n",
      " |      - if 'auto', uses 1 / n_features.\n",
      " |  \n",
      " |      .. versionchanged:: 0.22\n",
      " |         The default value of ``gamma`` changed from 'auto' to 'scale'.\n",
      " |  \n",
      " |  coef0 : float, default=0.0\n",
      " |      Independent term in kernel function.\n",
      " |      It is only significant in 'poly' and 'sigmoid'.\n",
      " |  \n",
      " |  tol : float, default=1e-3\n",
      " |      Tolerance for stopping criterion.\n",
      " |  \n",
      " |  nu : float, default=0.5\n",
      " |      An upper bound on the fraction of training\n",
      " |      errors and a lower bound of the fraction of support\n",
      " |      vectors. Should be in the interval (0, 1]. By default 0.5\n",
      " |      will be taken.\n",
      " |  \n",
      " |  shrinking : bool, default=True\n",
      " |      Whether to use the shrinking heuristic.\n",
      " |      See the :ref:`User Guide <shrinking_svm>`.\n",
      " |  \n",
      " |  cache_size : float, default=200\n",
      " |      Specify the size of the kernel cache (in MB).\n",
      " |  \n",
      " |  verbose : bool, default=False\n",
      " |      Enable verbose output. Note that this setting takes advantage of a\n",
      " |      per-process runtime setting in libsvm that, if enabled, may not work\n",
      " |      properly in a multithreaded context.\n",
      " |  \n",
      " |  max_iter : int, default=-1\n",
      " |      Hard limit on iterations within solver, or -1 for no limit.\n",
      " |  \n",
      " |  Attributes\n",
      " |  ----------\n",
      " |  class_weight_ : ndarray of shape (n_classes,)\n",
      " |      Multipliers of parameter C for each class.\n",
      " |      Computed based on the ``class_weight`` parameter.\n",
      " |  \n",
      " |  coef_ : ndarray of shape (1, n_features)\n",
      " |      Weights assigned to the features (coefficients in the primal\n",
      " |      problem). This is only available in the case of a linear kernel.\n",
      " |  \n",
      " |      `coef_` is readonly property derived from `dual_coef_` and\n",
      " |      `support_vectors_`.\n",
      " |  \n",
      " |  dual_coef_ : ndarray of shape (1, n_SV)\n",
      " |      Coefficients of the support vectors in the decision function.\n",
      " |  \n",
      " |  fit_status_ : int\n",
      " |      0 if correctly fitted, 1 otherwise (will raise warning)\n",
      " |  \n",
      " |  intercept_ : ndarray of shape (1,)\n",
      " |      Constant in the decision function.\n",
      " |  \n",
      " |  n_support_ : ndarray of shape (n_classes,), dtype=int32\n",
      " |      Number of support vectors for each class.\n",
      " |  \n",
      " |  offset_ : float\n",
      " |      Offset used to define the decision function from the raw scores.\n",
      " |      We have the relation: decision_function = score_samples - `offset_`.\n",
      " |      The offset is the opposite of `intercept_` and is provided for\n",
      " |      consistency with other outlier detection algorithms.\n",
      " |  \n",
      " |      .. versionadded:: 0.20\n",
      " |  \n",
      " |  shape_fit_ : tuple of int of shape (n_dimensions_of_X,)\n",
      " |      Array dimensions of training vector ``X``.\n",
      " |  \n",
      " |  support_ : ndarray of shape (n_SV,)\n",
      " |      Indices of support vectors.\n",
      " |  \n",
      " |  support_vectors_ : ndarray of shape (n_SV, n_features)\n",
      " |      Support vectors.\n",
      " |  \n",
      " |  Examples\n",
      " |  --------\n",
      " |  >>> from sklearn.svm import OneClassSVM\n",
      " |  >>> X = [[0], [0.44], [0.45], [0.46], [1]]\n",
      " |  >>> clf = OneClassSVM(gamma='auto').fit(X)\n",
      " |  >>> clf.predict(X)\n",
      " |  array([-1,  1,  1,  1, -1])\n",
      " |  >>> clf.score_samples(X)\n",
      " |  array([1.7798..., 2.0547..., 2.0556..., 2.0561..., 1.7332...])\n",
      " |  \n",
      " |  Method resolution order:\n",
      " |      OneClassSVM\n",
      " |      sklearn.base.OutlierMixin\n",
      " |      sklearn.svm._base.BaseLibSVM\n",
      " |      sklearn.base.BaseEstimator\n",
      " |      builtins.object\n",
      " |  \n",
      " |  Methods defined here:\n",
      " |  \n",
      " |  __init__(self, *, kernel='rbf', degree=3, gamma='scale', coef0=0.0, tol=0.001, nu=0.5, shrinking=True, cache_size=200, verbose=False, max_iter=-1)\n",
      " |      Initialize self.  See help(type(self)) for accurate signature.\n",
      " |  \n",
      " |  decision_function(self, X)\n",
      " |      Signed distance to the separating hyperplane.\n",
      " |      \n",
      " |      Signed distance is positive for an inlier and negative for an outlier.\n",
      " |      \n",
      " |      Parameters\n",
      " |      ----------\n",
      " |      X : array-like of shape (n_samples, n_features)\n",
      " |          The data matrix.\n",
      " |      \n",
      " |      Returns\n",
      " |      -------\n",
      " |      dec : ndarray of shape (n_samples,)\n",
      " |          Returns the decision function of the samples.\n",
      " |  \n",
      " |  fit(self, X, y=None, sample_weight=None, **params)\n",
      " |      Detects the soft boundary of the set of samples X.\n",
      " |      \n",
      " |      Parameters\n",
      " |      ----------\n",
      " |      X : {array-like, sparse matrix} of shape (n_samples, n_features)\n",
      " |          Set of samples, where n_samples is the number of samples and\n",
      " |          n_features is the number of features.\n",
      " |      \n",
      " |      sample_weight : array-like of shape (n_samples,), default=None\n",
      " |          Per-sample weights. Rescale C per sample. Higher weights\n",
      " |          force the classifier to put more emphasis on these points.\n",
      " |      \n",
      " |      y : Ignored\n",
      " |          not used, present for API consistency by convention.\n",
      " |      \n",
      " |      Returns\n",
      " |      -------\n",
      " |      self : object\n",
      " |      \n",
      " |      Notes\n",
      " |      -----\n",
      " |      If X is not a C-ordered contiguous array it is copied.\n",
      " |  \n",
      " |  predict(self, X)\n",
      " |      Perform classification on samples in X.\n",
      " |      \n",
      " |      For a one-class model, +1 or -1 is returned.\n",
      " |      \n",
      " |      Parameters\n",
      " |      ----------\n",
      " |      X : {array-like, sparse matrix} of shape (n_samples, n_features) or                 (n_samples_test, n_samples_train)\n",
      " |          For kernel=\"precomputed\", the expected shape of X is\n",
      " |          (n_samples_test, n_samples_train).\n",
      " |      \n",
      " |      Returns\n",
      " |      -------\n",
      " |      y_pred : ndarray of shape (n_samples,)\n",
      " |          Class labels for samples in X.\n",
      " |  \n",
      " |  score_samples(self, X)\n",
      " |      Raw scoring function of the samples.\n",
      " |      \n",
      " |      Parameters\n",
      " |      ----------\n",
      " |      X : array-like of shape (n_samples, n_features)\n",
      " |          The data matrix.\n",
      " |      \n",
      " |      Returns\n",
      " |      -------\n",
      " |      score_samples : ndarray of shape (n_samples,)\n",
      " |          Returns the (unshifted) scoring function of the samples.\n",
      " |  \n",
      " |  ----------------------------------------------------------------------\n",
      " |  Readonly properties defined here:\n",
      " |  \n",
      " |  probA_\n",
      " |  \n",
      " |  probB_\n",
      " |  \n",
      " |  ----------------------------------------------------------------------\n",
      " |  Data and other attributes defined here:\n",
      " |  \n",
      " |  __abstractmethods__ = frozenset()\n",
      " |  \n",
      " |  ----------------------------------------------------------------------\n",
      " |  Methods inherited from sklearn.base.OutlierMixin:\n",
      " |  \n",
      " |  fit_predict(self, X, y=None)\n",
      " |      Perform fit on X and returns labels for X.\n",
      " |      \n",
      " |      Returns -1 for outliers and 1 for inliers.\n",
      " |      \n",
      " |      Parameters\n",
      " |      ----------\n",
      " |      X : {array-like, sparse matrix, dataframe} of shape             (n_samples, n_features)\n",
      " |      \n",
      " |      y : Ignored\n",
      " |          Not used, present for API consistency by convention.\n",
      " |      \n",
      " |      Returns\n",
      " |      -------\n",
      " |      y : ndarray of shape (n_samples,)\n",
      " |          1 for inliers, -1 for outliers.\n",
      " |  \n",
      " |  ----------------------------------------------------------------------\n",
      " |  Data descriptors inherited from sklearn.base.OutlierMixin:\n",
      " |  \n",
      " |  __dict__\n",
      " |      dictionary for instance variables (if defined)\n",
      " |  \n",
      " |  __weakref__\n",
      " |      list of weak references to the object (if defined)\n",
      " |  \n",
      " |  ----------------------------------------------------------------------\n",
      " |  Readonly properties inherited from sklearn.svm._base.BaseLibSVM:\n",
      " |  \n",
      " |  coef_\n",
      " |  \n",
      " |  n_support_\n",
      " |  \n",
      " |  ----------------------------------------------------------------------\n",
      " |  Methods inherited from sklearn.base.BaseEstimator:\n",
      " |  \n",
      " |  __getstate__(self)\n",
      " |  \n",
      " |  __repr__(self, N_CHAR_MAX=700)\n",
      " |      Return repr(self).\n",
      " |  \n",
      " |  __setstate__(self, state)\n",
      " |  \n",
      " |  get_params(self, deep=True)\n",
      " |      Get parameters for this estimator.\n",
      " |      \n",
      " |      Parameters\n",
      " |      ----------\n",
      " |      deep : bool, default=True\n",
      " |          If True, will return the parameters for this estimator and\n",
      " |          contained subobjects that are estimators.\n",
      " |      \n",
      " |      Returns\n",
      " |      -------\n",
      " |      params : dict\n",
      " |          Parameter names mapped to their values.\n",
      " |  \n",
      " |  set_params(self, **params)\n",
      " |      Set the parameters of this estimator.\n",
      " |      \n",
      " |      The method works on simple estimators as well as on nested objects\n",
      " |      (such as :class:`~sklearn.pipeline.Pipeline`). The latter have\n",
      " |      parameters of the form ``<component>__<parameter>`` so that it's\n",
      " |      possible to update each component of a nested object.\n",
      " |      \n",
      " |      Parameters\n",
      " |      ----------\n",
      " |      **params : dict\n",
      " |          Estimator parameters.\n",
      " |      \n",
      " |      Returns\n",
      " |      -------\n",
      " |      self : estimator instance\n",
      " |          Estimator instance.\n",
      "\n"
     ]
    }
   ],
   "source": [
    "help(svm.OneClassSVM)"
   ]
  },
  {
   "cell_type": "markdown",
   "metadata": {},
   "source": [
    "### Make Prediction on 3 data sets, i.e. training, test and outliers data sets"
   ]
  },
  {
   "cell_type": "markdown",
   "metadata": {},
   "source": [
    "### 1. training (normal)"
   ]
  },
  {
   "cell_type": "code",
   "execution_count": 79,
   "metadata": {},
   "outputs": [
    {
     "data": {
      "text/plain": [
       "array([ 1,  1,  1,  1,  1,  1,  1,  1,  1,  1, -1,  1,  1,  1,  1,  1,  1,\n",
       "        1,  1,  1,  1,  1,  1,  1,  1,  1,  1,  1,  1,  1,  1,  1, -1,  1,\n",
       "        1,  1,  1,  1,  1,  1,  1,  1, -1,  1,  1,  1,  1,  1,  1,  1,  1,\n",
       "        1,  1,  1,  1,  1,  1,  1,  1,  1, -1,  1,  1,  1,  1,  1,  1,  1,\n",
       "        1,  1,  1,  1,  1,  1,  1,  1,  1,  1,  1,  1,  1,  1,  1,  1,  1,\n",
       "        1,  1,  1,  1,  1,  1,  1,  1,  1,  1,  1,  1,  1,  1,  1,  1,  1,\n",
       "        1,  1,  1,  1,  1,  1,  1,  1,  1,  1,  1, -1,  1,  1,  1,  1,  1,\n",
       "        1,  1,  1,  1,  1,  1,  1,  1,  1,  1,  1,  1,  1, -1,  1,  1,  1,\n",
       "        1,  1,  1,  1,  1,  1, -1,  1,  1,  1,  1,  1,  1,  1,  1, -1,  1,\n",
       "        1,  1,  1,  1,  1,  1,  1,  1,  1,  1,  1,  1,  1,  1,  1,  1,  1,\n",
       "        1,  1,  1,  1,  1,  1,  1,  1,  1,  1,  1,  1,  1,  1,  1,  1,  1,\n",
       "        1,  1,  1,  1,  1,  1,  1,  1,  1,  1,  1,  1,  1], dtype=int64)"
      ]
     },
     "execution_count": 79,
     "metadata": {},
     "output_type": "execute_result"
    }
   ],
   "source": [
    "y_pred_train = clf.predict(X_train)   # CLOSE TEST, i.e. predict the training data using the model\n",
    "y_pred_train"
   ]
  },
  {
   "cell_type": "markdown",
   "metadata": {},
   "source": [
    "### Examples are considered as outliers if their predicted labels are -1 \n",
    "### In other words, training model represents normal distribution, so they should be labeled 1"
   ]
  },
  {
   "cell_type": "code",
   "execution_count": 80,
   "metadata": {},
   "outputs": [
    {
     "data": {
      "text/plain": [
       "8"
      ]
     },
     "execution_count": 80,
     "metadata": {},
     "output_type": "execute_result"
    }
   ],
   "source": [
    "# If prediction result is -1, meaning error. \n",
    "# Default label for training a One Class SVM is 1\n",
    "n_error_train = y_pred_train[y_pred_train == -1].size\n",
    "n_error_train"
   ]
  },
  {
   "cell_type": "markdown",
   "metadata": {},
   "source": [
    "### 2. Test (normal)"
   ]
  },
  {
   "cell_type": "code",
   "execution_count": 81,
   "metadata": {},
   "outputs": [
    {
     "data": {
      "text/plain": [
       "array([ 1,  1,  1,  1,  1,  1,  1,  1,  1,  1,  1,  1,  1,  1,  1,  1,  1,\n",
       "        1,  1,  1,  1,  1,  1,  1, -1,  1,  1,  1,  1,  1,  1,  1,  1,  1,\n",
       "        1,  1,  1,  1,  1,  1], dtype=int64)"
      ]
     },
     "execution_count": 81,
     "metadata": {},
     "output_type": "execute_result"
    }
   ],
   "source": [
    "y_pred_test = clf.predict(X_test)  # Predict the test set (following normal distribution)\n",
    "y_pred_test"
   ]
  },
  {
   "cell_type": "code",
   "execution_count": 82,
   "metadata": {},
   "outputs": [
    {
     "data": {
      "text/plain": [
       "1"
      ]
     },
     "execution_count": 82,
     "metadata": {},
     "output_type": "execute_result"
    }
   ],
   "source": [
    "# If prediction result is -1, meaning error. \n",
    "# Default label for training a One Class SVM is 1\n",
    "n_error_test = y_pred_test[y_pred_test == -1].size\n",
    "n_error_test"
   ]
  },
  {
   "cell_type": "markdown",
   "metadata": {},
   "source": [
    "### 3. outlier (uniform distribution)"
   ]
  },
  {
   "cell_type": "code",
   "execution_count": 83,
   "metadata": {},
   "outputs": [
    {
     "data": {
      "text/plain": [
       "array([-1, -1, -1, -1, -1, -1, -1, -1, -1, -1, -1, -1, -1, -1, -1, -1, -1,\n",
       "       -1, -1, -1], dtype=int64)"
      ]
     },
     "execution_count": 83,
     "metadata": {},
     "output_type": "execute_result"
    }
   ],
   "source": [
    "y_pred_outliers = clf.predict(X_outliers)   \n",
    "# Predict the outlier examples (following uniform distribution)\n",
    "y_pred_outliers"
   ]
  },
  {
   "cell_type": "code",
   "execution_count": 84,
   "metadata": {},
   "outputs": [
    {
     "data": {
      "text/plain": [
       "0"
      ]
     },
     "execution_count": 84,
     "metadata": {},
     "output_type": "execute_result"
    }
   ],
   "source": [
    "# Default label for training a One Class SVM is 1\n",
    "# Note for the outliers (different distributions), \n",
    "# their labels are supposed different from the training, i.e. should be -1\n",
    "# So, if we predict them as class 1, then means error. \n",
    "# If we predict them as class -1, then our predictions are correct\n",
    "n_error_outliers = y_pred_outliers[y_pred_outliers == 1].size\n",
    "n_error_outliers"
   ]
  },
  {
   "cell_type": "markdown",
   "metadata": {},
   "source": [
    "## It means we identify outliers correctly (all outliers)"
   ]
  },
  {
   "cell_type": "markdown",
   "metadata": {},
   "source": [
    "Next, we try to viualize all the data generated "
   ]
  },
  {
   "cell_type": "code",
   "execution_count": 85,
   "metadata": {},
   "outputs": [
    {
     "data": {
      "image/png": "[encoded data removed]",
      "text/plain": [
       "<Figure size 432x288 with 1 Axes>"
      ]
     },
     "metadata": {
      "needs_background": "light"
     },
     "output_type": "display_data"
    }
   ],
   "source": [
    "# plot the line, the points, and the nearest vectors to the plane\n",
    "Z = clf.decision_function(np.c_[xx.ravel(), yy.ravel()])\n",
    "Z = Z.reshape(xx.shape)\n",
    "\n",
    "plt.title(\"Novelty Detection\")\n",
    "plt.contourf(xx, yy, Z, levels=np.linspace(Z.min(), 0, 7), cmap=plt.cm.Blues_r)\n",
    "a = plt.contour(xx, yy, Z, levels=[0], linewidths=2, colors='red')\n",
    "plt.contourf(xx, yy, Z, levels=[0, Z.max()], colors='orange')\n",
    "\n",
    "b1 = plt.scatter(X_train[:, 0], X_train[:, 1], c='white')\n",
    "b2 = plt.scatter(X_test[:, 0], X_test[:, 1], c='green')\n",
    "c = plt.scatter(X_outliers[:, 0], X_outliers[:, 1], c='red')\n",
    "plt.axis('tight')\n",
    "plt.xlim((-5, 5))\n",
    "plt.ylim((-5, 5))\n",
    "plt.legend([a.collections[0], b1, b2, c],\n",
    "           [\"learned frontier\", \"training observations\",\n",
    "            \"new regular observations\", \"new abnormal observations\"],\n",
    "           loc=\"upper left\",\n",
    "           prop=matplotlib.font_manager.FontProperties(size=11))\n",
    "plt.xlabel(\n",
    "    \"error train: %d/200 ; errors novel regular: %d/40 ; \"\n",
    "    \"errors novel abnormal: %d/40\"\n",
    "    % (n_error_train, n_error_test, n_error_outliers))\n",
    "plt.show()"
   ]
  },
  {
   "cell_type": "markdown",
   "metadata": {},
   "source": [
    "Examples following normal distribution will be centerred around (-2, -2) and (2, 2)\n",
    "Examples following uniform distrubion could be anywhere [-4, 4]"
   ]
  },
  {
   "cell_type": "markdown",
   "metadata": {},
   "source": [
    "### One classSVM will not try to classify all training examples correctly, although it aims to classify majarity training examples correctly.  "
   ]
  },
  {
   "cell_type": "markdown",
   "metadata": {
    "collapsed": true
   },
   "source": [
    "# One Class SVM Classifier can be used for anormaly detection, although it may not be always accurate"
   ]
  },
  {
   "cell_type": "markdown",
   "metadata": {},
   "source": [
    "# Homework: You can tune different nu value and see how it affects the results"
   ]
  }
 ],
 "metadata": {
  "kernelspec": {
   "display_name": "Python 3",
   "language": "python",
   "name": "python3"
  },
  "language_info": {
   "codemirror_mode": {
    "name": "ipython",
    "version": 3
   },
   "file_extension": ".py",
   "mimetype": "text/x-python",
   "name": "python",
   "nbconvert_exporter": "python",
   "pygments_lexer": "ipython3",
   "version": "3.8.8"
  }
 },
 "nbformat": 4,
 "nbformat_minor": 1
}
